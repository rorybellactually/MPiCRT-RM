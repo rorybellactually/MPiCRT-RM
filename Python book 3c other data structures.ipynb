{
 "cells": [
  {
   "cell_type": "markdown",
   "metadata": {},
   "source": [
    "# <b>Book 3, part C - Other data structures\n",
    "****"
   ]
  },
  {
   "cell_type": "markdown",
   "metadata": {},
   "source": [
    "We have learnt how to store single values in a variable. However, we sometimes would need to store a group of variables together.  \n",
    "\n",
    "Let's run a basic example here. You want to keep track of what you have in your fridge.  For that you could create several variables with the number of item for each category. \n",
    "\n",
    "Imagine you have\n",
    "1.5 liters of milk, 100g of butter, 3 eggs (is the fridge the right place?), half a lemon and half an onion from  yesterday's meal. How would you represent that in variables?\n"
   ]
  },
  {
   "cell_type": "code",
   "execution_count": 1,
   "metadata": {},
   "outputs": [],
   "source": [
    "# some example here:\n",
    "milk = 1.5 # liters\n",
    "lemon = 0.5 # the little piece after yesterday's salad\n",
    "\n",
    "# add the rest of the items plus some of your favourite thing with a made-up value in this theoretical refrigerator\n"
   ]
  },
  {
   "cell_type": "markdown",
   "metadata": {},
   "source": [
    "The problem here is that we have the data stored all around the place... So instead, we could keep all this data together. For this, you can use lists, dictionaries and sets. "
   ]
  },
  {
   "cell_type": "markdown",
   "metadata": {},
   "source": [
    "### Part 1: Lists\n",
    "\n",
    "Lists keep a collection of elements. The content of a list can be changed during execution, and that is why you will find text mentioning that lists are 'mutable'. \n",
    "\n",
    "Let's create a list with all items we have above. For this we use square brackets:"
   ]
  },
  {
   "cell_type": "code",
   "execution_count": null,
   "metadata": {},
   "outputs": [],
   "source": [
    "# We can create a list of items using strings\n",
    "fridge_content_as_a_list = ['milk', 'butter', 'egg', 'lemon', 'onion'] \n",
    "print(fridge_content_as_a_list)"
   ]
  },
  {
   "cell_type": "markdown",
   "metadata": {},
   "source": [
    "All elements are kept in order, and different elements of a list can be accessed by integer indices where the first element of a list has the index of 0."
   ]
  },
  {
   "cell_type": "code",
   "execution_count": null,
   "metadata": {},
   "outputs": [],
   "source": [
    "print(fridge_content_as_a_list[0])"
   ]
  },
  {
   "cell_type": "markdown",
   "metadata": {},
   "source": [
    "<div class=\"alert alert-success\"> Try accessing other items... for example, what index would you use to access 'egg'? </div>"
   ]
  },
  {
   "cell_type": "code",
   "execution_count": null,
   "metadata": {},
   "outputs": [],
   "source": [
    "# change the index, originally in zero, until you see 'egg'\n",
    "print(fridge_content_as_a_list[0])\n",
    "\n",
    "# ... and what about 'onion'?\n",
    "print(fridge_content_as_a_list[0])"
   ]
  },
  {
   "cell_type": "code",
   "execution_count": null,
   "metadata": {},
   "outputs": [],
   "source": [
    "# we can change the content of the element in position 1 (butter) for margarine for example:\n",
    "print(fridge_content_as_a_list[1])\n",
    "fridge_content_as_a_list[1] = 'margarine'\n",
    "print(fridge_content_as_a_list[1])"
   ]
  },
  {
   "cell_type": "markdown",
   "metadata": {},
   "source": [
    "You can do a lot of things to a list. You can add/remove a elements, you can join two lists together, etc.  See the code below for some examples:"
   ]
  },
  {
   "cell_type": "code",
   "execution_count": null,
   "metadata": {},
   "outputs": [],
   "source": [
    "fridge_content_as_a_list.append('pizza left-over') # tomorrow's lunch!\n",
    "print(fridge_content_as_a_list)"
   ]
  },
  {
   "cell_type": "code",
   "execution_count": null,
   "metadata": {},
   "outputs": [],
   "source": [
    "fridge_content_as_a_list.remove('milk') # past its date... let's take the milk out\n",
    "print(fridge_content_as_a_list)"
   ]
  },
  {
   "cell_type": "markdown",
   "metadata": {},
   "source": [
    "We can even add repeated values and count them:"
   ]
  },
  {
   "cell_type": "code",
   "execution_count": null,
   "metadata": {},
   "outputs": [],
   "source": [
    "fridge_content_as_a_list.append('lemon') # we got a lemon for free! we can repeat the value in the list\n",
    "print(fridge_content_as_a_list)\n",
    "\n",
    "how_many_lemons = fridge_content_as_a_list.count('lemon')\n",
    "print(how_many_lemons)"
   ]
  },
  {
   "cell_type": "markdown",
   "metadata": {},
   "source": [
    "<div class=\"alert alert-success\">  Create a new list with other items that you would keep in our theorical fridge and store it in a variable called in_shopping_bag. \n",
    "\n",
    "TODO: add a lemon you got for free!</div> "
   ]
  },
  {
   "cell_type": "code",
   "execution_count": 13,
   "metadata": {},
   "outputs": [],
   "source": [
    "in_shopping_bag "
   ]
  },
  {
   "cell_type": "markdown",
   "metadata": {},
   "source": [
    "Now, we can join both lists:"
   ]
  },
  {
   "cell_type": "code",
   "execution_count": null,
   "metadata": {},
   "outputs": [],
   "source": [
    "fridge_content_as_a_list.extend(in_shopping_bag)\n",
    "print(fridge_content_as_a_list)\n"
   ]
  },
  {
   "cell_type": "markdown",
   "metadata": {},
   "source": [
    "You can use for many different purposes: for examples as stacks or queues.  You can also have lists of lists (to create matrices).  This and more, you can learn in https://docs.python.org/dev/tutorial/datastructures.html#more-on-lists and https://docs.python.org/3/library/stdtypes.html#lists"
   ]
  },
  {
   "cell_type": "markdown",
   "metadata": {},
   "source": [
    "#### Part 2 - Sets\n",
    "\n",
    "Sets also keep a collection of elements. Two main differences between sets and lists, is that sets do not allow repeated elements, and the elements are kept in no specific order. Sets are also 'mutable'... Do you remember what is that?  If not, just read the bit introducing lists above.\n",
    "\n",
    "Let's create a set with the content of the refrigerator again, and test what happens when we repeat values:"
   ]
  },
  {
   "cell_type": "code",
   "execution_count": null,
   "metadata": {},
   "outputs": [],
   "source": [
    "new_fridge_content_as_a_list = ['milk', 'lemon', 'pizza left-over', 'lemon']  \n",
    "new_fridge_content_as_a_set = {'milk', 'lemon', 'pizza left-over', 'lemon'} \n",
    "\n",
    "print(new_fridge_content_as_a_list)\n",
    "print(new_fridge_content_as_a_set)"
   ]
  },
  {
   "cell_type": "markdown",
   "metadata": {},
   "source": [
    "<div class=\"alert alert-success\">  What was the difference between the list and the set above?? </div>"
   ]
  },
  {
   "cell_type": "markdown",
   "metadata": {},
   "source": [
    "As sets are not ordered, so you can not access the items like the list. Try the following cell to see the error message you would get if you did this in a set:"
   ]
  },
  {
   "cell_type": "code",
   "execution_count": null,
   "metadata": {},
   "outputs": [],
   "source": [
    "print(new_fridge_content_as_a_list[0]) # this one works, right?\n",
    "print(new_fridge_content_as_a_set[0])  # Does this? "
   ]
  },
  {
   "cell_type": "markdown",
   "metadata": {},
   "source": [
    "Sets are very efficient in checking whether a specific element is contained in a set (faster than lists).\n",
    "\n"
   ]
  },
  {
   "cell_type": "code",
   "execution_count": null,
   "metadata": {},
   "outputs": [],
   "source": [
    "print('lemon' in new_fridge_content_as_a_set)"
   ]
  },
  {
   "cell_type": "markdown",
   "metadata": {},
   "source": [
    "Like sets in mathematics, Python sets support union, intersection, differences. \n",
    "Let's make a second set, similar to the one above, in_shopping_bag and play with set operations"
   ]
  },
  {
   "cell_type": "code",
   "execution_count": 31,
   "metadata": {},
   "outputs": [],
   "source": [
    "in_shopping_bag = {'lemon', 'sour cream', 'cheese'}  # notice we are overwriting this variable! "
   ]
  },
  {
   "cell_type": "code",
   "execution_count": null,
   "metadata": {},
   "outputs": [],
   "source": [
    "# all items together? -- Union. \n",
    "# There are two ways to do it:\n",
    "a = in_shopping_bag.union(new_fridge_content_as_a_set) # this \n",
    "b = in_shopping_bag | new_fridge_content_as_a_set      \n",
    "print(a)\n",
    "print(b)"
   ]
  },
  {
   "cell_type": "code",
   "execution_count": null,
   "metadata": {},
   "outputs": [],
   "source": [
    "# what items are both in the shopping bag and in the fridge? -- Intersection\n",
    "# There are two ways to do it:\n",
    "a = in_shopping_bag.intersection(new_fridge_content_as_a_set)\n",
    "b = in_shopping_bag & new_fridge_content_as_a_set\n",
    "print(a)\n",
    "print(b)"
   ]
  },
  {
   "cell_type": "code",
   "execution_count": null,
   "metadata": {},
   "outputs": [],
   "source": [
    "# what is in the shopping bag but not in the fridge? -- Difference\n",
    "# ... surely you guessed... there are 2 ways to do it:\n",
    "a = in_shopping_bag.difference(new_fridge_content_as_a_set)\n",
    "b = in_shopping_bag - new_fridge_content_as_a_set\n",
    "print(a)\n",
    "print(b)"
   ]
  },
  {
   "cell_type": "markdown",
   "metadata": {},
   "source": [
    "<div class=\"alert alert-success\">  Would it give you the same answer if you change the order in the difference, union and intersection?  Give it a try: </div>"
   ]
  },
  {
   "cell_type": "code",
   "execution_count": null,
   "metadata": {},
   "outputs": [],
   "source": [
    "# copy the line for union, intersection and difference and change the order of the variables... \n",
    "# Which one give you the same result? which one not? \n",
    "\n",
    "\n"
   ]
  },
  {
   "cell_type": "markdown",
   "metadata": {},
   "source": [
    "You can also create sets from other collections, such as lists: "
   ]
  },
  {
   "cell_type": "code",
   "execution_count": null,
   "metadata": {},
   "outputs": [],
   "source": [
    "old_fridge_content_as_a_set = set(fridge_content_as_a_list) # do you remember the fridge of the first exercise?\n",
    "print(fridge_content_as_a_list)\n",
    "print(old_fridge_content_as_a_set)"
   ]
  },
  {
   "cell_type": "code",
   "execution_count": null,
   "metadata": {},
   "outputs": [],
   "source": [
    "\n",
    "items_not_for_the_fridge = set(['garlic','biscuits','salt','salt','salt'])\n",
    "print(items_not_for_the_fridge)"
   ]
  },
  {
   "cell_type": "markdown",
   "metadata": {},
   "source": [
    "You can do other operations in sets.  Check https://docs.python.org/dev/tutorial/datastructures.html#sets  or https://docs.python.org/3/library/stdtypes.html#set "
   ]
  },
  {
   "cell_type": "markdown",
   "metadata": {},
   "source": [
    "#### Part 3 - Dictionaries\n",
    "Up to know we have been keeping track of what we have in the fridge, but not their quantities (as we suggested in the introduction of this book).  With dictionaries, we can solve that!\n",
    "\n",
    "Dictionaries in Python are very similar to real-life (word-definition) dictionaries. They collect elements, where each element is identified with a *key* and has an associated *value*. They are also referred to as 'associative arrays', as it associates a *value* to a given *key*."
   ]
  },
  {
   "cell_type": "markdown",
   "metadata": {},
   "source": [
    "Let's use the name of the item in the fridge as a key, and their quantity as the value.  \n",
    "\n",
    "Let's remember what we originally had:\n",
    "- 1.5 liters of milk, \n",
    "- 100g of butter,\n",
    "- 3 eggs,\n",
    "- half a lemon,\n",
    "- half an onion."
   ]
  },
  {
   "cell_type": "markdown",
   "metadata": {},
   "source": [
    "\n",
    "Let's build a dictionary with this:"
   ]
  },
  {
   "cell_type": "code",
   "execution_count": 58,
   "metadata": {},
   "outputs": [
    {
     "name": "stdout",
     "output_type": "stream",
     "text": [
      "{'milk': 1.5, 'butter': 100, 'eggs': 3, 'lemon': 0.5, 'onion': 0.5}\n"
     ]
    }
   ],
   "source": [
    "fridge_content_as_a_dict = {'milk':1.5, 'butter':100, 'eggs':3, 'lemon':0.5,'onion':0.5}\n",
    "print(fridge_content_as_a_dict)"
   ]
  },
  {
   "cell_type": "markdown",
   "metadata": {},
   "source": [
    "The main operations on a dictionary are storing a value with some key and extracting the value given the key."
   ]
  },
  {
   "cell_type": "code",
   "execution_count": 59,
   "metadata": {},
   "outputs": [
    {
     "name": "stdout",
     "output_type": "stream",
     "text": [
      "1.5\n"
     ]
    }
   ],
   "source": [
    "print(fridge_content_as_a_dict['milk']) # getting the value of a key, here milk"
   ]
  },
  {
   "cell_type": "code",
   "execution_count": 61,
   "metadata": {},
   "outputs": [
    {
     "name": "stdout",
     "output_type": "stream",
     "text": [
      "{'milk': 1.5, 'butter': 100, 'eggs': 3, 'lemon': 0.5, 'onion': 0.5, 'left overs': 'pizza'}\n",
      "pizza\n"
     ]
    }
   ],
   "source": [
    "fridge_content_as_a_dict['left overs'] = 'pizza'\n",
    "print(fridge_content_as_a_dict)\n",
    "print(fridge_content_as_a_dict['left overs'])"
   ]
  },
  {
   "cell_type": "markdown",
   "metadata": {},
   "source": [
    "A very important property for the keys is that they need to be unique!  If we use a key again, the value will simply be overwritten:"
   ]
  },
  {
   "cell_type": "code",
   "execution_count": 62,
   "metadata": {},
   "outputs": [
    {
     "name": "stdout",
     "output_type": "stream",
     "text": [
      "pasta\n"
     ]
    }
   ],
   "source": [
    "fridge_content_as_a_dict['left overs'] = 'pasta'\n",
    "print(fridge_content_as_a_dict['left overs'])"
   ]
  },
  {
   "cell_type": "markdown",
   "metadata": {},
   "source": [
    "And if we use a key not previously defined, we will get an error.  Check below to see what error message you would get if you try to access a non existing key:"
   ]
  },
  {
   "cell_type": "code",
   "execution_count": 64,
   "metadata": {},
   "outputs": [
    {
     "ename": "KeyError",
     "evalue": "'healthy food'",
     "output_type": "error",
     "traceback": [
      "\u001b[1;31m---------------------------------------------------------------------------\u001b[0m",
      "\u001b[1;31mKeyError\u001b[0m                                  Traceback (most recent call last)",
      "Cell \u001b[1;32mIn[64], line 1\u001b[0m\n\u001b[1;32m----> 1\u001b[0m \u001b[38;5;28mprint\u001b[39m(\u001b[43mfridge_content_as_a_dict\u001b[49m\u001b[43m[\u001b[49m\u001b[38;5;124;43m'\u001b[39;49m\u001b[38;5;124;43mhealthy food\u001b[39;49m\u001b[38;5;124;43m'\u001b[39;49m\u001b[43m]\u001b[49m)\n",
      "\u001b[1;31mKeyError\u001b[0m: 'healthy food'"
     ]
    }
   ],
   "source": [
    "print(fridge_content_as_a_dict['healthy food'])"
   ]
  },
  {
   "cell_type": "markdown",
   "metadata": {},
   "source": [
    "Keys can be of multiple types, but they should always be 'non-mutable'. For example:"
   ]
  },
  {
   "cell_type": "code",
   "execution_count": 66,
   "metadata": {},
   "outputs": [
    {
     "name": "stdout",
     "output_type": "stream",
     "text": [
      "{'milk': 1.5, 'butter': 100, 'eggs': 3, 'lemon': 0.5, 'onion': 0.5, 'left overs': 'pasta', 0: 'is a zero food?', True: 3.12}\n"
     ]
    }
   ],
   "source": [
    "fridge_content_as_a_dict[0] = 'is a zero food?'\n",
    "fridge_content_as_a_dict[True] = 3.12\n",
    "print(fridge_content_as_a_dict)"
   ]
  },
  {
   "cell_type": "markdown",
   "metadata": {},
   "source": [
    "And as with lists and sets, there are many things you can do with dictionaries.  Check https://docs.python.org/dev/tutorial/datastructures.html#dictionaries and https://docs.python.org/3/library/stdtypes.html#mapping-types-dict "
   ]
  },
  {
   "cell_type": "markdown",
   "metadata": {},
   "source": [
    "#### Part 4 - Tuples\n",
    "And last, but not least, are the tuples. Tuples contain ordered collections of elements, just like the lists... "
   ]
  },
  {
   "cell_type": "code",
   "execution_count": 68,
   "metadata": {},
   "outputs": [
    {
     "name": "stdout",
     "output_type": "stream",
     "text": [
      "lemon\n",
      "lemon\n"
     ]
    }
   ],
   "source": [
    "shopping_bag_as_a_list = ['lemon','garlic',0]\n",
    "shopping_bag_as_a_tuple = ('lemon','garlic',0)  # Notice what is the difference!\n",
    "\n",
    "print(shopping_bag_as_a_list[1])\n",
    "print(shopping_bag_as_a_tuple[1])"
   ]
  },
  {
   "cell_type": "markdown",
   "metadata": {},
   "source": [
    "... but unlike list, they are immutable.  This means that the content of a tuple cannot be changed after they have been defined!  Run the following cell to see the error message."
   ]
  },
  {
   "cell_type": "code",
   "execution_count": 69,
   "metadata": {},
   "outputs": [
    {
     "ename": "TypeError",
     "evalue": "'tuple' object does not support item assignment",
     "output_type": "error",
     "traceback": [
      "\u001b[1;31m---------------------------------------------------------------------------\u001b[0m",
      "\u001b[1;31mTypeError\u001b[0m                                 Traceback (most recent call last)",
      "Cell \u001b[1;32mIn[69], line 2\u001b[0m\n\u001b[0;32m      1\u001b[0m shopping_bag_as_a_list[\u001b[38;5;241m0\u001b[39m] \u001b[38;5;241m=\u001b[39m \u001b[38;5;124m'\u001b[39m\u001b[38;5;124mbread\u001b[39m\u001b[38;5;124m'\u001b[39m\n\u001b[1;32m----> 2\u001b[0m \u001b[43mshopping_bag_as_a_tuple\u001b[49m\u001b[43m[\u001b[49m\u001b[38;5;241;43m0\u001b[39;49m\u001b[43m]\u001b[49m \u001b[38;5;241m=\u001b[39m \u001b[38;5;124m'\u001b[39m\u001b[38;5;124mbread\u001b[39m\u001b[38;5;124m'\u001b[39m\n",
      "\u001b[1;31mTypeError\u001b[0m: 'tuple' object does not support item assignment"
     ]
    }
   ],
   "source": [
    "shopping_bag_as_a_list[0] = 'bread'\n",
    "shopping_bag_as_a_tuple[0] = 'bread'"
   ]
  },
  {
   "cell_type": "markdown",
   "metadata": {},
   "source": [
    "<div class=\"alert alert-success\">   Why would Python bother to define tuples?? That is an excellent question. \n",
    "\n",
    "Think about it (for example, think about the dictionary keys) and tell us what you think... or alternatively, google it ;-). </div>"
   ]
  },
  {
   "cell_type": "markdown",
   "metadata": {},
   "source": [
    "More information? \n",
    "https://docs.python.org/dev/tutorial/datastructures.html or https://docs.python.org/3/library/stdtypes.html "
   ]
  }
 ],
 "metadata": {
  "kernelspec": {
   "display_name": "Python 3",
   "language": "python",
   "name": "python3"
  },
  "language_info": {
   "codemirror_mode": {
    "name": "ipython",
    "version": 3
   },
   "file_extension": ".py",
   "mimetype": "text/x-python",
   "name": "python",
   "nbconvert_exporter": "python",
   "pygments_lexer": "ipython3",
   "version": "3.9.0"
  }
 },
 "nbformat": 4,
 "nbformat_minor": 2
}
