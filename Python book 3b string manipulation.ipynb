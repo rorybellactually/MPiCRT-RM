{
 "cells": [
  {
   "cell_type": "markdown",
   "metadata": {},
   "source": [
    "# <b>Book 3b - Variables: string manipulation\n",
    "****"
   ]
  },
  {
   "cell_type": "markdown",
   "metadata": {},
   "source": [
    "## Part 1 - Basics"
   ]
  },
  {
   "cell_type": "markdown",
   "metadata": {},
   "source": [
    "A string is a sequence of characters treated as a single unit in Python. They are defined with single **'  '** or double **\"  \"** quote marks, which are equivalent (but must match). For example:"
   ]
  },
  {
   "cell_type": "code",
   "execution_count": 1,
   "metadata": {},
   "outputs": [
    {
     "name": "stdout",
     "output_type": "stream",
     "text": [
      "This is a string!\n",
      "This is a string!\n"
     ]
    }
   ],
   "source": [
    "print('This is a string!')\n",
    "print(\"This is a string!\")"
   ]
  },
  {
   "cell_type": "markdown",
   "metadata": {},
   "source": [
    "Two different strings can be joined together, or concatenated, using the **+** operator; other operators have different effects. \n",
    "\n",
    "Note that the same operator is performing a different operation depending on the class it's acting on. Trying to combine operators on different types will often result in an TypeError. "
   ]
  },
  {
   "cell_type": "code",
   "execution_count": 6,
   "metadata": {},
   "outputs": [
    {
     "name": "stdout",
     "output_type": "stream",
     "text": [
      "This is a string which is now joined together with this second string!\n",
      "Rolling Rolling Rolling \n"
     ]
    }
   ],
   "source": [
    "print(\"This is a string \" + \"which is now joined together with this second string!\")\n",
    "print(\"Rolling \" * 3)"
   ]
  },
  {
   "cell_type": "markdown",
   "metadata": {},
   "source": [
    "Strings can also be stored in variables, which can be concatenated in the same way."
   ]
  },
  {
   "cell_type": "code",
   "execution_count": 7,
   "metadata": {},
   "outputs": [
    {
     "name": "stdout",
     "output_type": "stream",
     "text": [
      "This is a string which is now joined together with this second string!\n"
     ]
    }
   ],
   "source": [
    "string1 = \"This is a string \"\n",
    "string2 = \"which is now joined together with this second string!\"\n",
    "\n",
    "string3 = string1 + string2\n",
    "print(string3)"
   ]
  },
  {
   "cell_type": "markdown",
   "metadata": {},
   "source": [
    "Strings can also contain special characters, like inverted commas or quotation marks which may otherwise end the string. They are included by placing a backslash, '\\\\' before that character. (To type a backslash, two backslashes are required i.e., '\\\\\\\\')"
   ]
  },
  {
   "cell_type": "markdown",
   "metadata": {},
   "source": [
    "There exist pre-defined functions in Python which act on strings. One example is the **len()** function, which returns the length of a string.\n",
    "<br/><br/>\n",
    "**Note** this will count **all characters** in a string, including spaces and special characters. "
   ]
  },
  {
   "cell_type": "code",
   "execution_count": 8,
   "metadata": {},
   "outputs": [
    {
     "data": {
      "text/plain": [
       "17"
      ]
     },
     "execution_count": 8,
     "metadata": {},
     "output_type": "execute_result"
    }
   ],
   "source": [
    "# Here we are uising the strings defined in the above cell, you could try changing the variable name from string1\n",
    "# to string 2 or string3.\n",
    "len(string1)\n"
   ]
  },
  {
   "cell_type": "markdown",
   "metadata": {},
   "source": [
    "You can read more about built-in string methods <a href=\"https://www.w3schools.com/python/python_ref_string.asp\">here</a>."
   ]
  },
  {
   "cell_type": "markdown",
   "metadata": {},
   "source": [
    "## Part 2 - Slicing and indexing"
   ]
  },
  {
   "cell_type": "markdown",
   "metadata": {},
   "source": [
    "You can also index the different characters within the string, by specifying the position of the desired character. \n",
    "\n",
    "**Note**, In Python, as with most programming languages, counting (or <i>indexing</i>) starts from 0."
   ]
  },
  {
   "cell_type": "code",
   "execution_count": 6,
   "metadata": {},
   "outputs": [
    {
     "data": {
      "text/plain": [
       "'s'"
      ]
     },
     "execution_count": 6,
     "metadata": {},
     "output_type": "execute_result"
    }
   ],
   "source": [
    "# Try changing this number and see what happens. You can also change string1 to string 2 or string3\n",
    "# Remember, the spaces are part of the string, if you index a space you will print a space, try this and see\n",
    "# what happens (character 4 in string1 for example).\n",
    "\n",
    "string1[3]"
   ]
  },
  {
   "cell_type": "markdown",
   "metadata": {},
   "source": [
    "As well as accessing specific characters within a string, groups of characters can be accessed. This can be done by providing a <i>range</i> within the string, defined by a colon between two string positions. The second number is the charater to stop at—it will not be returned. \n",
    "<br/><br/>\n",
    "Try and change the range to access whole words within the string."
   ]
  },
  {
   "cell_type": "code",
   "execution_count": 9,
   "metadata": {},
   "outputs": [
    {
     "data": {
      "text/plain": [
       "'string'"
      ]
     },
     "execution_count": 9,
     "metadata": {},
     "output_type": "execute_result"
    }
   ],
   "source": [
    "string3[10:16]"
   ]
  },
  {
   "cell_type": "markdown",
   "metadata": {},
   "source": [
    "This technique is called **slicing**, i.e., you are slicing up your text. Try the following examples and see if you can figure out what each is indexing within our string.\n",
    "<br/><br/>\n",
    "Remember, string3 = \"This is a string which is now joined together with this second string!\""
   ]
  },
  {
   "cell_type": "code",
   "execution_count": 10,
   "metadata": {},
   "outputs": [
    {
     "name": "stdout",
     "output_type": "stream",
     "text": [
      "This is a string which is now joined together with this second string!\n",
      "!\n",
      "is a string which is now joined together with this second \n"
     ]
    }
   ],
   "source": [
    "print(string3[:])\n",
    "print(string3[-1])\n",
    "print(string3[5:-7])"
   ]
  },
  {
   "cell_type": "markdown",
   "metadata": {},
   "source": [
    "<font color = \"skyblue\"> \n",
    "In the box below, see how many ways you can extract the word 'string' from the variable string3 using variable slicing.\n",
    "</font>"
   ]
  },
  {
   "cell_type": "code",
   "execution_count": 11,
   "metadata": {},
   "outputs": [
    {
     "name": "stdout",
     "output_type": "stream",
     "text": [
      "This is a string which is now joined together with this second string!\n"
     ]
    }
   ],
   "source": [
    "print(string3[:])\n",
    "\n"
   ]
  },
  {
   "cell_type": "markdown",
   "metadata": {},
   "source": [
    "In the cell below, what type of variable do you think the numbers are? \n",
    "<br/><br/>\n",
    "Why don't you add a line to text your thoughts (**type()**)"
   ]
  },
  {
   "cell_type": "code",
   "execution_count": 13,
   "metadata": {},
   "outputs": [],
   "source": [
    "a = '456'\n",
    "\n"
   ]
  },
  {
   "cell_type": "markdown",
   "metadata": {},
   "source": [
    "If you enclose numbers within quotes then they are considered a striong by python and can be used as a string. Out of the two cells below, which do you think will work and which will give an error?"
   ]
  },
  {
   "cell_type": "code",
   "execution_count": 30,
   "metadata": {},
   "outputs": [
    {
     "ename": "NameError",
     "evalue": "name 'x' is not defined",
     "output_type": "error",
     "traceback": [
      "\u001b[1;31m---------------------------------------------------------------------------\u001b[0m",
      "\u001b[1;31mNameError\u001b[0m                                 Traceback (most recent call last)",
      "Cell \u001b[1;32mIn[30], line 1\u001b[0m\n\u001b[1;32m----> 1\u001b[0m \u001b[43mx\u001b[49m \u001b[38;5;241m+\u001b[39m \u001b[38;5;241m44\u001b[39m\n",
      "\u001b[1;31mNameError\u001b[0m: name 'x' is not defined"
     ]
    }
   ],
   "source": [
    "x + 7"
   ]
  },
  {
   "cell_type": "code",
   "execution_count": 14,
   "metadata": {},
   "outputs": [
    {
     "name": "stdout",
     "output_type": "stream",
     "text": [
      "This is a large number: 456\n"
     ]
    }
   ],
   "source": [
    "print('This is a large number: ' + a)"
   ]
  },
  {
   "cell_type": "markdown",
   "metadata": {},
   "source": [
    "We can tell python that a number is a string by using **str()**, thid is called typecasting."
   ]
  },
  {
   "cell_type": "code",
   "execution_count": 15,
   "metadata": {},
   "outputs": [
    {
     "name": "stdout",
     "output_type": "stream",
     "text": [
      "4567\n"
     ]
    }
   ],
   "source": [
    "print(a + str(7))\n"
   ]
  },
  {
   "cell_type": "markdown",
   "metadata": {},
   "source": [
    "## Part 3 - Working with strings"
   ]
  },
  {
   "cell_type": "markdown",
   "metadata": {},
   "source": [
    "There are a few different ways to display strings with a variable. The most common being using a comma or using a % symbol. For example:"
   ]
  },
  {
   "cell_type": "code",
   "execution_count": 16,
   "metadata": {},
   "outputs": [
    {
     "name": "stdout",
     "output_type": "stream",
     "text": [
      "Good morning Alan\n"
     ]
    }
   ],
   "source": [
    "name = 'Alan'\n",
    "\n",
    "print('Good morning',name)"
   ]
  },
  {
   "cell_type": "code",
   "execution_count": 36,
   "metadata": {},
   "outputs": [
    {
     "name": "stdout",
     "output_type": "stream",
     "text": [
      "Good morning Alan, what did you have for breakfast today?\n"
     ]
    }
   ],
   "source": [
    "name = 'Alan'\n",
    "\n",
    "print('Good morning %s, what did you have for breakfast today?' %name)"
   ]
  },
  {
   "cell_type": "markdown",
   "metadata": {},
   "source": [
    "**Note** the letter beside the % relates to the type of variable you are placing. **%s** is for a string. Some other examples would be:\n",
    "<li>%d, %i --> Integer</li>\n",
    "<li>%s     --> String </li>\n",
    "<li>%f, %g --> float</li>"
   ]
  },
  {
   "cell_type": "markdown",
   "metadata": {},
   "source": [
    "Strings also have certain **modifiers**, which changes how they are processed by the compiler. Prepending 'f' before a string allows code to be executed within a string, and 'r' will process the string as a raw character sequence. These can be combined, e.g. 'rf'. Read more <a href=\"http://docs.python.org/reference/lexical_analysis.html#strings\">here</a>. Don't worry too much about these for now."
   ]
  },
  {
   "cell_type": "code",
   "execution_count": 18,
   "metadata": {},
   "outputs": [
    {
     "name": "stdout",
     "output_type": "stream",
     "text": [
      "Good morning Alan, what did you have for breakfast today?\n"
     ]
    }
   ],
   "source": [
    "name = 'Alan'\n",
    "\n",
    "print(f'Good morning {name}, what did you have for breakfast today?')"
   ]
  },
  {
   "cell_type": "markdown",
   "metadata": {},
   "source": [
    "Another useful string operation is to find a string within a string. For example, you may want to find a specific keyword in a string. Here we want to find out is a patient recieved radiotherapy. The **.find()** returns the index of the start of the string used within the find function. The function stops executing after the first instance of the value is found: only the index of the first instance will be returned."
   ]
  },
  {
   "cell_type": "code",
   "execution_count": 24,
   "metadata": {},
   "outputs": [],
   "source": [
    "trt = 'The patient recieved radiotherapy as part of their treatment pathway.'"
   ]
  },
  {
   "cell_type": "code",
   "execution_count": 25,
   "metadata": {},
   "outputs": [
    {
     "data": {
      "text/plain": [
       "21"
      ]
     },
     "execution_count": 25,
     "metadata": {},
     "output_type": "execute_result"
    }
   ],
   "source": [
    "trt.find('radiotherapy')"
   ]
  },
  {
   "cell_type": "markdown",
   "metadata": {},
   "source": [
    "<font color = \"skyblue\"> \n",
    "Change the word in the function above and see what happens? What happens if you look for a work which isn't in the function? Is the find() function case sensitive?\n",
    "</font> "
   ]
  },
  {
   "cell_type": "markdown",
   "metadata": {},
   "source": [
    "You can also split a string based on a given **deliminter**, i.e., what you want to split a string with. For example, the **deliminter** could be a space, a comma, a tab, or any character, ...  (Try spliting on 'a' or 'e')\n",
    "<br/><br/>\n",
    "<i> Note that this finction will return a **list**, we will cover lists the following notebook.</i>"
   ]
  },
  {
   "cell_type": "code",
   "execution_count": 50,
   "metadata": {},
   "outputs": [
    {
     "name": "stdout",
     "output_type": "stream",
     "text": [
      "['The', 'patient', 'recieved', 'radiotherapy', 'as', 'part', 'of', 'their', 'treatment', 'pathway.']\n"
     ]
    }
   ],
   "source": [
    "words = trt.split(' ')\n",
    "print(words)\n",
    "\n"
   ]
  },
  {
   "cell_type": "markdown",
   "metadata": {},
   "source": [
    "We can also do the opposite and **.join()** two strings, which we will apply to our variable <i>words</i> above to recreate the original string."
   ]
  },
  {
   "cell_type": "code",
   "execution_count": 52,
   "metadata": {},
   "outputs": [
    {
     "name": "stdout",
     "output_type": "stream",
     "text": [
      "The patient recieved radiotherapy as part of their treatment pathway.\n"
     ]
    }
   ],
   "source": [
    "joined_string = ' '.join(words)\n",
    "print(joined_string)"
   ]
  },
  {
   "cell_type": "markdown",
   "metadata": {},
   "source": [
    "<font color = \"skyblue\"> \n",
    "The ' ' before .join() tells the function what to put between the entries in the list. Try changing it, you can but (almost) anything, or nothing, between the quotes.\n",
    "</font>"
   ]
  },
  {
   "cell_type": "code",
   "execution_count": 58,
   "metadata": {},
   "outputs": [
    {
     "name": "stdout",
     "output_type": "stream",
     "text": [
      "The patient recieved radiotherapy as part of their treatment pathway.\n"
     ]
    }
   ],
   "source": [
    "joined_string2 = ' '.join(words)\n",
    "print(joined_string2)"
   ]
  },
  {
   "cell_type": "markdown",
   "metadata": {},
   "source": [
    "Another useful function for strings is **.replace()**. As the name suggests, this will allow us to replace one part of a string with another string. Here we will put the section of string we want to replace first, followed by the new string to go in its place. \n",
    "\n",
    "In Python, strings are immutable, meaning they canot be changed. However, their label can be reassigned.\n",
    "\n",
    "For example, if our patient changed from radiotherapy to chemotherapy we could reassign the variable 'trt' as follows: "
   ]
  },
  {
   "cell_type": "code",
   "execution_count": 30,
   "metadata": {},
   "outputs": [
    {
     "name": "stdout",
     "output_type": "stream",
     "text": [
      "The patient recieved chemotherapy as part of their treatment pathway.\n"
     ]
    }
   ],
   "source": [
    "trt = 'The patient recieved radiotherapy as part of their treatment pathway.'\n",
    "trt = trt.replace('radiotherapy', 'chemotherapy')\n",
    "print(trt)"
   ]
  },
  {
   "cell_type": "markdown",
   "metadata": {},
   "source": [
    "<font color = \"skyblue\"> \n",
    "There are many more string opperations you will discover, try some of the following lines and see what happens. Also spend a little time looking at online resources to see what else you can do with strings. One resource to start with is the code academy cheat sheet for python strings here: <br/><br/>\n",
    "https://www.codecademy.com/learn/learn-python-3/modules/learn-python3-strings/cheatsheet\n",
    "\n",
    "</font>"
   ]
  },
  {
   "cell_type": "code",
   "execution_count": 73,
   "metadata": {},
   "outputs": [
    {
     "name": "stdout",
     "output_type": "stream",
     "text": [
      "radiotherapy\n",
      "RADIOTHERAPY\n",
      "True\n",
      "False\n",
      "False\n",
      "True\n",
      "False\n"
     ]
    }
   ],
   "source": [
    "txt = 'radiotherapy'\n",
    "print(txt.lower())  # changes all letters to lower case\n",
    "print(txt.upper())  # changes all letters to upper case\n",
    "print(txt.isalpha()) # checks if text only contains characters\n",
    "print(txt.isdigit()) # checks if text only contains numbers\n",
    "print(txt.isspace()) # checks is text is a space\n",
    "print(txt.startswith('r')) # checks if a string starts with a given character\n",
    "print(txt.endswith('r')) # checks if a string ends with a given character"
   ]
  },
  {
   "cell_type": "markdown",
   "metadata": {},
   "source": [
    "We can also use **escape characters** within strings. The most common being **\\t** for a tab, **\\n** for a new line and **\\r** for a 'carriage return' (taken from old style type-writers)."
   ]
  },
  {
   "cell_type": "markdown",
   "metadata": {},
   "source": [
    "<font color = \"skyblue\"> \n",
    "Can you figure out what the carriage return is doing? Change the position of the **\\r**\n",
    "\n",
    "</font>"
   ]
  },
  {
   "cell_type": "code",
   "execution_count": 76,
   "metadata": {},
   "outputs": [
    {
     "name": "stdout",
     "output_type": "stream",
     "text": [
      "This is a \t tab.\n",
      "This is a \n",
      " new line.\n",
      " return.a carriage \n"
     ]
    }
   ],
   "source": [
    "print('This is a \\t tab.')\n",
    "print('This is a \\n new line.')\n",
    "print('This is a carriage \\r return.')"
   ]
  },
  {
   "cell_type": "markdown",
   "metadata": {},
   "source": [
    "## Part 3 - Logical operations on strings"
   ]
  },
  {
   "cell_type": "markdown",
   "metadata": {},
   "source": [
    "We can also use boolean logic to test if a string is within a string. We can use the keyword '**in**' to look if a string is in a string and the modifier '**not**' to negate the '**in**' keyword. \n",
    "<br/><br/>\n",
    "Read the lines of code below and see if you can predict the output (**True or False**) before you run each in turn."
   ]
  },
  {
   "cell_type": "code",
   "execution_count": 77,
   "metadata": {},
   "outputs": [],
   "source": [
    "test_string = 'Hi, how are you today?'"
   ]
  },
  {
   "cell_type": "code",
   "execution_count": 78,
   "metadata": {},
   "outputs": [
    {
     "data": {
      "text/plain": [
       "True"
      ]
     },
     "execution_count": 78,
     "metadata": {},
     "output_type": "execute_result"
    }
   ],
   "source": [
    "'you' in test_string"
   ]
  },
  {
   "cell_type": "code",
   "execution_count": 79,
   "metadata": {},
   "outputs": [
    {
     "data": {
      "text/plain": [
       "False"
      ]
     },
     "execution_count": 79,
     "metadata": {},
     "output_type": "execute_result"
    }
   ],
   "source": [
    "'me' in test_string"
   ]
  },
  {
   "cell_type": "code",
   "execution_count": 80,
   "metadata": {},
   "outputs": [
    {
     "data": {
      "text/plain": [
       "True"
      ]
     },
     "execution_count": 80,
     "metadata": {},
     "output_type": "execute_result"
    }
   ],
   "source": [
    "'me' not in test_string"
   ]
  },
  {
   "cell_type": "code",
   "execution_count": 81,
   "metadata": {},
   "outputs": [
    {
     "data": {
      "text/plain": [
       "False"
      ]
     },
     "execution_count": 81,
     "metadata": {},
     "output_type": "execute_result"
    }
   ],
   "source": [
    "'you' not in test_string"
   ]
  },
  {
   "cell_type": "markdown",
   "metadata": {},
   "source": [
    "****"
   ]
  },
  {
   "cell_type": "markdown",
   "metadata": {},
   "source": [
    "That's all for string manipulations! See you in the next notebook where we'll talk about data structures!"
   ]
  }
 ],
 "metadata": {
  "kernelspec": {
   "display_name": "base",
   "language": "python",
   "name": "python3"
  },
  "language_info": {
   "codemirror_mode": {
    "name": "ipython",
    "version": 3
   },
   "file_extension": ".py",
   "mimetype": "text/x-python",
   "name": "python",
   "nbconvert_exporter": "python",
   "pygments_lexer": "ipython3",
   "version": "3.12.9"
  }
 },
 "nbformat": 4,
 "nbformat_minor": 2
}
