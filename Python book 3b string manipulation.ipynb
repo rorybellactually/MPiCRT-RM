{
 "cells": [
  {
   "cell_type": "markdown",
   "metadata": {},
   "source": [
    "# <b>Book 3b - Variables: string manipulation\n",
    "****"
   ]
  },
  {
   "cell_type": "markdown",
   "metadata": {},
   "source": [
    "A string if a series of characters in python. They are defined with single **'  '** or double **\"  \"** quote markes. For example:"
   ]
  },
  {
   "cell_type": "code",
   "execution_count": 1,
   "metadata": {},
   "outputs": [
    {
     "data": {
      "text/plain": [
       "'This is a string!'"
      ]
     },
     "execution_count": 1,
     "metadata": {},
     "output_type": "execute_result"
    }
   ],
   "source": [
    "'This is a string!'"
   ]
  },
  {
   "cell_type": "markdown",
   "metadata": {},
   "source": [
    "You can join different strings together, this is called concatenation and uses the **+** operator.    "
   ]
  },
  {
   "cell_type": "code",
   "execution_count": 3,
   "metadata": {},
   "outputs": [
    {
     "data": {
      "text/plain": [
       "'This is a string which is now joined together with this second string!'"
      ]
     },
     "execution_count": 3,
     "metadata": {},
     "output_type": "execute_result"
    }
   ],
   "source": [
    "\"This is a string \" + \"which is now joined together with this second string!\""
   ]
  },
  {
   "cell_type": "markdown",
   "metadata": {},
   "source": [
    "Strings can also be stored in variables as we defined in the previous notebook which can be concatenated in the same way."
   ]
  },
  {
   "cell_type": "code",
   "execution_count": 8,
   "metadata": {},
   "outputs": [
    {
     "name": "stdout",
     "output_type": "stream",
     "text": [
      "This is a string which is now joined together with this second string!\n"
     ]
    }
   ],
   "source": [
    "string1 = \"This is a string \"\n",
    "string2 = \"which is now joined together with this second string!\"\n",
    "\n",
    "string3 = string1 + string2\n",
    "print(c)"
   ]
  },
  {
   "cell_type": "markdown",
   "metadata": {},
   "source": [
    "We can interact with strings in different ways. For example, if you wanted to know the length of a string you could use the **len()** function.\n",
    "<br/><br/>\n",
    "**Note** this will count the spaces in teh stroing too, not just the characters. "
   ]
  },
  {
   "cell_type": "code",
   "execution_count": 9,
   "metadata": {},
   "outputs": [
    {
     "data": {
      "text/plain": [
       "17"
      ]
     },
     "execution_count": 9,
     "metadata": {},
     "output_type": "execute_result"
    }
   ],
   "source": [
    "# Here we are uising the strings defined in the above cell, you could try changing the variable name from string1\n",
    "# to string 2 or string3.\n",
    "\n",
    "len(string1)\n"
   ]
  },
  {
   "cell_type": "markdown",
   "metadata": {},
   "source": [
    "You can also index teh different characters within the string, you just have to specify the position of the character you want to access. **Note**, python starts counting from 0."
   ]
  },
  {
   "cell_type": "code",
   "execution_count": 11,
   "metadata": {},
   "outputs": [
    {
     "data": {
      "text/plain": [
       "' '"
      ]
     },
     "execution_count": 11,
     "metadata": {},
     "output_type": "execute_result"
    }
   ],
   "source": [
    "# Try changing this number and see what happens. You can also change string1 to string 2 or string3\n",
    "# Remember, the spaces are part of the string, if you index a space you will print a space, try this and see\n",
    "# what happens (character 4 in string1 for example).\n",
    "\n",
    "string1[3]"
   ]
  },
  {
   "cell_type": "markdown",
   "metadata": {},
   "source": [
    "You can extend this to access parts of the string, for example a whole word. You do this by providing a range within the string. The second number is teh charater to stop at and will not be printed. \n",
    "<br/><br/>\n",
    "Try and change the range to access whole words within the string."
   ]
  },
  {
   "cell_type": "code",
   "execution_count": 16,
   "metadata": {},
   "outputs": [
    {
     "data": {
      "text/plain": [
       "'string'"
      ]
     },
     "execution_count": 16,
     "metadata": {},
     "output_type": "execute_result"
    }
   ],
   "source": [
    "string3[10:16]"
   ]
  },
  {
   "cell_type": "markdown",
   "metadata": {},
   "source": [
    "This technique is called **slicing**, i.e., you are slicing up your text. Try the following examples and see if you can figure out what each is indexing within our string.\n",
    "<br/><br/>\n",
    "Remember, string3 = \"This is a string which is now joined together with this second string!\""
   ]
  },
  {
   "cell_type": "code",
   "execution_count": 23,
   "metadata": {},
   "outputs": [
    {
     "name": "stdout",
     "output_type": "stream",
     "text": [
      "This is a string which is now joined together with this second string!\n",
      "!\n",
      "is a string which is now joined together with this second \n"
     ]
    }
   ],
   "source": [
    "print(string3[:])\n",
    "print(string3[-1])\n",
    "print(string3[5:-7])"
   ]
  },
  {
   "cell_type": "markdown",
   "metadata": {},
   "source": [
    "<div class=\"alert alert-success\">\n",
    "In the box below, see how many ways you can extract the word 'string' from the variable string3.\n",
    "</div>"
   ]
  },
  {
   "cell_type": "code",
   "execution_count": 26,
   "metadata": {},
   "outputs": [
    {
     "name": "stdout",
     "output_type": "stream",
     "text": [
      "This is a string which is now joined together with this second string!\n"
     ]
    }
   ],
   "source": [
    "print(string3[:])\n",
    "\n"
   ]
  },
  {
   "cell_type": "markdown",
   "metadata": {},
   "source": [
    "In the cell below, what type of variable do you think the numbers are? \n",
    "<br/><br/>\n",
    "Why don't you add a line to text your thoughts (**type()**)"
   ]
  },
  {
   "cell_type": "code",
   "execution_count": 29,
   "metadata": {},
   "outputs": [],
   "source": [
    "a = '456'\n",
    "\n"
   ]
  },
  {
   "cell_type": "markdown",
   "metadata": {},
   "source": [
    "If you enclose numbers within quotes then they are considered a striong by python and can be used as a string. So, in the two cells below which one will work and which will give an error?"
   ]
  },
  {
   "cell_type": "code",
   "execution_count": 30,
   "metadata": {},
   "outputs": [
    {
     "ename": "NameError",
     "evalue": "name 'x' is not defined",
     "output_type": "error",
     "traceback": [
      "\u001b[1;31m---------------------------------------------------------------------------\u001b[0m",
      "\u001b[1;31mNameError\u001b[0m                                 Traceback (most recent call last)",
      "Cell \u001b[1;32mIn[30], line 1\u001b[0m\n\u001b[1;32m----> 1\u001b[0m \u001b[43mx\u001b[49m \u001b[38;5;241m+\u001b[39m \u001b[38;5;241m44\u001b[39m\n",
      "\u001b[1;31mNameError\u001b[0m: name 'x' is not defined"
     ]
    }
   ],
   "source": [
    "x + 7"
   ]
  },
  {
   "cell_type": "code",
   "execution_count": 31,
   "metadata": {},
   "outputs": [
    {
     "name": "stdout",
     "output_type": "stream",
     "text": [
      "This is a large number: 456\n"
     ]
    }
   ],
   "source": [
    "print('This is a large number: ' + a)"
   ]
  },
  {
   "cell_type": "markdown",
   "metadata": {},
   "source": [
    "We can tell python that a number is a string by using **str()**, thid is called typecasting."
   ]
  },
  {
   "cell_type": "code",
   "execution_count": 34,
   "metadata": {},
   "outputs": [
    {
     "name": "stdout",
     "output_type": "stream",
     "text": [
      "4567\n"
     ]
    }
   ],
   "source": [
    "print(a + str(7))\n"
   ]
  },
  {
   "cell_type": "markdown",
   "metadata": {},
   "source": [
    "There are a few different ways to dispay strings with a variable. The most common being using a comma or using a % symbol. For example:"
   ]
  },
  {
   "cell_type": "code",
   "execution_count": 35,
   "metadata": {},
   "outputs": [
    {
     "name": "stdout",
     "output_type": "stream",
     "text": [
      "Good morning Alan\n"
     ]
    }
   ],
   "source": [
    "name = 'Alan'\n",
    "\n",
    "print('Good morning',name)"
   ]
  },
  {
   "cell_type": "code",
   "execution_count": 36,
   "metadata": {},
   "outputs": [
    {
     "name": "stdout",
     "output_type": "stream",
     "text": [
      "Good morning Alan, what did you have for breakfast today?\n"
     ]
    }
   ],
   "source": [
    "name = 'Alan'\n",
    "\n",
    "print('Good morning %s, what did you have for breakfast today?' %name)"
   ]
  },
  {
   "cell_type": "markdown",
   "metadata": {},
   "source": [
    "**Note** the letter beside the % relates to the type of variable you are placing. **%s** is for a string. Some other examples would be:\n",
    "<li>%d, %i --> Integer</li>\n",
    "<li>%s     --> String </li>\n",
    "<li>%f, %g --> float</li>"
   ]
  },
  {
   "cell_type": "markdown",
   "metadata": {},
   "source": [
    "Another useful string operation is to find a string within a string. For example, you may want to find a specific keyword in a string. Here we want to find out is a patient recieved radiotherapy. The **.find()** returns the index of the start of the string used within the find function."
   ]
  },
  {
   "cell_type": "code",
   "execution_count": 37,
   "metadata": {},
   "outputs": [],
   "source": [
    "trt = 'The patient recieved radiotherapy as part of their treatment pathway.'"
   ]
  },
  {
   "cell_type": "code",
   "execution_count": 40,
   "metadata": {},
   "outputs": [
    {
     "data": {
      "text/plain": [
       "21"
      ]
     },
     "execution_count": 40,
     "metadata": {},
     "output_type": "execute_result"
    }
   ],
   "source": [
    "trt.find('radiotherapy')"
   ]
  },
  {
   "cell_type": "markdown",
   "metadata": {},
   "source": [
    "<div class=\"alert alert-success\">\n",
    "Change the word in the function above and see what happens? What happens if you look for a work which isn't in the function? Is the find() function case sensitive?\n",
    "</div> "
   ]
  },
  {
   "cell_type": "markdown",
   "metadata": {},
   "source": [
    "You can also split a string based on a given **deliminter**, i.e., what you want to split a string with. FOr example, the **deliminter** could be a space, a comma, a tab, or any character, ...  (Try spliting on 'a' or 'e')\n",
    "<br/><br/>\n",
    "<i> Note that this finction will return a **list**, we will cover lists the following notebook.</i>"
   ]
  },
  {
   "cell_type": "code",
   "execution_count": 50,
   "metadata": {},
   "outputs": [
    {
     "name": "stdout",
     "output_type": "stream",
     "text": [
      "['The', 'patient', 'recieved', 'radiotherapy', 'as', 'part', 'of', 'their', 'treatment', 'pathway.']\n"
     ]
    }
   ],
   "source": [
    "words = trt.split(' ')\n",
    "print(words)\n",
    "\n"
   ]
  },
  {
   "cell_type": "markdown",
   "metadata": {},
   "source": [
    "We can also do the opposite and **.join()** two strings, which we will apply to our variable <i>words</i> above to recreate the original string."
   ]
  },
  {
   "cell_type": "code",
   "execution_count": 52,
   "metadata": {},
   "outputs": [
    {
     "name": "stdout",
     "output_type": "stream",
     "text": [
      "The patient recieved radiotherapy as part of their treatment pathway.\n"
     ]
    }
   ],
   "source": [
    "joined_string = ' '.join(words)\n",
    "print(joined_string)"
   ]
  },
  {
   "cell_type": "markdown",
   "metadata": {},
   "source": [
    "<div class=\"alert alert-success\">\n",
    "The ' ' before .join() tells the function what to put between the entries in the list. Try changing it, you can but (almost) anything, or nothing, between the quotes.\n",
    "</div>"
   ]
  },
  {
   "cell_type": "code",
   "execution_count": 58,
   "metadata": {},
   "outputs": [
    {
     "name": "stdout",
     "output_type": "stream",
     "text": [
      "The patient recieved radiotherapy as part of their treatment pathway.\n"
     ]
    }
   ],
   "source": [
    "joined_string2 = ' '.join(words)\n",
    "print(joined_string2)"
   ]
  },
  {
   "cell_type": "markdown",
   "metadata": {},
   "source": [
    "Another useful function for strings is **.replace()**. As the name suggests, this will allow us to replace one part of a string with another string. Here we will put the word we want to replace first, followed by the word we new word. For example, if our patient changed from radiotherapy to chemotherapy we could do: "
   ]
  },
  {
   "cell_type": "code",
   "execution_count": 62,
   "metadata": {},
   "outputs": [
    {
     "data": {
      "text/plain": [
       "'The patient recieved chemotherapy as part of their treatment pathway.'"
      ]
     },
     "execution_count": 62,
     "metadata": {},
     "output_type": "execute_result"
    }
   ],
   "source": [
    "trt = 'The patient recieved radiotherapy as part of their treatment pathway.'\n",
    "trt.replace('radiotherapy', 'chemotherapy')\n"
   ]
  },
  {
   "cell_type": "markdown",
   "metadata": {},
   "source": [
    "<div class=\"alert alert-success\">\n",
    "There are many more string opperations you will discover, try some of the following lines and see what happens. Also spend a little time looking at online resources to see what else you can do with strings. One resource to start with is the code academy cheat sheet for python strings here: <br/><br/>\n",
    "https://www.codecademy.com/learn/learn-python-3/modules/learn-python3-strings/cheatsheet\n",
    "\n",
    "</div>"
   ]
  },
  {
   "cell_type": "code",
   "execution_count": 73,
   "metadata": {},
   "outputs": [
    {
     "name": "stdout",
     "output_type": "stream",
     "text": [
      "radiotherapy\n",
      "RADIOTHERAPY\n",
      "True\n",
      "False\n",
      "False\n",
      "True\n",
      "False\n"
     ]
    }
   ],
   "source": [
    "txt = 'radiotherapy'\n",
    "print(txt.lower())  # changes all letters to lower case\n",
    "print(txt.upper())  # changes all letters to upper case\n",
    "print(txt.isalpha()) # checks if text only contains characters\n",
    "print(txt.isdigit()) # checks if text only contains numbers\n",
    "print(txt.isspace()) # checks is text is a space\n",
    "print(txt.startswith('r')) # checks if a string starts with a given character\n",
    "print(txt.endswith('r')) # checks if a string ends with a given character"
   ]
  },
  {
   "cell_type": "markdown",
   "metadata": {},
   "source": [
    "We can also use **excape characters** within strings. The most common being **\\t** for a tab, **\\n** for a new line and **\\r** for a 'carriage return' (taken from old style type-writers)."
   ]
  },
  {
   "cell_type": "markdown",
   "metadata": {},
   "source": [
    "<div class=\"alert alert-success\">\n",
    "Can you figure out what the carriage return is doing? Change the position of the **\\r**\n",
    "\n",
    "</div>"
   ]
  },
  {
   "cell_type": "code",
   "execution_count": 76,
   "metadata": {},
   "outputs": [
    {
     "name": "stdout",
     "output_type": "stream",
     "text": [
      "This is a \t tab.\n",
      "This is a \n",
      " new line.\n",
      " return.a carriage \n"
     ]
    }
   ],
   "source": [
    "print('This is a \\t tab.')\n",
    "print('This is a \\n new line.')\n",
    "print('This is a carriage \\r return.')"
   ]
  },
  {
   "cell_type": "markdown",
   "metadata": {},
   "source": [
    "We can also use some logic <i>(explained in the next notebooks)</i> to test if a string is within a string. We can use **in** to look if a string is in a string and **not in** to look to see if a string is not in a string. \n",
    "<br/><br/>\n",
    "Read the lines of code below and see if you can predict the output (**True or False**) before you run each in turn."
   ]
  },
  {
   "cell_type": "code",
   "execution_count": 77,
   "metadata": {},
   "outputs": [],
   "source": [
    "test_string = 'Hi, how are you today?'"
   ]
  },
  {
   "cell_type": "code",
   "execution_count": 78,
   "metadata": {},
   "outputs": [
    {
     "data": {
      "text/plain": [
       "True"
      ]
     },
     "execution_count": 78,
     "metadata": {},
     "output_type": "execute_result"
    }
   ],
   "source": [
    "'you' in test_string"
   ]
  },
  {
   "cell_type": "code",
   "execution_count": 79,
   "metadata": {},
   "outputs": [
    {
     "data": {
      "text/plain": [
       "False"
      ]
     },
     "execution_count": 79,
     "metadata": {},
     "output_type": "execute_result"
    }
   ],
   "source": [
    "'me' in test_string"
   ]
  },
  {
   "cell_type": "code",
   "execution_count": 80,
   "metadata": {},
   "outputs": [
    {
     "data": {
      "text/plain": [
       "True"
      ]
     },
     "execution_count": 80,
     "metadata": {},
     "output_type": "execute_result"
    }
   ],
   "source": [
    "'me' not in test_string"
   ]
  },
  {
   "cell_type": "code",
   "execution_count": 81,
   "metadata": {},
   "outputs": [
    {
     "data": {
      "text/plain": [
       "False"
      ]
     },
     "execution_count": 81,
     "metadata": {},
     "output_type": "execute_result"
    }
   ],
   "source": [
    "'you' not in test_string"
   ]
  },
  {
   "cell_type": "markdown",
   "metadata": {},
   "source": [
    "****"
   ]
  }
 ],
 "metadata": {
  "kernelspec": {
   "display_name": "Python 3",
   "language": "python",
   "name": "python3"
  },
  "language_info": {
   "codemirror_mode": {
    "name": "ipython",
    "version": 3
   },
   "file_extension": ".py",
   "mimetype": "text/x-python",
   "name": "python",
   "nbconvert_exporter": "python",
   "pygments_lexer": "ipython3",
   "version": "3.11.6"
  }
 },
 "nbformat": 4,
 "nbformat_minor": 2
}
