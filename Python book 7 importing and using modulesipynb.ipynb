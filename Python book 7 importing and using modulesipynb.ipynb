{
 "cells": [
  {
   "cell_type": "markdown",
   "metadata": {},
   "source": [
    "# <b>Book 7 - Importing and using modules\n",
    "****"
   ]
  },
  {
   "cell_type": "markdown",
   "metadata": {},
   "source": [
    "There are hundreds(?) of modules available for Python which are available to download and use directly in your scripts. These contain functions for performing all sorts of operations, from mathamatics and statistics, image handling, visualisation tools, data science, machgine learning etc, etc, etc. For common tasks, you are likely to find a module with a required function ready for you. This can often save time over writting your own functions from scratch. "
   ]
  },
  {
   "cell_type": "markdown",
   "metadata": {},
   "source": [
    "For example, in book 5 we defined a function that return a value of a number to a power. "
   ]
  },
  {
   "cell_type": "code",
   "execution_count": null,
   "metadata": {},
   "outputs": [],
   "source": [
    "def power(n, a = 2):\n",
    "    return n ** a\n",
    "\n",
    "print(power(2,5))"
   ]
  },
  {
   "cell_type": "markdown",
   "metadata": {},
   "source": [
    "Why define this function if it is already available for you. We can access a power function from the module **math**. To do so, we first have to import the module so it is available to use in the script. To do this, we use the **import** keyword. \n",
    "\n",
    "To call the functions we then use the name of the module, followed by a dot, then the function. So in our example, to call the power function from the math module we need **math.pow()**.  "
   ]
  },
  {
   "cell_type": "code",
   "execution_count": null,
   "metadata": {},
   "outputs": [],
   "source": [
    "import math\n",
    "\n",
    "math.pow(2,5)"
   ]
  },
  {
   "cell_type": "markdown",
   "metadata": {},
   "source": [
    "You can also choice to import a single function from a module. This may be useful where modules are extensive and you only need one operation. Importing specific functions can also help avoid using the wrong function when the same same exists in multiple modules. For this you would use the following:"
   ]
  },
  {
   "cell_type": "code",
   "execution_count": null,
   "metadata": {},
   "outputs": [],
   "source": [
    "from math import pow\n",
    "\n",
    "pow(2,5)"
   ]
  },
  {
   "cell_type": "markdown",
   "metadata": {},
   "source": [
    "You can also rename the module on import, here renaming **math** as **m**. You will see this is very common with certain modules in Python, for example, **numpy** is typically imported as **np**"
   ]
  },
  {
   "cell_type": "code",
   "execution_count": null,
   "metadata": {},
   "outputs": [],
   "source": [
    "import math as m\n",
    "\n",
    "m.pow(2,5)"
   ]
  },
  {
   "cell_type": "markdown",
   "metadata": {},
   "source": [
    "Of course, you need the documentation to understand the opperation of the function and what arguements need to be passed. Most Python libraries have good documentation online, and we can also call help on a single function from the module directly like so: "
   ]
  },
  {
   "cell_type": "code",
   "execution_count": null,
   "metadata": {},
   "outputs": [],
   "source": [
    "help(math.pow)"
   ]
  },
  {
   "cell_type": "markdown",
   "metadata": {},
   "source": [
    "You can use **help** on a whole module to get details of the module and the functions within. Or if you just want to see a list of function names then the **dir()** will provide this list. (Click on the <i>'scrollable element'</i> under the code block to view the full list, the notbook will truncate this for space)."
   ]
  },
  {
   "cell_type": "code",
   "execution_count": null,
   "metadata": {},
   "outputs": [],
   "source": [
    "help(math)"
   ]
  },
  {
   "cell_type": "code",
   "execution_count": null,
   "metadata": {},
   "outputs": [],
   "source": [
    "dir(math)"
   ]
  },
  {
   "cell_type": "markdown",
   "metadata": {},
   "source": [
    "***"
   ]
  },
  {
   "cell_type": "markdown",
   "metadata": {},
   "source": [
    "You can also use the same technique in your own code. You can load other Python files you have written in the same way using the **import** command followed by the name of your script containing your functions. This can become helpful in large projects where you have defined many functions to aid organisation. \n",
    "\n",
    "To import your own files directly as above, local files have to be in the same folder, or directory, as the file you want to import to. \n"
   ]
  },
  {
   "cell_type": "markdown",
   "metadata": {},
   "source": [
    "**Your turn:**\n",
    "<font color = \"skyblue\"> \n",
    " in the code box below we are importing a module called statistics. You also have a list of numbers defined. Use the statistics module functions to print the Mean, Median, Mode, Standard Deviation of the list. \n",
    "<br/><br/>\n",
    "Can you find any other interesting functions in the module to try?\n",
    "\n",
    "</font>"
   ]
  },
  {
   "cell_type": "code",
   "execution_count": 27,
   "metadata": {},
   "outputs": [],
   "source": [
    "import statistics as st\n",
    "\n",
    "number_list = [4,6,2,4,1,8,3]"
   ]
  },
  {
   "cell_type": "markdown",
   "metadata": {},
   "source": [
    "***\n",
    "\n",
    "***ADVANCED***\n",
    "\n",
    "\n",
    "It is also possible to import from non-local directories. This can be done in several ways, but the easiest is using the module '<a href=\"https://docs.python.org/3/library/importlib.html#module-importlib\">importlib</a>'. "
   ]
  },
  {
   "cell_type": "code",
   "execution_count": 3,
   "metadata": {},
   "outputs": [
    {
     "name": "stdout",
     "output_type": "stream",
     "text": [
      "This is a test function from book7_test_python_import_function.py\n"
     ]
    }
   ],
   "source": [
    "from importlib import util\n",
    "import sys\n",
    "\n",
    "# Define the path to the file you want to import\n",
    "#       if this doesn't correspond to an actual path, an AttributeError will be raised later. \n",
    "#       Note this is a local path, not a global (or absolute) one.\n",
    "module_path = r'book7_test_python_import_function.py' \n",
    "module_name = 'module_name'\n",
    "\n",
    "# Load in the module with the name 'module_name' from the file at 'module_path'   -   (N.B. The spec contains information about the module)\n",
    "spec = util.spec_from_file_location(module_name, module_path)\n",
    "module = util.module_from_spec(spec)\n",
    "\n",
    "# Create a new module based on the spec\n",
    "spec.loader.exec_module(module)\n",
    "\n",
    "# Add the module to the program's known modules so it can be accessed globally\n",
    "sys.modules[module_name] = module\n",
    "\n",
    "\n",
    "# Now you can use the module as needed\n",
    "module.test_function()"
   ]
  },
  {
   "cell_type": "markdown",
   "metadata": {},
   "source": [
    "***"
   ]
  },
  {
   "cell_type": "markdown",
   "metadata": {},
   "source": [
    "## Part 2 - Working from a Common Directory"
   ]
  },
  {
   "cell_type": "markdown",
   "metadata": {},
   "source": [
    "Let's now talk about working from a common directory in Python.  When working with others on Python projects (or submitting files for assignments!), it is important to avoid absolute paths in scripts and instead work from a common project directory. \n",
    "\n",
    "*Absolute paths* (e.g., /Users/name/Documents/...) tie code execution to a specific machine, making it non-portable and harder to share. To run your code, the next user will have to update all paths in your code with their own local paths.\n",
    "\n",
    "*Relative paths* ensure that files are accessed based on the project’s structure, allowing the same codebase to run consistently across different environments. Modules such as os.path, pathlib, or configuration files can be used to make this easy.\n",
    "\n",
    "Consider the below file structure:\n",
    "\n",
    "```\n",
    "project/\n",
    "├── python_notebooks/\n",
    "│   ├── notebook1.ipynb\n",
    "│   └── helper_python_file.py\n",
    "├── HaggisFiles/\n",
    "│   └── secret_recipe.txt\n",
    "├── README.md\n",
    "```\n",
    "Let's imagine we're trying to access the secret_recipe.txt file from within notebook1.ipynb.\n"
   ]
  },
  {
   "cell_type": "code",
   "execution_count": 29,
   "metadata": {},
   "outputs": [],
   "source": [
    "# Here's an example of an absolute path: bad\n",
    "path = r'C:\\Users\\Alan\\project\\HaggisFiles\\secret_recipe.txt'"
   ]
  },
  {
   "cell_type": "code",
   "execution_count": 2,
   "metadata": {},
   "outputs": [],
   "source": [
    "# Here's an example of a relative path, accessible from within the notebook: good\n",
    "path = r'../HaggisFiles/secret_recipe.txt'"
   ]
  },
  {
   "cell_type": "code",
   "execution_count": null,
   "metadata": {},
   "outputs": [],
   "source": [
    "# Even better, we can use the pathlib library to create paths that will work on any OS (Windows, MacOS, Linux)\n",
    "from pathlib import Path\n",
    "path = Path('../HaggisFiles/secret_recipe.txt')\n",
    "print(path.resolve())"
   ]
  },
  {
   "cell_type": "markdown",
   "metadata": {},
   "source": [
    "This will mean your code is more portable and can be run on different machines without modification. "
   ]
  }
 ],
 "metadata": {
  "kernelspec": {
   "display_name": "base",
   "language": "python",
   "name": "python3"
  },
  "language_info": {
   "codemirror_mode": {
    "name": "ipython",
    "version": 3
   },
   "file_extension": ".py",
   "mimetype": "text/x-python",
   "name": "python",
   "nbconvert_exporter": "python",
   "pygments_lexer": "ipython3",
   "version": "3.12.9"
  }
 },
 "nbformat": 4,
 "nbformat_minor": 2
}
