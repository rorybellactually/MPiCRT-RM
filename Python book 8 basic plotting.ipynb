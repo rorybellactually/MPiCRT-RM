{
 "cells": [
  {
   "cell_type": "markdown",
   "metadata": {},
   "source": [
    "# <b> Book 8 - basic plotting functions \n",
    "****\n"
   ]
  },
  {
   "cell_type": "markdown",
   "metadata": {},
   "source": [
    "In this notebook we aim to introduce some basic concepts for plotting data. This is a huge topic, here will only aim to get you started and provide a foundation. From here you can explore the options more widely, and be able to decide on which plot is best to provide meaning for your data. \n"
   ]
  },
  {
   "cell_type": "markdown",
   "metadata": {},
   "source": [
    "## Part 1 - matplotlib"
   ]
  },
  {
   "cell_type": "markdown",
   "metadata": {},
   "source": [
    "Here we will use the library **matplotlib**. A good resource for exploring what this library contains can be found here:\n",
    "<br/><br/>\n",
    "https://matplotlib.org/stable/users/index.html#users-guide-index"
   ]
  },
  {
   "cell_type": "markdown",
   "metadata": {},
   "source": [
    "First., let's import **matplotlib.pyplot** as **plt**, we will also import **numpy** to help us generate some dummy data to plot."
   ]
  },
  {
   "cell_type": "code",
   "execution_count": 1,
   "metadata": {},
   "outputs": [],
   "source": [
    "import matplotlib.pyplot as plt\n",
    "import numpy as np\n"
   ]
  },
  {
   "cell_type": "markdown",
   "metadata": {},
   "source": [
    "At it's simplest (and perhaps not the most exciting!), we pass a series of x-points and y-points to the **plt.plot()** function and use **plt.show()** to display the plot."
   ]
  },
  {
   "cell_type": "code",
   "execution_count": null,
   "metadata": {},
   "outputs": [],
   "source": [
    "xpoints = np.array([1,3,5,7])\n",
    "ypoints = np.array([3,5,7,9])\n",
    "\n",
    "plt.plot(xpoints, ypoints)\n",
    "plt.show()"
   ]
  },
  {
   "cell_type": "markdown",
   "metadata": {},
   "source": [
    "We can then start to add some details, for example we will probably want to define the axis and name our plot."
   ]
  },
  {
   "cell_type": "code",
   "execution_count": null,
   "metadata": {},
   "outputs": [],
   "source": [
    "\n",
    "plt.plot(xpoints, ypoints)\n",
    "\n",
    "plt.title('Your python knowledge!')\n",
    "plt.xlabel('Time (days)')\n",
    "plt.ylabel('Python knowledge')\n",
    "plt.show()"
   ]
  },
  {
   "cell_type": "markdown",
   "metadata": {},
   "source": [
    "And add markers for each point and maybe change the display or colour for the line. \n"
   ]
  },
  {
   "cell_type": "code",
   "execution_count": null,
   "metadata": {},
   "outputs": [],
   "source": [
    "plt.plot(xpoints, ypoints, marker = 'o', linestyle = 'dashed', color = 'red')\n",
    "\n",
    "plt.xlabel('Time (days)')\n",
    "plt.ylabel('Python knowledge')\n",
    "plt.show()\n"
   ]
  },
  {
   "cell_type": "markdown",
   "metadata": {},
   "source": [
    "<font color = \"skyblue\"> \n",
    "Try and find what different options are available for <b>markers</b> and <b>linestyle</b>, use the code chunk below to try different options. You can also change the colour using <b>color = ''</b>.\n",
    "<br/><br/>\n",
    "You can also shorten <b>linestyle</b> to <b>ls</b> and <b>color</b> to <b>c</b> to make your code more concise if you wish.\n",
    "\n",
    "</font>"
   ]
  },
  {
   "cell_type": "code",
   "execution_count": null,
   "metadata": {},
   "outputs": [],
   "source": [
    "plt.plot(xpoints, ypoints, marker = 'o', ls = 'dashed', c = 'green')\n",
    "\n",
    "plt.xlabel('Time (days)')\n",
    "plt.ylabel('Python knowledge')\n",
    "plt.show()"
   ]
  },
  {
   "cell_type": "markdown",
   "metadata": {},
   "source": [
    "Other plotting options are available depending on what form your data takes and how is best to display your data. For example scatter plots. *Here we will start to plot multiple sets of data on the same graph*."
   ]
  },
  {
   "cell_type": "code",
   "execution_count": null,
   "metadata": {},
   "outputs": [],
   "source": [
    "x1 = np.array([5,6,2,8,10,4])\n",
    "y1 = np.array([6,8,2,9,5,3])\n",
    "x2 = np.array([1,3,5,4,3,7,9])\n",
    "y2 = np.array([8,6,4,1,2,9,5])\n",
    "\n",
    "plt.scatter(x1,y1)\n",
    "plt.scatter(x2,y2)\n",
    "\n",
    "plt.show()"
   ]
  },
  {
   "cell_type": "markdown",
   "metadata": {},
   "source": [
    "Or histograms. First we will generate some dummy data in a normal distribution, then we will plot this as a histogram. "
   ]
  },
  {
   "cell_type": "code",
   "execution_count": null,
   "metadata": {},
   "outputs": [],
   "source": [
    "x = np.random.normal(100, 10, 1000)  # Here, the first argument is the mean (centre) of the distribution, second is the standard deviation (width) opf the distribution and the thrid is the number of samples drawn (the size).\n",
    "\n",
    "plt.hist(x)\n",
    "plt.show()"
   ]
  },
  {
   "cell_type": "markdown",
   "metadata": {},
   "source": [
    "And as above, you can start to add detail to the histogram to show your data and also make it look nicer!"
   ]
  },
  {
   "cell_type": "code",
   "execution_count": null,
   "metadata": {},
   "outputs": [],
   "source": [
    "x = np.random.normal(100, 10, 1000)  # Here, the first argument is the mean (centre) of the distribution, second is the standard deviation (width) opf the distribution and the thrid is the number of samples drawn (the size).\n",
    "\n",
    "plt.hist(x, density = True, bins = 25, label = 'data', color = 'skyblue', edgecolor = 'white')  # density True relative,False counts\n",
    "plt.title('My data')\n",
    "plt.xlabel('Random data')\n",
    "plt.ylabel('Probability')\n",
    "plt.legend(loc='upper left')\n",
    "plt.show()"
   ]
  },
  {
   "cell_type": "markdown",
   "metadata": {},
   "source": [
    "***"
   ]
  },
  {
   "cell_type": "markdown",
   "metadata": {},
   "source": [
    "## Part 2 - Introduction to seaborn"
   ]
  },
  {
   "cell_type": "markdown",
   "metadata": {},
   "source": [
    "Seaborn is an additional library which is useful for data and statistical plotting. It is used alongside matplotlib and can make very nice plots. This is another large library, we will only introduce it here, but there are plenty of tutorials and documentation available to help you display your data how you want.\n",
    "<br/><br/>\n",
    "https://seaborn.pydata.org/index.html"
   ]
  },
  {
   "cell_type": "markdown",
   "metadata": {},
   "source": [
    "First, let's import seaborn. Seaborn also comes with some data for us to play with, the dataset 'iris' is common to a number of libraries and even different scripting languages and contains data how iris - the flower - grow, it contains data on length and woidth of petals and sepals for example as well as teh species of iris. We can use the **.head()** on the dataframe to print the column names and the first few rows of data. This provides a snip-it of what the data looks like to help us get started."
   ]
  },
  {
   "cell_type": "code",
   "execution_count": null,
   "metadata": {},
   "outputs": [],
   "source": [
    "import seaborn as sns\n",
    "data_iris = sns.load_dataset('iris')\n",
    "\n",
    "data_iris.head()"
   ]
  },
  {
   "cell_type": "markdown",
   "metadata": {},
   "source": [
    "Let's start with something simple and plot a line graph of the **sepal_length** against the **sepal_width**. "
   ]
  },
  {
   "cell_type": "code",
   "execution_count": null,
   "metadata": {},
   "outputs": [],
   "source": [
    "sns.lineplot(x='sepal_length', y='sepal_width', data=data_iris)"
   ]
  },
  {
   "cell_type": "markdown",
   "metadata": {},
   "source": [
    "You can use seaborn alongside matplotlib, useful for combining the power of both libraries for customising your outputs. For example, here we will first create our graph with seaborn, before using matplotlib to add the deatails. Using the above plot, let's add a title."
   ]
  },
  {
   "cell_type": "code",
   "execution_count": null,
   "metadata": {},
   "outputs": [],
   "source": [
    "sns.lineplot(x='sepal_length', y='sepal_width', data=data_iris)\n",
    "plt.title('Iris sepal length versus width.')\n",
    "plt.show()"
   ]
  },
  {
   "cell_type": "markdown",
   "metadata": {},
   "source": [
    "You can play around with the different options available to best show data, I have added some extra lines in the box below but this is in no way an exhaustive list! Have a look at the colour palettes available in seaborn too. "
   ]
  },
  {
   "cell_type": "markdown",
   "metadata": {},
   "source": [
    "<font color = \"skyblue\"> \n",
    "Looking at the new lines below, find out using the documentation what each are doing. Fell free to remove and see what the difference is in the plot and if you find something interesting then add it in and see what happens!\n",
    "</font>"
   ]
  },
  {
   "cell_type": "code",
   "execution_count": null,
   "metadata": {},
   "outputs": [],
   "source": [
    "sns.lineplot(x='sepal_length', y='sepal_width', data=data_iris)\n",
    "sns.axes_style('darkgrid')\n",
    "sns.despine()\n",
    "\n",
    "sns.set_palette('Accent')\n",
    "plt.title('Iris sepal length versus width.')\n",
    "\n",
    "plt.show()"
   ]
  },
  {
   "cell_type": "markdown",
   "metadata": {},
   "source": [
    "Let's also re-visit the historgam we created above and re-plot using seaborn."
   ]
  },
  {
   "cell_type": "markdown",
   "metadata": {},
   "source": [
    "<font color = \"skyblue\"> \n",
    "As above, have a look and see what each argument in the <b>histplot</b> function do. I have added a <b>kde = True</b> what is this?\n",
    "</font>"
   ]
  },
  {
   "cell_type": "code",
   "execution_count": null,
   "metadata": {},
   "outputs": [],
   "source": [
    "#x = np.random.normal(100, 10, 1000)  \n",
    "\n",
    "sns.histplot(x = 'sepal_width', data=data_iris, bins = 10, kde = True, color = 'skyblue', edgecolor = 'white')\n"
   ]
  },
  {
   "cell_type": "markdown",
   "metadata": {},
   "source": [
    "Seaborn and matplotlib work nicely together to create multiple pane plots using the **plt.subplots()** function. Here we have passed **ncols=2**, this tells it to expect two plots side-by-side. When we then define the two plots (one lineplot and one histplot) we pass an additional arguement to allocate these to one of these column places, **ax = axs[0]**. \n",
    "<br/><br/>\n",
    "Could you do this as one plot on top of the other?"
   ]
  },
  {
   "cell_type": "code",
   "execution_count": null,
   "metadata": {},
   "outputs": [],
   "source": [
    "\n",
    "fig, axs = plt.subplots(ncols=2)\n",
    "sns.lineplot(x='sepal_length', y='sepal_width', data=data_iris, ax = axs[0])\n",
    "sns.histplot(x = 'sepal_width', data=data_iris, bins = 10, kde = True, color = 'skyblue', edgecolor = 'white', ax = axs[1])"
   ]
  },
  {
   "cell_type": "markdown",
   "metadata": {},
   "source": [
    "In the next plot we are creating a violin plot. These are similar to a box and whiskers, however they are preffered because they show the shape (the distribution) of the underlying data which helps us understand what the data looks like. A box and whisker plot hides this information so I owuld suggest that violin plots are (almost always) the better option."
   ]
  },
  {
   "cell_type": "code",
   "execution_count": null,
   "metadata": {},
   "outputs": [],
   "source": [
    "sns.violinplot(x = 'species', y = 'sepal_width', data = data_iris, palette = 'Accent', hue= 'species')\n",
    "sns.set_palette = ('Accent')\n",
    "\n",
    "plt.show()"
   ]
  },
  {
   "cell_type": "markdown",
   "metadata": {},
   "source": [
    "Seaborn comes with many, many options for producing composite plots built in. Here I have selected one as an example called **PairGrid**. This will plot correlations of all columns against all other columns in the dataframe as well as the distributions of each variable along the diaganol axis. Here we have also defined a group by passing **hue = 'species'**. This will colour the data based on this variable called species. "
   ]
  },
  {
   "cell_type": "code",
   "execution_count": null,
   "metadata": {},
   "outputs": [],
   "source": [
    "g = sns.PairGrid(data = data_iris, hue=\"species\")\n",
    "g.map_diag(sns.histplot)\n",
    "g.map_offdiag(sns.scatterplot)\n",
    "g.add_legend()"
   ]
  },
  {
   "cell_type": "markdown",
   "metadata": {},
   "source": [
    "***"
   ]
  },
  {
   "cell_type": "markdown",
   "metadata": {},
   "source": [
    "## Part 3 - Your turn!"
   ]
  },
  {
   "cell_type": "markdown",
   "metadata": {},
   "source": [
    "<font color = \"skyblue\"> \n",
    "<b>Data visualisation is key.</b> Spend a little time trying outsome of the options we have introduced and perhaps other options available in <b>>matplotlib</b> and <b>seaborn</b>. In the code block below we will load the dataset for the <b>Titanic passengers</b>. We are printing out the head of the dataset (column names and first few rows). This dataset gives some characdteristics of the passengers and if they survived or not. \n",
    "<br></br>\n",
    "Using this dataset play around with data visualistion to explore the data. Use the code blocks provided and add as many as you want. Some ideas to get you started:\n",
    "<li> Bar chart for different variables based on survival. </li>\n",
    "<li> Historgam distribution for the age of the passengers, grouped by sex or class</li>\n",
    "<li> Violin plots for indivudials who survived or did not survive for each class. Plus try and plot this with a second group on sex. </li>\n",
    "<br><br/>\n",
    "Also try to put some of these plots together as a multi-pane sub-plots. See if you can find a nice colour palette to display the data nicely and tell a story with your plots. \n",
    "\n",
    "</font>"
   ]
  },
  {
   "cell_type": "code",
   "execution_count": null,
   "metadata": {},
   "outputs": [],
   "source": [
    "data_titanic = sns.load_dataset('titanic')\n",
    "\n",
    "data_titanic.head()"
   ]
  },
  {
   "cell_type": "code",
   "execution_count": null,
   "metadata": {},
   "outputs": [],
   "source": []
  },
  {
   "cell_type": "code",
   "execution_count": null,
   "metadata": {},
   "outputs": [],
   "source": []
  },
  {
   "cell_type": "code",
   "execution_count": null,
   "metadata": {},
   "outputs": [],
   "source": []
  }
 ],
 "metadata": {
  "kernelspec": {
   "display_name": "Python 3",
   "language": "python",
   "name": "python3"
  },
  "language_info": {
   "codemirror_mode": {
    "name": "ipython",
    "version": 3
   },
   "file_extension": ".py",
   "mimetype": "text/x-python",
   "name": "python",
   "nbconvert_exporter": "python",
   "pygments_lexer": "ipython3",
   "version": "3.11.6"
  }
 },
 "nbformat": 4,
 "nbformat_minor": 2
}
