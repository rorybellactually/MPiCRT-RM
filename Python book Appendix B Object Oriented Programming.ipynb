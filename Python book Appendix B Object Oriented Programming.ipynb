{
 "cells": [
  {
   "cell_type": "markdown",
   "metadata": {},
   "source": [
    "# <b>Appendix B - Object Oriented Programming\n",
    "****"
   ]
  },
  {
   "cell_type": "markdown",
   "metadata": {},
   "source": [
    "You may have heard about object-oriented programming (OOP). OOP is way of designing programs where code is organised around *objects*, rather than functions. In pure OOP, objects interact with each other to achieve the tasks we want Python to do for us.\n",
    "\n",
    "Objects allow you to keep your code 'neat' by keeping together related *properties* and *functions*. Let's talk with an example to understand it better.  Remember our fridge in books 3 and 4? Let's bring that concept back. "
   ]
  },
  {
   "cell_type": "markdown",
   "metadata": {},
   "source": [
    "Think of a fridge.  What *properties* does the fridge have?  For example:\n",
    "- Veggetable drawer\n",
    "- Shelf \n",
    "- Door\n",
    "- Light\n",
    "\n",
    "What *function* could the fridge have?\n",
    "- Store veggies\n",
    "- Turn the light on when we open its door\n",
    "\n",
    "Let's try and create a fridge to understand how to implement objects."
   ]
  },
  {
   "cell_type": "markdown",
   "metadata": {},
   "source": [
    "To define objects, we first write a *class*. Classes are the blueprints of an object, and stablish the properties, and functionality of all fridges.  Let's write a simple Fridge class here:"
   ]
  },
  {
   "cell_type": "code",
   "execution_count": null,
   "metadata": {},
   "outputs": [],
   "source": [
    "class SimpleFridge:\n",
    "    \"\"\"A simple fridge class\"\"\"\n",
    "    fridge_type = 'simple'\n",
    "    \n",
    "# I can create an object here:\n",
    "elianasFridge = SimpleFridge()  #important! we need the () at the end... see below\n",
    "print(elianasFridge.fridge_type)\n",
    "print(elianasFridge.__doc__) # documentation!"
   ]
  },
  {
   "cell_type": "markdown",
   "metadata": {},
   "source": [
    "This 'fridge' class is rather useless. It does not yet have anything related to a fridge... so let's build it up slowly."
   ]
  },
  {
   "cell_type": "markdown",
   "metadata": {},
   "source": [
    "The first important function to be introduced (and that all classes should have) is `__init__()`.  This function is called when an object is being initialised. The `__init__()` function is used to assign values to the properties and execute any other operation required. \n",
    "This function always receives a variable as input called *self*.  This should always be used to refer to the object's properties/functions.\n",
    "\n",
    "Let's add some properties and initialised them with the `__init__()` function. I will use dictionaries to track the content of each shelf/drawer, and strings for the light and door status:"
   ]
  },
  {
   "cell_type": "code",
   "execution_count": null,
   "metadata": {},
   "outputs": [],
   "source": [
    "class SimpleFridge:\n",
    "    \"\"\"A simple fridge class\"\"\"\n",
    "    fridge_type = 'simple'\n",
    "\n",
    "    def __init__(self):\n",
    "        self.light_status = 'off'\n",
    "        self.door_status = 'closed'\n",
    "        self.veggie_drawer = dict()\n",
    "        self.shelf = dict()\n",
    "    \n",
    "# I can create an object here:\n",
    "elianasFridge = SimpleFridge()  #important! we need the () at the end... see below\n",
    "print(elianasFridge.fridge_type)\n",
    "print(elianasFridge.door_status)\n"
   ]
  },
  {
   "cell_type": "markdown",
   "metadata": {},
   "source": [
    "Now we can create some starting functionality. For example, we can code open and close the door:"
   ]
  },
  {
   "cell_type": "code",
   "execution_count": null,
   "metadata": {},
   "outputs": [],
   "source": [
    "class SimpleFridge:\n",
    "    \"\"\"A simple fridge class\"\"\"\n",
    "    fridge_type = 'simple'\n",
    "\n",
    "    def __init__(self):\n",
    "        self.light_status = 'off'\n",
    "        self.door_status = 'closed'\n",
    "        self.veggie_drawer = dict()\n",
    "        self.shelf = dict()\n",
    "\n",
    "    def open_door(self):\n",
    "        # we can only open the door if it is closed!\n",
    "        if(self.door_status == 'closed'):\n",
    "            self.door_status = 'open'\n",
    "            self.light_status = 'on' # fridges always turn the light on when the door is open!\n",
    "\n",
    "    def close_door(self):\n",
    "        # we can only open the door if it is open!\n",
    "        if(self.door_status == 'open'):\n",
    "            self.door_status = 'closed'\n",
    "            self.light_status = 'off' # fridges always turn the light on when the door is open!\n",
    "\n",
    "\n",
    "# I can create an object here:\n",
    "elianasFridge = SimpleFridge()  #important! we need the () at the end... see below\n",
    "print(elianasFridge.fridge_type)\n",
    "print(elianasFridge.door_status)\n",
    "elianasFridge.open_door()\n",
    "print(elianasFridge.door_status)"
   ]
  },
  {
   "cell_type": "markdown",
   "metadata": {},
   "source": [
    "Now, let's do something a bit more interesting.  Let's create a function to store a vegetable. In this case, we will need the name of the vegetable as well as its quantity to store it in the drawer. This is how we can define that:"
   ]
  },
  {
   "cell_type": "code",
   "execution_count": null,
   "metadata": {},
   "outputs": [],
   "source": [
    "class SimpleFridge:\n",
    "    \"\"\"A simple fridge class\"\"\"\n",
    "    fridge_type = 'simple'\n",
    "\n",
    "    def __init__(self):\n",
    "        self.light_status = 'off'\n",
    "        self.door_status = 'closed'\n",
    "        self.veggie_drawer = dict()\n",
    "        self.shelf = dict()\n",
    "\n",
    "    def open_door(self):\n",
    "        # we can only open the door if it is closed!\n",
    "        if(self.door_status == 'closed'):\n",
    "            self.door_status = 'open'\n",
    "            self.light_status = 'on' # fridges always turn the light on when the door is open!\n",
    "\n",
    "    def close_door(self):\n",
    "        # we can only open the door if it is open!\n",
    "        if(self.door_status == 'open'):\n",
    "            self.door_status = 'closed'\n",
    "            self.light_status = 'off' # fridges always turn the light on when the door is open!\n",
    "\n",
    "    def store_veggie(self, veggiename, quantity):\n",
    "        # do we already have this veggie in the drawer? If so, increase the veggie quantity\n",
    "        if veggiename in self.veggie_drawer:\n",
    "            self.veggie_drawer[veggiename] = self.veggie_drawer[veggiename] + quantity\n",
    "        else:\n",
    "            self.veggie_drawer[veggiename] = quantity\n",
    "\n",
    "\n",
    "# I can create an object here:\n",
    "elianasFridge = SimpleFridge()  #important! we need the () at the end... see below\n",
    "elianasFridge.store_veggie('carrot', 3)\n",
    "elianasFridge.store_veggie('potato', 2)\n",
    "print(elianasFridge.veggie_drawer)\n",
    "elianasFridge.store_veggie('carrot', 1)\n",
    "elianasFridge.store_veggie('lemon', 0.5)\n",
    "print(elianasFridge.veggie_drawer)"
   ]
  },
  {
   "cell_type": "markdown",
   "metadata": {},
   "source": [
    "In a similar way, we could create another class for shopping bags, with its initaliser and a function to store items... and we could even create another class for a supermarket items, where you could store the type, name and quantity!"
   ]
  },
  {
   "cell_type": "code",
   "execution_count": 24,
   "metadata": {},
   "outputs": [],
   "source": [
    "class CoolShoppingBag: \n",
    "    \"\"\"Cool shopping bag: this bag only stores veggie and cool items. Storing other types of items will raise an exception \"\"\" \n",
    "    def __init__(self):\n",
    "        self.items = list()\n",
    "\n",
    "    def store_item(self,item):\n",
    "        if (item.type == 'veggie') or (item.type == 'cool'):\n",
    "            self.items.append(item)\n",
    "        else:\n",
    "            raise Exception('This bag only stores cool items and vegetables. Use another bag type!')\n",
    "\n",
    "\n",
    "class SupermarketItem():\n",
    "    def __init__(self, type, name, quantity):\n",
    "        self.type = type\n",
    "        self.name = name\n",
    "        self.quantity = quantity"
   ]
  },
  {
   "cell_type": "markdown",
   "metadata": {},
   "source": [
    "Now, imagine we *code* a trip to the stores:"
   ]
  },
  {
   "cell_type": "code",
   "execution_count": null,
   "metadata": {},
   "outputs": [],
   "source": [
    "# we grab our fav cool shopping bag\n",
    "myfavbag = CoolShoppingBag()\n",
    "\n",
    "# passing by the veggie aisle:\n",
    "item0 = SupermarketItem(type='veggie', name='lemon',quantity=50) # it is margarita weekend!\n",
    "item1 = SupermarketItem(type='veggie', name='carrot',quantity=4)\n",
    "item2 = SupermarketItem(type='veggie', name='tomato',quantity=3)\n",
    "myfavbag.store_item(item0)\n",
    "myfavbag.store_item(item1)\n",
    "myfavbag.store_item(item2)\n",
    "\n",
    "# passing by the cool aisle\n",
    "item3 = SupermarketItem(type='cool', name='milk',quantity=1)\n",
    "item4 = SupermarketItem(type='cool', name='beer',quantity=1)\n",
    "myfavbag.store_item(item3)\n",
    "myfavbag.store_item(item4)\n",
    "\n",
    "# passing by the bakery aisle\n",
    "item5 = SupermarketItem(type='bakery',name='biscuits',quantity=10)\n",
    "myfavbag.store_item(item5) # this should raise an exception... do you remember how to catch them?"
   ]
  },
  {
   "cell_type": "markdown",
   "metadata": {},
   "source": [
    "Now, imagine I am home and plan to add all items in the fridge.  We already have a store_veggie function, so I could simply run a for loop and get all items from my shoping bag into the fridge:"
   ]
  },
  {
   "cell_type": "code",
   "execution_count": null,
   "metadata": {},
   "outputs": [],
   "source": [
    "# before adding my newly bought veggies:\n",
    "print(elianasFridge.veggie_drawer)\n",
    "\n",
    "# let's get item by item all those stored in the veggie items list:\n",
    "for item in myfavbag.items:\n",
    "    if item.type == 'veggie':\n",
    "        elianasFridge.store_veggie(veggiename=item.name,quantity=item.quantity)\n",
    "\n",
    "# after adding my newly bought veggies:\n",
    "print(elianasFridge.veggie_drawer)"
   ]
  },
  {
   "cell_type": "markdown",
   "metadata": {},
   "source": [
    "<font color = \"skyblue\"> Could you add a new method to the Fridge class to store other cool items in the shelf?  And store the rest of the items in the shopping bag? </font>"
   ]
  },
  {
   "cell_type": "code",
   "execution_count": null,
   "metadata": {},
   "outputs": [],
   "source": [
    "# copy the code of SimpleFridge and add a new function to 'store_cool_item' similar to 'store_veggie'\n",
    "\n",
    "\n",
    "\n",
    "\n",
    "\n",
    "\n",
    "# after the class is finished (and the object is created), add all items in the shopping bag. Copy and expand the for loop in the prev cell\n",
    "\n",
    "\n"
   ]
  },
  {
   "cell_type": "markdown",
   "metadata": {},
   "source": [
    "Alternatively, you could create a new class that inherites from SimpleFridge and extend it to store cool items... but that is a bit more advanced.  If you are interested, let us know and we can teach you how to do that!\n",
    "\n",
    "In the meantime, you can also check:\n",
    "- https://www.w3schools.com/python/python_classes.asp\n",
    "- https://docs.python.org/dev/tutorial/classes.html"
   ]
  }
 ],
 "metadata": {
  "kernelspec": {
   "display_name": "Python 3",
   "language": "python",
   "name": "python3"
  },
  "language_info": {
   "codemirror_mode": {
    "name": "ipython",
    "version": 3
   },
   "file_extension": ".py",
   "mimetype": "text/x-python",
   "name": "python",
   "nbconvert_exporter": "python",
   "pygments_lexer": "ipython3",
   "version": "3.9.0"
  }
 },
 "nbformat": 4,
 "nbformat_minor": 2
}
