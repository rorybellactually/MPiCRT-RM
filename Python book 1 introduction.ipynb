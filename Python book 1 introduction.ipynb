{
 "cells": [
  {
   "cell_type": "markdown",
   "metadata": {},
   "source": [
    "# <b>Book 1 - Introduction to Python\n",
    "****"
   ]
  },
  {
   "cell_type": "markdown",
   "metadata": {},
   "source": [
    "<b>Hello, welcome to the first jupyter notebook! </b>\n",
    "\n",
    "We have set-up and provided a series of notebooks to introduce you to python and present some key concepts you will need throughout the programme. The best way to learn how to code is to give it a go! These notebooks are interactive, you will run cells which we have provided, but you can also change the contents of the cell and add your own to explore ideas and concepts more fully. \n",
    "\n",
    "Most of all, enjoy! "
   ]
  },
  {
   "cell_type": "markdown",
   "metadata": {},
   "source": [
    "<b>Useful resources</b>\n",
    "<br/><br/>\n",
    "\n",
    "... online links etc.\n",
    "\n",
    "\n"
   ]
  },
  {
   "cell_type": "markdown",
   "metadata": {},
   "source": [
    "<div class=\"alert alert-success\">\n",
    "Books in green provide suggestions for you to try and gain experience in writing, handling and adapting python code. \n",
    "\n",
    "</div>"
   ]
  },
  {
   "cell_type": "markdown",
   "metadata": {},
   "source": [
    "\n",
    "\n",
    "\n",
    "\n",
    "****"
   ]
  },
  {
   "cell_type": "markdown",
   "metadata": {},
   "source": [
    "Okay, let's begin!\n",
    "\n",
    "Each notebook will present you with interactive examples and explainations all in one place. These can be used as a reference for future work too. The code cells allow you to run and edit Python code. We will also present ideas in  green boxes to further test your understanding of what has been presented. \n",
    "\n",
    "To run a cell hold the **shift** key and press the **enter** button at the same time (**shift** + **enter**), or press the play triangle, top left beside each code box.\n",
    "\n",
    "### Part 1 - Printing!"
   ]
  },
  {
   "cell_type": "code",
   "execution_count": 7,
   "metadata": {},
   "outputs": [
    {
     "name": "stdout",
     "output_type": "stream",
     "text": [
      "Hello world\n"
     ]
    }
   ],
   "source": [
    "print('Hello world')"
   ]
  },
  {
   "cell_type": "markdown",
   "metadata": {},
   "source": [
    "<div class=\"alert alert-block alert-success\">\n",
    "\n",
    "Try and change what the statement will print and re-run the box\n",
    "\n",
    "</div>"
   ]
  },
  {
   "cell_type": "code",
   "execution_count": 6,
   "metadata": {},
   "outputs": [
    {
     "name": "stdout",
     "output_type": "stream",
     "text": [
      "add text here\n"
     ]
    }
   ],
   "source": [
    "print('add text here')"
   ]
  },
  {
   "cell_type": "markdown",
   "metadata": {},
   "source": [
    "****"
   ]
  },
  {
   "cell_type": "markdown",
   "metadata": {},
   "source": [
    "### Part 2 - commenting your code "
   ]
  },
  {
   "cell_type": "markdown",
   "metadata": {},
   "source": [
    "Comments are essential to provide understanding of your code and documenting your implementation. A comment is a line or lines of code which are not executed - i.e., they do not run only provide understanding for a reader. In python we can do this in a number of ways.\n",
    "\n",
    "1. using the hash symbol **#** "
   ]
  },
  {
   "cell_type": "code",
   "execution_count": 8,
   "metadata": {},
   "outputs": [
    {
     "name": "stdout",
     "output_type": "stream",
     "text": [
      "Here is the code you wrote\n"
     ]
    }
   ],
   "source": [
    "# This is my comment to tell you what the next line does, this won't be seen by the script\n",
    "print(\"Here is the code you wrote\")"
   ]
  },
  {
   "cell_type": "markdown",
   "metadata": {},
   "source": [
    "1. **#** can also be use inline with code to provide a direct comment against a line of code"
   ]
  },
  {
   "cell_type": "code",
   "execution_count": 13,
   "metadata": {},
   "outputs": [
    {
     "name": "stdout",
     "output_type": "stream",
     "text": [
      "Here is different code\n"
     ]
    }
   ],
   "source": [
    "print(\"Here is different code\") # This line will print \"Here is the code again\""
   ]
  },
  {
   "cell_type": "markdown",
   "metadata": {},
   "source": [
    "2. Multi-line comments using a triple quote **\"\"\"**"
   ]
  },
  {
   "cell_type": "code",
   "execution_count": 10,
   "metadata": {},
   "outputs": [
    {
     "name": "stdout",
     "output_type": "stream",
     "text": [
      "Code from here!\n"
     ]
    }
   ],
   "source": [
    "\"\"\"\n",
    "What ever you write inside here will not be seen by the script\n",
    "no matter how many lines you use\n",
    "anything between the triple quote\n",
    "is to document the code to help someone understand it's purpose \n",
    "\"\"\"\n",
    "\n",
    "print(\"Code from here!\")"
   ]
  },
  {
   "cell_type": "markdown",
   "metadata": {},
   "source": [
    "2. Multi-line comments can be useful for providing a header for your script, documenting the name, author, version number, description of use (a simple example is included below). \n",
    "<br/><br/>They are also common for documenting the use of a function, or a class as you will see later in these notebooks.    "
   ]
  },
  {
   "cell_type": "code",
   "execution_count": 12,
   "metadata": {},
   "outputs": [
    {
     "name": "stdout",
     "output_type": "stream",
     "text": [
      "My name is Alan McWilliam\n"
     ]
    }
   ],
   "source": [
    "\"\"\"\n",
    "Script: This script will print my name.\n",
    "Author: Alan McWilliam\n",
    "Version: 1.0\n",
    "\n",
    "Date: 12th September 2024\n",
    "\n",
    "\"\"\"\n",
    "\n",
    "print(\"My name is Alan McWilliam\")"
   ]
  },
  {
   "cell_type": "markdown",
   "metadata": {},
   "source": [
    "Getting a good balance of comments is important to ensure your code remains understandable, too many comments can make your code difficult to read. By naming your variables and functions with a descriptive name can also aid a reader. Comments are particulary useful where there may be difficulties in understaind a tricky piece of your code. "
   ]
  },
  {
   "cell_type": "markdown",
   "metadata": {},
   "source": [
    "***"
   ]
  }
 ],
 "metadata": {
  "kernelspec": {
   "display_name": "Python 3",
   "language": "python",
   "name": "python3"
  },
  "language_info": {
   "codemirror_mode": {
    "name": "ipython",
    "version": 3
   },
   "file_extension": ".py",
   "mimetype": "text/x-python",
   "name": "python",
   "nbconvert_exporter": "python",
   "pygments_lexer": "ipython3",
   "version": "3.11.6"
  }
 },
 "nbformat": 4,
 "nbformat_minor": 2
}
