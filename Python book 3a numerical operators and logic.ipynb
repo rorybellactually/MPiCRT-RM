{
 "cells": [
  {
   "cell_type": "markdown",
   "metadata": {},
   "source": [
    "# <b>Book 3a - Variables: numerical and logic operators\n",
    "****"
   ]
  },
  {
   "cell_type": "markdown",
   "metadata": {},
   "source": [
    "Operators in python (an most high level programming languages) can be used for computational tasks, comparisons and logic. In this notebook we will introduce numerical operators and logic for comptational tasks. "
   ]
  },
  {
   "cell_type": "markdown",
   "metadata": {},
   "source": [
    "### Part 1 - Numerical operators"
   ]
  },
  {
   "cell_type": "markdown",
   "metadata": {},
   "source": [
    "The arthmetic operations **+ (addition), - (subtraction), * (multiplication), / (division)** allow basic mathematial tasks to be performed and can be combined to make more complex statements too. You will also see these operatoirs being used on arrays, and other variable types, in other examples."
   ]
  },
  {
   "cell_type": "code",
   "execution_count": 1,
   "metadata": {},
   "outputs": [
    {
     "name": "stdout",
     "output_type": "stream",
     "text": [
      "20\n"
     ]
    }
   ],
   "source": [
    "firstNumber = 5\n",
    "secondNumber = 15\n",
    "\n",
    "print(firstNumber + secondNumber)"
   ]
  },
  {
   "cell_type": "code",
   "execution_count": 2,
   "metadata": {},
   "outputs": [
    {
     "name": "stdout",
     "output_type": "stream",
     "text": [
      "20\n"
     ]
    }
   ],
   "source": [
    "print(firstNumber + 30 -15)"
   ]
  },
  {
   "cell_type": "code",
   "execution_count": 3,
   "metadata": {},
   "outputs": [
    {
     "name": "stdout",
     "output_type": "stream",
     "text": [
      "75\n"
     ]
    }
   ],
   "source": [
    "print(firstNumber * secondNumber)"
   ]
  },
  {
   "cell_type": "markdown",
   "metadata": {},
   "source": [
    "One thing to be careful about is division by 0 which has no meaning. This will always throw a **ZeroDivisionError**. This can happen by accident if the variable (especially arrays etc.) contains a zero."
   ]
  },
  {
   "cell_type": "code",
   "execution_count": 4,
   "metadata": {},
   "outputs": [
    {
     "ename": "ZeroDivisionError",
     "evalue": "division by zero",
     "output_type": "error",
     "traceback": [
      "\u001b[1;31m---------------------------------------------------------------------------\u001b[0m",
      "\u001b[1;31mZeroDivisionError\u001b[0m                         Traceback (most recent call last)",
      "Cell \u001b[1;32mIn[4], line 1\u001b[0m\n\u001b[1;32m----> 1\u001b[0m \u001b[43mfirstNumber\u001b[49m\u001b[43m \u001b[49m\u001b[38;5;241;43m/\u001b[39;49m\u001b[43m \u001b[49m\u001b[38;5;241;43m0\u001b[39;49m\n",
      "\u001b[1;31mZeroDivisionError\u001b[0m: division by zero"
     ]
    }
   ],
   "source": [
    "firstNumber / 0"
   ]
  },
  {
   "cell_type": "markdown",
   "metadata": {},
   "source": [
    "Let us try some other arthmetic operators. Have a look at the code block below and see what each line does."
   ]
  },
  {
   "cell_type": "code",
   "execution_count": 11,
   "metadata": {},
   "outputs": [
    {
     "name": "stdout",
     "output_type": "stream",
     "text": [
      "This is addition:  6\n",
      "This is subraction  2\n",
      "This is multiplication:  8\n",
      "This is division:  2.0\n",
      "This is a modulo:  0\n",
      "This is a floor division:  2\n",
      "This is an exponentiation:  16\n"
     ]
    }
   ],
   "source": [
    "n1 = 4\n",
    "n2 = 2\n",
    "\n",
    "print('This is addition: ', n1 + n2)\n",
    "print('This is subraction ', n1 - n2)\n",
    "print('This is multiplication: ', n1 * n2)\n",
    "print('This is division: ', n1 / n2)\n",
    "print('This is a modulo: ', n1 % n2)\n",
    "print('This is a floor division: ', n1 // n2)\n",
    "print('This is an exponentiation: ', n1 ** n2)"
   ]
  },
  {
   "cell_type": "markdown",
   "metadata": {},
   "source": [
    "The **modulo** function **%** can help identify odd and even numbers as it returns the remainder of a devision. If we divide a number by two, an even number has no remainder while an odd number will have a remainder. Try the code blocks below, feel free to try and change numbers and see if this holds true."
   ]
  },
  {
   "cell_type": "code",
   "execution_count": 5,
   "metadata": {},
   "outputs": [
    {
     "data": {
      "text/plain": [
       "1"
      ]
     },
     "execution_count": 5,
     "metadata": {},
     "output_type": "execute_result"
    }
   ],
   "source": [
    "n = 3\n",
    "n % 2"
   ]
  },
  {
   "cell_type": "code",
   "execution_count": 6,
   "metadata": {},
   "outputs": [
    {
     "data": {
      "text/plain": [
       "0"
      ]
     },
     "execution_count": 6,
     "metadata": {},
     "output_type": "execute_result"
    }
   ],
   "source": [
    "n = 4\n",
    "n % 2"
   ]
  },
  {
   "cell_type": "markdown",
   "metadata": {},
   "source": [
    "<div class=\"alert alert-success\">\n",
    "Use the box below to try the above numerical operators. Try different numbers and make sure you understand what each is doing.\n",
    "</div>"
   ]
  },
  {
   "cell_type": "code",
   "execution_count": 19,
   "metadata": {},
   "outputs": [],
   "source": [
    "n1 = 4\n",
    "n2 = 2\n",
    "\n",
    "# Try different numerical operators here. Change the values of n1 and n2.\n",
    "\n",
    "\n"
   ]
  },
  {
   "cell_type": "markdown",
   "metadata": {},
   "source": [
    "<div class=\"alert alert-success\">\n",
    "Using numerical operators try and write a formula for converting a temperature in farenheit into celcius. \n",
    "<br/><br/>\n",
    "The formula: temp(celcius) = ( temp(farenheit) - 32 ) multipled by 5 and dividied by 9 \n",
    "</div>"
   ]
  },
  {
   "cell_type": "code",
   "execution_count": null,
   "metadata": {},
   "outputs": [],
   "source": [
    "f = 32\n",
    "c = "
   ]
  },
  {
   "cell_type": "markdown",
   "metadata": {},
   "source": [
    "****"
   ]
  },
  {
   "cell_type": "markdown",
   "metadata": {},
   "source": [
    "### Part 3 logic operators"
   ]
  },
  {
   "cell_type": "markdown",
   "metadata": {},
   "source": [
    "**True** or **False** expressions are called Boolean objects or expressions and can be evaluated with logical operators. These are useful in code to allow choices to be made. As an example, if you want to decide to take your sun glasses with you, you might look at a window and ask, 'Is it sunny outside?'. If it is sunny (True) then you would take your sun glasses, if the answer was no (False) then you would leave them behind. \n",
    "<br/><br/>\n",
    "It is helpful to consider logical operators before we look to see how we can use them to perform **selection**. "
   ]
  },
  {
   "cell_type": "markdown",
   "metadata": {},
   "source": [
    "<li>not a --> **Not** --> Reverses the value of a. i.e., True becomes False or False becomes True</li>\n",
    "<li>a and b --> **And** --> True if a and b are True </li>\n",
    "<li>a or b  --> **Or**  --> True if either a or b are True</li>"
   ]
  },
  {
   "cell_type": "markdown",
   "metadata": {},
   "source": [
    "We can then combine these logical operators together to make decisions in our scripts. This will allow a scropt to do different things depending on its input(S). We do this using the above operators, and the keywords **if**, **elif**, and **else**. "
   ]
  },
  {
   "cell_type": "code",
   "execution_count": 20,
   "metadata": {},
   "outputs": [
    {
     "name": "stdout",
     "output_type": "stream",
     "text": [
      "Take you sun glasses!\n"
     ]
    }
   ],
   "source": [
    "sunny = True\n",
    "\n",
    "if sunny == True:\n",
    "    print('Take your sun glasses!')\n",
    "else:\n",
    "    print('No need for sun glasses today.')"
   ]
  },
  {
   "cell_type": "markdown",
   "metadata": {},
   "source": [
    "**Important:** There are some important aspects to consider in the above code block. First, we have defined a variable called **sunny** and set it to equal **True**. The next line asks a question, *'Is it sunny?* (**sunny == True**). Note that thsi line ends with a colon **:**. Thsi tells python that the next line (which needs to be indented) is contained within that line ending with the colon. (This could be many lines contained within the indent, not just one). In our case, this means the line *print('Take your sun glasses!')* will only be seen and run by the script, if the variable **sunny** equals **True**.\n",
    "<br/><br/>\n",
    "The **else** keyword described what will happen if the first expression is not met, i.e., if **sunny** equals **False** "
   ]
  },
  {
   "cell_type": "markdown",
   "metadata": {},
   "source": [
    "<div class=\"alert alert-success\">\n",
    "<b>Note</b> you do not need an **else** statement. In the above cell try and change **sunny** to **False** and run the block again. \n",
    "\n",
    "</div>"
   ]
  },
  {
   "cell_type": "markdown",
   "metadata": {},
   "source": [
    "You can build the compexity in these expressions, for instance you need to own sunny glassess to be able to take them, so we need to add in the question 'Do I own sun glasses?'. This now means we need to check two logic states within an expression using the **and** operator. We also have alternative conditions to check so need to introduce the keyword **elif** (else if). For example:"
   ]
  },
  {
   "cell_type": "code",
   "execution_count": 28,
   "metadata": {},
   "outputs": [
    {
     "name": "stdout",
     "output_type": "stream",
     "text": [
      "Take your sun glasses!\n"
     ]
    }
   ],
   "source": [
    "sunny = True\n",
    "sunGlasses = True\n",
    "\n",
    "if sunny == True and sunGlasses == True:\n",
    "    print('Take your sun glasses!')\n",
    "elif sunny == True and sunGlasses == False:\n",
    "    print('It is going to be bright...')\n",
    "else:\n",
    "    print('You will be fine')"
   ]
  },
  {
   "cell_type": "markdown",
   "metadata": {},
   "source": [
    "<div class=\"alert alert-success\">\n",
    "Play around with the <b>True</b> and <b>False</b> with the variables defined in the first two lines and make sure you understand the expressions.\n",
    "\n",
    "</div>"
   ]
  },
  {
   "cell_type": "markdown",
   "metadata": {},
   "source": [
    "Python allows for a shorthand in these expressions. We don't have to explicitly define **==True**, we can just write **if sunny**. This helps with concisness in our code but will take a little practice to get this working well. For example, we can re-write the above code to be more concise like:"
   ]
  },
  {
   "cell_type": "code",
   "execution_count": 32,
   "metadata": {},
   "outputs": [
    {
     "name": "stdout",
     "output_type": "stream",
     "text": [
      "Take your sun glasses!\n"
     ]
    }
   ],
   "source": [
    "sunny = True\n",
    "sunGlasses = True\n",
    "\n",
    "if sunny and sunGlasses:\n",
    "    print('Take your sun glasses!')\n",
    "elif sunny and not sunGlasses:\n",
    "    print('It is going to be bright...')\n",
    "else:\n",
    "    print('You will be fine')"
   ]
  },
  {
   "cell_type": "markdown",
   "metadata": {},
   "source": [
    "You can combine a number of expressions as needed. For example, if I needed a script to tell me the classifications of a mark for an assessment I could write something like... "
   ]
  },
  {
   "cell_type": "code",
   "execution_count": 41,
   "metadata": {},
   "outputs": [
    {
     "name": "stdout",
     "output_type": "stream",
     "text": [
      "Pass\n"
     ]
    }
   ],
   "source": [
    "mark = 55\n",
    "\n",
    "if mark <40:\n",
    "    print('Fail')\n",
    "elif mark >= 40 and mark < 60:\n",
    "    print('Pass')\n",
    "elif mark >= 60 and mark <70:\n",
    "    print('Merit')\n",
    "elif mark >= 70:\n",
    "    print('Distinction')\n",
    "else:\n",
    "    print('Mark not valid, please check entry.')"
   ]
  },
  {
   "cell_type": "markdown",
   "metadata": {},
   "source": [
    "<div class=\"alert alert-success\">\n",
    "In the code block below, write a script that will take a number and check if it is even or odd and priont out a messgae to tell the user the answer.\n",
    "\n",
    "</div>"
   ]
  },
  {
   "cell_type": "code",
   "execution_count": null,
   "metadata": {},
   "outputs": [],
   "source": [
    "numb = 3\n",
    "\n"
   ]
  },
  {
   "cell_type": "markdown",
   "metadata": {},
   "source": [
    "***"
   ]
  }
 ],
 "metadata": {
  "kernelspec": {
   "display_name": "Python 3",
   "language": "python",
   "name": "python3"
  },
  "language_info": {
   "codemirror_mode": {
    "name": "ipython",
    "version": 3
   },
   "file_extension": ".py",
   "mimetype": "text/x-python",
   "name": "python",
   "nbconvert_exporter": "python",
   "pygments_lexer": "ipython3",
   "version": "3.11.6"
  }
 },
 "nbformat": 4,
 "nbformat_minor": 2
}
