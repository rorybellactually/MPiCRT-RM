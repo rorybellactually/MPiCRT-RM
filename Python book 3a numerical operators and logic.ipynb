{
 "cells": [
  {
   "cell_type": "markdown",
   "metadata": {},
   "source": [
    "# <b>Book 3a - Variables: numerical and logic operators\n",
    "****"
   ]
  },
  {
   "cell_type": "markdown",
   "metadata": {},
   "source": [
    "Operators (+, -, *, /, etc) in Python (and most high level programming languages) can be used for variable or value comparisons, computational tasks, and logic. In this notebook we will introduce numerical operators and logic for computational tasks. "
   ]
  },
  {
   "cell_type": "markdown",
   "metadata": {},
   "source": [
    "## Part 1 - Numerical operators"
   ]
  },
  {
   "cell_type": "markdown",
   "metadata": {},
   "source": [
    "The arthmetic operations **+ (addition), - (subtraction), * (multiplication), / (division)** allow basic mathematial tasks to be performed and can be combined to make compound and unambiguous statements too. They can be used on values, variables, and data structures like arrays."
   ]
  },
  {
   "cell_type": "code",
   "execution_count": null,
   "metadata": {},
   "outputs": [],
   "source": [
    "firstNumber = 5\n",
    "secondNumber = 15\n",
    "\n",
    "print(firstNumber + secondNumber)"
   ]
  },
  {
   "cell_type": "code",
   "execution_count": null,
   "metadata": {},
   "outputs": [],
   "source": [
    "print(firstNumber + 30 -15)"
   ]
  },
  {
   "cell_type": "code",
   "execution_count": null,
   "metadata": {},
   "outputs": [],
   "source": [
    "print(firstNumber * secondNumber)"
   ]
  },
  {
   "cell_type": "markdown",
   "metadata": {},
   "source": [
    "Misuses of the operators can result in erors being thrown. For example, division by 0 will throw a **ZeroDivisionError**. This can happen by accident if the variable (especially arrays etc.) contains a zero. When an error is thrown, it will produce a Traceback. We'll talk more about Tracebacks and what they mean in Notebook 6."
   ]
  },
  {
   "cell_type": "code",
   "execution_count": null,
   "metadata": {},
   "outputs": [],
   "source": [
    "firstNumber / 0"
   ]
  },
  {
   "cell_type": "markdown",
   "metadata": {},
   "source": [
    "Let us try some other arthmetic operators. Have a look at the code block below and see what each line does."
   ]
  },
  {
   "cell_type": "code",
   "execution_count": null,
   "metadata": {},
   "outputs": [],
   "source": [
    "n1 = 4\n",
    "n2 = 2\n",
    "\n",
    "print('This is addition: ', n1 + n2)\n",
    "print('This is subraction ', n1 - n2)\n",
    "print('This is multiplication: ', n1 * n2)\n",
    "print('This is division: ', n1 / n2)\n",
    "print('This is a modulo: ', n1 % n2)\n",
    "print('This is a floor division: ', n1 // n2)\n",
    "print('This is an exponentiation: ', n1 ** n2)"
   ]
  },
  {
   "cell_type": "markdown",
   "metadata": {},
   "source": [
    "The **modulo** function **%** returns the remainder after dividing the dividend by the divisor. It can help identify odd and even numbers or can be used for tasks involving time. If we divide a number by two, an even number has no remainder while an odd number will have a remainder. Try the code blocks below, feel free to try and change numbers think about what other tasks the modulo operator could be used for."
   ]
  },
  {
   "cell_type": "code",
   "execution_count": null,
   "metadata": {},
   "outputs": [],
   "source": [
    "n = 3\n",
    "n % 2"
   ]
  },
  {
   "cell_type": "code",
   "execution_count": null,
   "metadata": {},
   "outputs": [],
   "source": [
    "n = 4\n",
    "n % 2"
   ]
  },
  {
   "cell_type": "markdown",
   "metadata": {},
   "source": [
    "<font color = \"skyblue\"> \n",
    "1. Use the box below to try the above numerical operators. Try and use the operators we talked about above to reach the goal_value. Make sure you understand what each operator is doing.\n",
    "</font>"
   ]
  },
  {
   "cell_type": "code",
   "execution_count": 23,
   "metadata": {},
   "outputs": [],
   "source": [
    "n1 = 2\n",
    "n2 = 3\n",
    "n3 = 7\n",
    "n4 = 10\n",
    "\n",
    "goal_value = 24\n",
    "\n",
    "# Try different numerical operators here. Use the values of n1, n2, n3, and n4 and the operators + - * / % // ** to get to the value 24, or as close as you can.\n",
    "\n",
    "\n"
   ]
  },
  {
   "cell_type": "markdown",
   "metadata": {},
   "source": [
    "<font color = \"skyblue\"> \n",
    "2. Using numerical operators try and write a formula for converting a temperature in farenheit into celcius. \n",
    "<br/><br/>\n",
    "Hint: Celcius temperature is equal to the value of the temperature in Farenheit minus thirty-two, multiplied by five, and divided by nine. How can this unambiguously be described in code? \n",
    "</font>"
   ]
  },
  {
   "cell_type": "code",
   "execution_count": null,
   "metadata": {},
   "outputs": [],
   "source": [
    "f = 32\n",
    "c = "
   ]
  },
  {
   "cell_type": "markdown",
   "metadata": {},
   "source": [
    "****"
   ]
  },
  {
   "cell_type": "markdown",
   "metadata": {},
   "source": [
    "## Part 2 - Logic operators"
   ]
  },
  {
   "cell_type": "markdown",
   "metadata": {},
   "source": [
    "**True** or **False** expressions are called **Boolean** objects (after 19th-century English mathemetician <a href=\"https://en.wikipedia.org/wiki/Boolean_data_type\">George Boole</a>) and can be evaluated with logical operators. In Python, these operators are: 'and', 'or', and 'not'. These are useful in code to allow choices to be made based on the values of certain expressions or variables. \n",
    "\n",
    "As a real-life example of a boolean condition, consider the decision of taking your sunglasses with you. One way you might make your decision is by looking outside and asking yourself, 'Is it sunny outside?'. If it is sunny (True) then you would take your sunglasses; if it is cloudy (False), you will leave them behind. The same thought process can be applied to programming languages when you want to make certain sections of code <i>execute</i>, or run, based on predefined conditions.\n",
    "<br/><br/>\n",
    "\n",
    "It is helpful to consider logical operators before we look to see how we can use them to perform **selection**. \n",
    "\n",
    "Consider the variables <i>a</i>, <i>b</i>, and <i>c</i> set to some boolean value (either True or False). It's important to note that in Python, boolean values are *Capitalised*. Using the non-capitalised version will cause your code to try and evaluate a variable 'true' instead of the boolean flag 'True', which will cause unintended consequences in your code. It is bad practice to define the variable 'true' (what happens when you accidentally change it in the next code section?) so it's best to leave it undefined."
   ]
  },
  {
   "cell_type": "markdown",
   "metadata": {},
   "source": [
    "<li>not a --> Reverses the value of a. i.e., True becomes False or False becomes True</li>\n",
    "<li>a and b --> True if a and b are True </li>\n",
    "<li>a or b  --> True if either a or b are True</li>"
   ]
  },
  {
   "cell_type": "code",
   "execution_count": null,
   "metadata": {},
   "outputs": [],
   "source": [
    "a = True\n",
    "b = False\n",
    "\n",
    "# NOT operator\n",
    "print(\"not a:\", not a)\n",
    "\n",
    "# AND operator\n",
    "print(\"a and b:\", a and b)\n",
    "\n",
    "# OR operator\n",
    "print(\"a or b:\", a or b)"
   ]
  },
  {
   "cell_type": "markdown",
   "metadata": {},
   "source": [
    "We can also combine these logical operators together to make decisions in our scripts. "
   ]
  },
  {
   "cell_type": "code",
   "execution_count": null,
   "metadata": {},
   "outputs": [],
   "source": [
    "# Combining operators\n",
    "c = True\n",
    "print(\"a and (b or c):\", a and (b or c))"
   ]
  },
  {
   "cell_type": "markdown",
   "metadata": {},
   "source": [
    "Boolean conditions are most useful when deciding which block of code to execute. This is done using **if** statements on the boolean conditions. 'If' statements can be customised with the **elif**, and **else** keywords. 'If' and 'else' can only be used once, but 'elif' can be used multiple, which can be useful when designing complex decisions. It is generally considered poor coding practice to stack too many 'elif' statements. We will return to 'if' statements in Notebook 4."
   ]
  },
  {
   "cell_type": "code",
   "execution_count": null,
   "metadata": {},
   "outputs": [],
   "source": [
    "sunny = True\n",
    "\n",
    "if sunny == True:\n",
    "    print('Take your sun glasses!')\n",
    "else:\n",
    "    print('No need for sun glasses today.')"
   ]
  },
  {
   "cell_type": "markdown",
   "metadata": {},
   "source": [
    "**Important:** There are some important aspects to consider in the above code block. First, we have defined a variable called **sunny** and set it to equal **True**. The next line asks a question, *'Is the variable sunny set to True?* Note that this line ends with a colon '**:**'. This tells Python that the next line (which needs to be indented) should follow if the condition in the 'if' statement evaluates to 'True'. The indent is important, because it defines an entire block of code to execute; this could be many lines, not just one as above. In the block above, sunny evaluating to 'True' means the line *print('Take your sun glasses!')* will be executed.\n",
    "<br/><br/>\n",
    "The **else** keyword described what will happen if the first expression is not met, i.e., if **sunny** equals **False** "
   ]
  },
  {
   "cell_type": "markdown",
   "metadata": {},
   "source": [
    "<font color = \"skyblue\"> \n",
    "<b>Note</b> An 'if' statment does not require an **else** statement. In the above cell try and change **sunny** to **False** and run the block again. \n",
    "\n",
    "</font>"
   ]
  },
  {
   "cell_type": "markdown",
   "metadata": {},
   "source": [
    "'If' statements can consider more than one boolean expression. For example, to be able to take your sunglasses when it's sunny outside, you also need to own a pair of sunglassess. We need to add in the question 'Do I own sun glasses?'. This now means we need to check two logic states within an expression using the **and** operator. Now that we have two conditions, the number of possibilites is greater (specifically $2^n$), so we need to use an **elif** (else if) statement. For example:"
   ]
  },
  {
   "cell_type": "code",
   "execution_count": null,
   "metadata": {},
   "outputs": [],
   "source": [
    "sunny = True\n",
    "sunGlasses = True\n",
    "\n",
    "if sunny == True and sunGlasses == True:\n",
    "    print('Take your sun glasses!')\n",
    "elif sunny == True and sunGlasses == False:\n",
    "    print('It is going to be bright...')\n",
    "else:\n",
    "    print('You will be fine')"
   ]
  },
  {
   "cell_type": "markdown",
   "metadata": {},
   "source": [
    "<font color = \"skyblue\"> \n",
    "Play around with the <b>True</b> and <b>False</b> with the variables defined in the first two lines and make sure you understand the expressions.\n",
    "\n",
    "</font>"
   ]
  },
  {
   "cell_type": "markdown",
   "metadata": {},
   "source": [
    "Python allows for a shorthand in these expressions. We don't have to explicitly define **==True**, we can just write **if sunny**. This helps with concisness in our code but will take a little practice to get this working well. For example, we can re-write the above code to be more concise like:"
   ]
  },
  {
   "cell_type": "code",
   "execution_count": null,
   "metadata": {},
   "outputs": [],
   "source": [
    "sunny = True\n",
    "sunGlasses = True\n",
    "\n",
    "if sunny and sunGlasses:\n",
    "    print('Take your sun glasses!')\n",
    "elif sunny and not sunGlasses:\n",
    "    print('It is going to be bright...')\n",
    "else:\n",
    "    print('You will be fine')"
   ]
  },
  {
   "cell_type": "markdown",
   "metadata": {},
   "source": [
    "<font color = \"skyblue\"> \n",
    "This shorthand also works with the logic operators discussed above, i.e., we can check 'if not sunny'. Try this in the above cell.\n",
    "</font>\n"
   ]
  },
  {
   "cell_type": "markdown",
   "metadata": {},
   "source": [
    "You can combine a number of expressions as needed. For example, if I needed a script to tell me the classifications of a mark for an assessment I could write something like... "
   ]
  },
  {
   "cell_type": "code",
   "execution_count": null,
   "metadata": {},
   "outputs": [],
   "source": [
    "mark = 55\n",
    "\n",
    "if mark <40:\n",
    "    print('Fail')\n",
    "elif mark >= 40 and mark < 60:\n",
    "    print('Pass')\n",
    "elif mark >= 60 and mark <70:\n",
    "    print('Merit')\n",
    "elif mark >= 70:\n",
    "    print('Distinction')\n",
    "else:\n",
    "    print('Mark not valid, please check entry.')"
   ]
  },
  {
   "cell_type": "markdown",
   "metadata": {},
   "source": [
    "<font color = \"skyblue\"> \n",
    "In the code block below, write a script that will take a number and check if it is even or odd and priont out a messgae to tell the user the answer.\n",
    "\n",
    "</font>"
   ]
  },
  {
   "cell_type": "code",
   "execution_count": 31,
   "metadata": {},
   "outputs": [],
   "source": [
    "numb = 3\n",
    "\n"
   ]
  },
  {
   "cell_type": "markdown",
   "metadata": {},
   "source": [
    "***"
   ]
  },
  {
   "cell_type": "markdown",
   "metadata": {},
   "source": [
    "Finally, the last thing to consider is operator precedence. This is the order in which operations are performed in an expression with multiple operators. For example, in the expression 3 + 4 * 2, the multiplication is performed first, followed by the addition, resulting in 11. To change the order of operations, parentheses can be used. For example, (3 + 4) * 2 would result in 14."
   ]
  },
  {
   "cell_type": "code",
   "execution_count": null,
   "metadata": {},
   "outputs": [],
   "source": [
    "print(\"No parentheses: \", 3 + 4 * 2)\n",
    "print(\"With parentheses: \", (3 + 4) * 2)"
   ]
  },
  {
   "cell_type": "markdown",
   "metadata": {},
   "source": [
    "And that's it for numerical operators and logic! We didn't get into comparison operators (<, ==, !=, >), but the example above shows how they can be used to compare numerical values. Comparison operators can also be used on strings to check lexographical order (i.e. which would come first in the dictionary), but In the next Notebook, we'll look more at string manipulation and how it can be used in Python. "
   ]
  }
 ],
 "metadata": {
  "kernelspec": {
   "display_name": "base",
   "language": "python",
   "name": "python3"
  },
  "language_info": {
   "codemirror_mode": {
    "name": "ipython",
    "version": 3
   },
   "file_extension": ".py",
   "mimetype": "text/x-python",
   "name": "python",
   "nbconvert_exporter": "python",
   "pygments_lexer": "ipython3",
   "version": "3.12.9"
  }
 },
 "nbformat": 4,
 "nbformat_minor": 2
}
