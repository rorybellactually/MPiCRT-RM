{
 "cells": [
  {
   "cell_type": "markdown",
   "metadata": {},
   "source": [
    "# <b>Book 5 - Functions\n",
    "****\n"
   ]
  },
  {
   "cell_type": "markdown",
   "metadata": {},
   "source": [
    "### Part 1 - basics of functions"
   ]
  },
  {
   "cell_type": "markdown",
   "metadata": {},
   "source": [
    "We have already used function throughout these notebooks. For example, commands like **print()** and **len()** are functions. Functions allow us to make our code more modular and handle lines of code that may be used multiple times. A function carries out a specific task and importantly **a function should only do one task**. \n",
    "<br/><br/>\n",
    "In python a function is made by using the **def** command, followed by your (explainable) function name. We can also pass any variables or paramters that the function needs for the operation. A function can also pass back, return, an output."
   ]
  },
  {
   "cell_type": "markdown",
   "metadata": {},
   "source": [
    "For example, run the cell below which contains a simple function. What happens?"
   ]
  },
  {
   "cell_type": "code",
   "execution_count": 1,
   "metadata": {},
   "outputs": [],
   "source": [
    "def hello():\n",
    "    print('hello')"
   ]
  },
  {
   "cell_type": "markdown",
   "metadata": {},
   "source": [
    "Nothing happened, this sets the function but does not call the function. We need to do this by using the functions name followed by parenthesis (). Run the following cell:"
   ]
  },
  {
   "cell_type": "code",
   "execution_count": 2,
   "metadata": {},
   "outputs": [
    {
     "name": "stdout",
     "output_type": "stream",
     "text": [
      "hello\n"
     ]
    }
   ],
   "source": [
    "hello()"
   ]
  },
  {
   "cell_type": "markdown",
   "metadata": {},
   "source": [
    "We can update the function above to accept a variable to be used internally by the function. Here, we will upate the function to accept a string and print an individualised hello message. Run the following cells:"
   ]
  },
  {
   "cell_type": "code",
   "execution_count": 6,
   "metadata": {},
   "outputs": [],
   "source": [
    "def hello_2(name):\n",
    "    print('Hello ' + name)"
   ]
  },
  {
   "cell_type": "code",
   "execution_count": 9,
   "metadata": {},
   "outputs": [
    {
     "name": "stdout",
     "output_type": "stream",
     "text": [
      "Hello Alan\n"
     ]
    }
   ],
   "source": [
    "hello_2('Alan')"
   ]
  },
  {
   "cell_type": "markdown",
   "metadata": {},
   "source": [
    "You can call functions as many times as you want:"
   ]
  },
  {
   "cell_type": "code",
   "execution_count": 10,
   "metadata": {},
   "outputs": [
    {
     "name": "stdout",
     "output_type": "stream",
     "text": [
      "Hello Alan\n",
      "Hello Eliana\n",
      "Hello Your name...\n"
     ]
    }
   ],
   "source": [
    "hello_2('Alan')\n",
    "hello_2('Eliana')\n",
    "hello_2('Your name...')"
   ]
  },
  {
   "cell_type": "markdown",
   "metadata": {},
   "source": [
    "Functions can accept multiple values, seperated using commas."
   ]
  },
  {
   "cell_type": "code",
   "execution_count": 11,
   "metadata": {},
   "outputs": [],
   "source": [
    "def hello_3(name1, name2):\n",
    "    print('Hello ' + name1 + ' and ' + name2)"
   ]
  },
  {
   "cell_type": "code",
   "execution_count": 12,
   "metadata": {},
   "outputs": [
    {
     "name": "stdout",
     "output_type": "stream",
     "text": [
      "Hello Alan and Eliana\n"
     ]
    }
   ],
   "source": [
    "hello_3('Alan', 'Eliana')"
   ]
  },
  {
   "cell_type": "markdown",
   "metadata": {},
   "source": [
    "Functions can also **return** a value, for example, this can be useful when doing calculations and you need to store the value to use later in the script. Let's set-up a simple example to return the square of a number."
   ]
  },
  {
   "cell_type": "code",
   "execution_count": 16,
   "metadata": {},
   "outputs": [],
   "source": [
    "def square(n):\n",
    "    return n*n\n",
    "    "
   ]
  },
  {
   "cell_type": "code",
   "execution_count": 17,
   "metadata": {},
   "outputs": [
    {
     "name": "stdout",
     "output_type": "stream",
     "text": [
      "25\n",
      "25\n"
     ]
    }
   ],
   "source": [
    "a = square(5)\n",
    "print(a)\n",
    "\n",
    "# or more direct\n",
    "print(square(5))\n"
   ]
  },
  {
   "cell_type": "markdown",
   "metadata": {},
   "source": [
    "<div class=\"alert alert-success\">\n",
    "<b>Try:</b> Use the boxes below to write a simple function to take two numbers and return the sum\n",
    "\n",
    "</div>"
   ]
  },
  {
   "cell_type": "code",
   "execution_count": 18,
   "metadata": {},
   "outputs": [],
   "source": [
    "def add_nums():\n",
    "\n",
    "    return"
   ]
  },
  {
   "cell_type": "code",
   "execution_count": 19,
   "metadata": {},
   "outputs": [],
   "source": [
    "# call function from here"
   ]
  },
  {
   "cell_type": "markdown",
   "metadata": {},
   "source": [
    "You can also pass other data types to functions, for example a list, where the number of elements is not defined. For example, we might want a function to calculate the average of a list of numbers. \n",
    "<br/><br/>\n",
    "**Fell free to try and change the values in the list and the length of the list.**"
   ]
  },
  {
   "cell_type": "code",
   "execution_count": 21,
   "metadata": {},
   "outputs": [
    {
     "name": "stdout",
     "output_type": "stream",
     "text": [
      "3.3333333333333335\n"
     ]
    }
   ],
   "source": [
    "def averageList(num):\n",
    "    total = 0\n",
    "    for i in range(len(num)):\n",
    "        total = total + num[i]\n",
    "    return total / len(num)\n",
    "\n",
    "num = [1, 2, 5, 5, 3, 4]\n",
    "print(averageList(num))"
   ]
  },
  {
   "cell_type": "markdown",
   "metadata": {},
   "source": [
    "Another feature is to provide a default value for a parameter within a function. This can be useful if a parameter mostly has the same value, but allows this to be overwritten when needed. For example, let's write a function to return the value of a number  "
   ]
  },
  {
   "cell_type": "code",
   "execution_count": 29,
   "metadata": {},
   "outputs": [
    {
     "name": "stdout",
     "output_type": "stream",
     "text": [
      "4\n",
      "8\n"
     ]
    }
   ],
   "source": [
    "# ** is a power operator in python\n",
    "def power(n, a = 2):\n",
    "    return n ** a\n",
    "\n",
    "# We are only passing the first parameter, so the default value will be used and return the value to the power 2\n",
    "print(power(2))\n",
    "\n",
    "# If we pass a second value, then this will overwrite the deafult and be used in the function.\n",
    "#For example, let us return the value to the power 3\n",
    "print(power(2, 3))\n",
    "\n"
   ]
  },
  {
   "cell_type": "markdown",
   "metadata": {},
   "source": [
    "Where we have variable numbers of paramters we can use the **args** keyword. This allows us to perform opperations such as:"
   ]
  },
  {
   "cell_type": "code",
   "execution_count": 31,
   "metadata": {},
   "outputs": [
    {
     "name": "stdout",
     "output_type": "stream",
     "text": [
      "1\n",
      "2\n",
      "3\n",
      "4\n",
      "5\n",
      "6\n",
      "7\n",
      "8\n",
      "9\n"
     ]
    }
   ],
   "source": [
    "def display_values(*args):\n",
    "    for arg in args:\n",
    "        print(arg)\n",
    "\n",
    "\n",
    "display_values(1,2,3,4,5,6,7,8,9)"
   ]
  },
  {
   "cell_type": "markdown",
   "metadata": {},
   "source": [
    "In a similar fashion, we can pass a dictionary with key, value pairs to a function using the **kwargs** keyword (key word argument). For example:"
   ]
  },
  {
   "cell_type": "code",
   "execution_count": 32,
   "metadata": {},
   "outputs": [],
   "source": [
    "def lecturer_data(**kwargs):\n",
    "    for key, value in kwargs.items():\n",
    "        print(key, \":\", value)"
   ]
  },
  {
   "cell_type": "code",
   "execution_count": 33,
   "metadata": {},
   "outputs": [
    {
     "name": "stdout",
     "output_type": "stream",
     "text": [
      "name : Alan\n",
      "height_m : 1.8\n",
      "nationality : Scottish\n"
     ]
    }
   ],
   "source": [
    "lecturer_data(name = 'Alan', height_m = '1.8', nationality = 'Scottish')"
   ]
  },
  {
   "cell_type": "markdown",
   "metadata": {},
   "source": [
    "****"
   ]
  },
  {
   "cell_type": "markdown",
   "metadata": {},
   "source": [
    "<div class=\"alert alert-success\">\n",
    "In the box below I have written a function. If we remember from the start we stated (typically) <b>a function should  only do one thing! </b> \n",
    "<br/><br/>\n",
    "In the empty box below, can you try to fix my function, to create a more modular and reusable script where the individual parts can be called individually.  (i.e., implement a seperate function for calculating circumference, area and radius)\n",
    "\n",
    "</div>"
   ]
  },
  {
   "cell_type": "code",
   "execution_count": 34,
   "metadata": {},
   "outputs": [
    {
     "name": "stdout",
     "output_type": "stream",
     "text": [
      "Circumference =  31.41592653589793\n",
      "Radius =  5.0\n",
      "Area = 78.53981633974483\n"
     ]
    }
   ],
   "source": [
    "# Function to calculate and print the circumference, radius and area\n",
    "import math\n",
    "\n",
    "def circles(d):\n",
    "    c = math.pi * d\n",
    "    r = d / 2\n",
    "    a = math.pi * r**2\n",
    "    \n",
    "    print(\"Circumference = \",c)\n",
    "    print(\"Radius = \",r)\n",
    "    print(\"Area =\", a)\n",
    "    \n",
    "\n",
    "diameter = 10\n",
    "circles(diameter)"
   ]
  },
  {
   "cell_type": "code",
   "execution_count": 35,
   "metadata": {},
   "outputs": [],
   "source": [
    "# empty box to implement individual functions for calculating circumference, radius and areas\n",
    "\n"
   ]
  },
  {
   "cell_type": "markdown",
   "metadata": {},
   "source": [
    "***"
   ]
  },
  {
   "cell_type": "markdown",
   "metadata": {},
   "source": [
    "### Part 2 - commenting functions"
   ]
  },
  {
   "cell_type": "markdown",
   "metadata": {},
   "source": [
    "It is good practice to provide commentsto document your functions. You will find different levels of detail in different code you read, with this decided by the author. For example, if we return to the power calculation function from above we could consider comments of the following formats."
   ]
  },
  {
   "cell_type": "code",
   "execution_count": null,
   "metadata": {},
   "outputs": [],
   "source": [
    "# function to return the value of a number to the power of a second number, default is to the power of 2\n",
    "def power(n, a = 2):\n",
    "    return n ** a"
   ]
  },
  {
   "cell_type": "code",
   "execution_count": null,
   "metadata": {},
   "outputs": [],
   "source": [
    "# -------------------------------------------------------------------------------------------------------------------\n",
    "# FUNCTION: power\n",
    "# INPUT: int, int\n",
    "# OUTPUT: int\n",
    "# DESCRIPTION:function to return the value of a number to the power of a second number, default is to the power of 2\n",
    "# \n",
    "# -------------------------------------------------------------------------------------------------------------------\n",
    "def power(n, a = 2):\n",
    "    return n ** a\n"
   ]
  },
  {
   "cell_type": "markdown",
   "metadata": {},
   "source": [
    "Comments can be added to functions as a document string **docstring**, which allows a user to call these using the help function. For example:"
   ]
  },
  {
   "cell_type": "code",
   "execution_count": 36,
   "metadata": {},
   "outputs": [],
   "source": [
    "def power(n, a = 2):\n",
    "    \"\"\"\n",
    "    -------------------------------------------------------------------------------------------------------------------\n",
    "    FUNCTION: power\n",
    "    INPUT: int, int\n",
    "    OUTPUT: int\n",
    "    DESCRIPTION:function to return the value of a number to the power of a second number, default is to the power of 2\n",
    "    -------------------------------------------------------------------------------------------------------------------\n",
    "    \"\"\"\n",
    "    return n ** a\n"
   ]
  },
  {
   "cell_type": "code",
   "execution_count": 37,
   "metadata": {},
   "outputs": [
    {
     "name": "stdout",
     "output_type": "stream",
     "text": [
      "Help on function power in module __main__:\n",
      "\n",
      "power(n, a=2)\n",
      "    -------------------------------------------------------------------------------------------------------------------\n",
      "    FUNCTION: power\n",
      "    INPUT: int, int\n",
      "    OUTPUT: int\n",
      "    DESCRIPTION:function to return the value of a number to the power of a second number, default is to the power of 2\n",
      "    -------------------------------------------------------------------------------------------------------------------\n",
      "\n"
     ]
    }
   ],
   "source": [
    "help(power)"
   ]
  },
  {
   "cell_type": "markdown",
   "metadata": {},
   "source": [
    "Or just view the docstring directly using the following (two underscores either side of doc)"
   ]
  },
  {
   "cell_type": "code",
   "execution_count": 38,
   "metadata": {},
   "outputs": [
    {
     "name": "stdout",
     "output_type": "stream",
     "text": [
      "\n",
      "    -------------------------------------------------------------------------------------------------------------------\n",
      "    FUNCTION: power\n",
      "    INPUT: int, int\n",
      "    OUTPUT: int\n",
      "    DESCRIPTION:function to return the value of a number to the power of a second number, default is to the power of 2\n",
      "    -------------------------------------------------------------------------------------------------------------------\n",
      "    \n"
     ]
    }
   ],
   "source": [
    "print(power.__doc__)"
   ]
  },
  {
   "cell_type": "markdown",
   "metadata": {},
   "source": [
    "****"
   ]
  },
  {
   "cell_type": "markdown",
   "metadata": {},
   "source": [
    "### Part 3 variable scope"
   ]
  },
  {
   "cell_type": "markdown",
   "metadata": {},
   "source": [
    "An important consideration for functions is that if a variable is given the same name within a function and outside, then they are considered seperate variables. As an example."
   ]
  },
  {
   "cell_type": "code",
   "execution_count": 40,
   "metadata": {},
   "outputs": [
    {
     "name": "stdout",
     "output_type": "stream",
     "text": [
      "My name inside the function is Eliana\n",
      "My name outside the function is Alan\n"
     ]
    }
   ],
   "source": [
    "\n",
    "name = 'Alan'\n",
    "\n",
    "def my_name():\n",
    "    name = 'Eliana'\n",
    "    print('My name inside the function is ' + name)\n",
    "\n",
    "my_name()\n",
    "print('My name outside the function is ' + name)"
   ]
  },
  {
   "cell_type": "markdown",
   "metadata": {},
   "source": [
    "Here we have two variables called 'name' The version outside the function is contains Alan and inside the function contains Eliana. ***This is the scope of the variables** and each is handled seperatly. The scope of the variable can be increased by declaring it a **global variable**. For example, by defining the variable as global inside the function tells python that the 'name' variable inside the funtion is the same as the 'name' variable outside the function. "
   ]
  },
  {
   "cell_type": "code",
   "execution_count": 41,
   "metadata": {},
   "outputs": [
    {
     "name": "stdout",
     "output_type": "stream",
     "text": [
      "My name inside the function is Alan\n",
      "My name outside the function is Alan\n"
     ]
    }
   ],
   "source": [
    "name = 'Alan'\n",
    "\n",
    "def my_name():\n",
    "    global name\n",
    "    print('My name inside the function is ' + name)\n",
    "\n",
    "my_name()\n",
    "print('My name outside the function is ' + name)"
   ]
  },
  {
   "cell_type": "markdown",
   "metadata": {},
   "source": [
    "***"
   ]
  },
  {
   "cell_type": "markdown",
   "metadata": {},
   "source": [
    "### Part 4 recursion"
   ]
  },
  {
   "cell_type": "markdown",
   "metadata": {},
   "source": [
    "The final concept we will introduce is recursion. In the previous notebook we have used loops to allow for iteration to repeat actions. Functions can be used in combination with iteration to call a function again and again. This is helpful for certain problems and is a technique ofter used when designing algorithms.\n",
    "<br/><br/>\n",
    "Generating a Fibonacci sequence is an example where recursion can be used. A Fibonaci sequence is a number sequence, where the next number is generating by summing the previous two numbers. The sequence will look like this:<br/>\n",
    "$$0,1,1,2,3,5,8,13,21, .....$$\n",
    "\n",
    "Here we will define a recursive function to print out the first 'n' entries of a Fibonacci sequence.\n"
   ]
  },
  {
   "cell_type": "code",
   "execution_count": 1,
   "metadata": {},
   "outputs": [
    {
     "name": "stdout",
     "output_type": "stream",
     "text": [
      "0  1  1  2  3  5  8  13  "
     ]
    }
   ],
   "source": [
    "def fib_sequence(n):\n",
    "    if n <= 1:\n",
    "        return n\n",
    "    else:\n",
    "        return fib_sequence(n-1) + fib_sequence(n-2)\n",
    "\n",
    "\n",
    "n = 8\n",
    "for i in range(n):\n",
    "    print(fib_sequence(i), \" \", end=\"\")"
   ]
  },
  {
   "cell_type": "markdown",
   "metadata": {},
   "source": [
    "***"
   ]
  }
 ],
 "metadata": {
  "kernelspec": {
   "display_name": "Python 3",
   "language": "python",
   "name": "python3"
  },
  "language_info": {
   "codemirror_mode": {
    "name": "ipython",
    "version": 3
   },
   "file_extension": ".py",
   "mimetype": "text/x-python",
   "name": "python",
   "nbconvert_exporter": "python",
   "pygments_lexer": "ipython3",
   "version": "3.11.6"
  }
 },
 "nbformat": 4,
 "nbformat_minor": 2
}
