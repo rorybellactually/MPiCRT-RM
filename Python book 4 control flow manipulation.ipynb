{
 "cells": [
  {
   "cell_type": "markdown",
   "metadata": {},
   "source": [
    "# <b>Book 4 - Control Flow Manipulation\n",
    "****"
   ]
  },
  {
   "cell_type": "markdown",
   "metadata": {},
   "source": [
    "We have learnt up to now how to save data in variables, lists, sets, and so on.  We also learnt how to operate them, for example, adding up two numbers, remove a value to a list, etc.  Now we will learn how to create a complete set of intructions to tell Python what we want.. or in other words, we will learn now how to program.\n",
    "\n",
    "For this book, let's continue with the kitchen example."
   ]
  },
  {
   "cell_type": "markdown",
   "metadata": {},
   "source": [
    "#### Part 1 - Conditions\n",
    "A key way to decide whether Python should run a block of code or not is by evaluating conditions. This will be used with several control structures. Conditions are evaluated to booleans (True or False). "
   ]
  },
  {
   "cell_type": "markdown",
   "metadata": {},
   "source": [
    "We have encounter already comparisons in the previous book:"
   ]
  },
  {
   "cell_type": "code",
   "execution_count": null,
   "metadata": {},
   "outputs": [],
   "source": [
    "fridge_content_as_a_dict = {'milk':1.5, 'butter':100, 'eggs':3, 'lemon':0.5,'onion':0.5}\n",
    "'healthy food' in fridge_content_as_a_dict"
   ]
  },
  {
   "cell_type": "markdown",
   "metadata": {},
   "source": [
    "Conditions are mostly about comparing variables. Python supports the usual logical conditions from mathematics: equal (==), difference (!=), less than (<), less than or equal to (<=), greater than (>), greater than or equal to (>=).\n",
    "\n",
    "Let's see how they look like in actual code:"
   ]
  },
  {
   "cell_type": "code",
   "execution_count": null,
   "metadata": {},
   "outputs": [],
   "source": [
    "# imagine we have two variables storing the number of two fruit types in our kitchen:\n",
    "apples = 5\n",
    "oranges = 3\n",
    "\n",
    "# Let's compare oranges and apples (their quantity!)\n",
    "print(apples == oranges)  # it should print False, as 5 and 3 are different numbers\n",
    "print(apples != oranges)  # it should print True, we all know that!! oranges are different to apples, and here their quantity is also different\n",
    "print(apples < oranges)   # it should print False, as 5 is actually larger than 3\n",
    "print(apples <= oranges)  # it should print False, same as before\n",
    "print(apples > oranges)   # it should print True, as 5 is larger than 3\n",
    "print(apples >= oranges)  # it should print True, same as before"
   ]
  },
  {
   "cell_type": "markdown",
   "metadata": {},
   "source": [
    "<div class=\"alert alert-success\">  Use the cell below, and change the values to explore the comparisons! </div>"
   ]
  },
  {
   "cell_type": "code",
   "execution_count": null,
   "metadata": {},
   "outputs": [],
   "source": [
    "# change the values here and run the cell multiple times!\n",
    "apples = \n",
    "oranges = \n",
    "\n",
    "# Let's compare oranges and apples (their quantity!)\n",
    "print(apples == oranges)  # it should print False, as 5 and 3 are different numbers\n",
    "print(apples != oranges)  # it should print True, we all know that!! oranges are different to apples, and here their quantity is also different\n",
    "print(apples < oranges)   # it should print False, as 5 is actually larger than 3\n",
    "print(apples <= oranges)  # it should print False, same as before\n",
    "print(apples > oranges)   # it should print True, as 5 is larger than 3\n",
    "print(apples >= oranges)  # it should print True, same as before"
   ]
  },
  {
   "cell_type": "markdown",
   "metadata": {},
   "source": [
    "We can also combine conditions, see at the end of this book for extra information."
   ]
  },
  {
   "cell_type": "markdown",
   "metadata": {},
   "source": [
    "#### Part 2 - *if* statements\n",
    "If we want to direct Python to do one block of code when a given condition is met, we can use *if* statements. "
   ]
  },
  {
   "cell_type": "markdown",
   "metadata": {},
   "source": [
    "If statements  are formatted like this:\n",
    "\n",
    "``` Python\n",
    "if <condition>:\n",
    "  <code to execute when the condition is True>\n",
    "```\n",
    "\n",
    "Important to note:\n",
    "- colon (:) at the end of the condition in the *if* line\n",
    "- indentation is used to identify the code blocks\n"
   ]
  },
  {
   "cell_type": "code",
   "execution_count": null,
   "metadata": {},
   "outputs": [],
   "source": [
    "apples = 4\n",
    "oranges = 3\n",
    "if apples == oranges:\n",
    "    # this code block will be executed when the condition apples > oranges is True\n",
    "    print('We have the same number of apples and oranges')\n",
    "\n",
    "# this code is not part of the block code inside the if statement, so it will be executed regardless of the condition!\n",
    "print('We finished checking!')"
   ]
  },
  {
   "cell_type": "markdown",
   "metadata": {},
   "source": [
    "<div class=\"alert alert-success\">  Why did the message 'We have the same number of apples and oranges' did not appear?  What do you need to change to make the message appear? </div>"
   ]
  },
  {
   "cell_type": "markdown",
   "metadata": {},
   "source": [
    "We may also want to steer Python to a different code block if the condition is not met.  For this we use *if/else* statements.  These are formatted like this:\n",
    "\n",
    "``` Python\n",
    "if <condition>:\n",
    "  <code to execute when the condition is True>\n",
    "else:\n",
    "  <code to execute when the condition is False>\n",
    "```\n",
    "\n",
    "Important to note:\n",
    "- colon (:) at the end of the condition in the *if* line\n",
    "- colon (:) at the end of the *else* line\n",
    "- indentation is used to identify the code blocks\n",
    "\n",
    "Let's see how it looks like:"
   ]
  },
  {
   "cell_type": "code",
   "execution_count": null,
   "metadata": {},
   "outputs": [],
   "source": [
    "apples = 4\n",
    "oranges = 3\n",
    "\n",
    "if apples > oranges:\n",
    "    # this code block will be executed when the condition apples > oranges is True\n",
    "    print('We have more apples than oranges')\n",
    "else:\n",
    "    print('We do not have more apples than oranges')\n",
    "\n"
   ]
  },
  {
   "cell_type": "markdown",
   "metadata": {},
   "source": [
    "Last, we could steer Python to different codes depeding on multiple conditions.  For this we could use *if/elif* or *if/elif/else* statements. These are formatted like this:\n",
    "\n",
    "``` Python\n",
    "if <condition1>:\n",
    "  <code to execute when the condition1 is True>\n",
    "elif <condition2>:\n",
    "  <code to execute when the condition2 is True>\n",
    "...\n",
    "elif <conditionn>:\n",
    "  <code to execute when the conditionn is True>\n",
    "```\n",
    "\n",
    "or \n",
    "\n",
    "``` Python\n",
    "if <condition1>:\n",
    "  <code to execute when the condition1 is True>\n",
    "...\n",
    "elif <conditionn>:\n",
    "  <code to execute when the conditionn is True>\n",
    "else:\n",
    "  <code to execute when none of the conditions are met>\n",
    "```\n",
    "\n",
    "Important to note:\n",
    "- colon (:) at the end of the condition in the *if* or *elif* lines\n",
    "- colon (:) at the end of the *else* line\n",
    "- indentation is used to identify the code blocks\n",
    "\n",
    "When there are too many comparisons, you could also use *match*. If you are curious about this control structure, check https://docs.python.org/dev/tutorial/controlflow.html#match-statements to learn about it.\n",
    "\n",
    "Let's see how *if/elif/else* looks like:"
   ]
  },
  {
   "cell_type": "code",
   "execution_count": null,
   "metadata": {},
   "outputs": [],
   "source": [
    "apples = 4\n",
    "oranges = 3\n",
    "\n",
    "if apples > oranges:\n",
    "    # this code block will be executed when the condition apples > oranges is True\n",
    "    print('We have more apples than oranges')\n",
    "elif apples < oranges:\n",
    "    # this code block will be executed when the condition apples < oranges is True\n",
    "    print('We have less apples than oranges')\n",
    "else:\n",
    "    print('We have the same number of apples and oranges')"
   ]
  },
  {
   "cell_type": "markdown",
   "metadata": {},
   "source": [
    "<div class=\"alert alert-success\">  Important here: if/elif/else statements are evaluated in the given order. Could you think of a set of conditions where the code may work in a way different than expected?  Think of using <= or >= </div>"
   ]
  },
  {
   "cell_type": "code",
   "execution_count": null,
   "metadata": {},
   "outputs": [],
   "source": [
    "apples = 4\n",
    "oranges = 4\n",
    "\n",
    "# change the conditions below to break this \n",
    "if apples > oranges:\n",
    "    # this code block will be executed when the condition apples > oranges is True\n",
    "    print('We have more apples than oranges')\n",
    "elif apples < oranges:\n",
    "    # this code block will be executed when the condition apples < oranges is True\n",
    "    print('We have less apples than oranges')\n",
    "else:\n",
    "    print('We have the same number of apples and oranges')"
   ]
  },
  {
   "cell_type": "markdown",
   "metadata": {},
   "source": [
    "<div class=\"alert alert-success\">  Could you try and write a piece of code that checks whether an item is in the fridge, and if it there, prints how many/much of it there is?</div>"
   ]
  },
  {
   "cell_type": "code",
   "execution_count": null,
   "metadata": {},
   "outputs": [],
   "source": [
    "fridge_content_as_a_dict = {'milk':1.5, 'butter':100, 'eggs':3, 'lemon':0.5,'onion':0.5}\n",
    "item = 'milk'\n",
    "\n",
    "# write your *if* statement here!\n",
    "\n",
    "\n"
   ]
  },
  {
   "cell_type": "markdown",
   "metadata": {},
   "source": [
    "#### Part 3 - *while* loops\n",
    "\n",
    "Now we know how to steer Python to execute a block of code given a condition. We may also want to instruct Python to repeat a code block while a condition is met. In this case we use *while*."
   ]
  },
  {
   "cell_type": "markdown",
   "metadata": {},
   "source": [
    "The format of a while loop is like this:\n",
    "\n",
    "``` Python\n",
    "while <condition>:\n",
    "  <code to execute every time the condition is True>\n",
    "```\n",
    "\n",
    "Important to note:\n",
    "- colon (:) at the end of the condition in the *while* line\n",
    "- indentation used to identify the code blocks\n",
    "\n",
    "The loop will stop when the condition is not met anymore. It is very important to update the variables involved in your condition to avoid infinite loops. \n",
    "\n",
    "Let's see how it looks like:"
   ]
  },
  {
   "cell_type": "markdown",
   "metadata": {},
   "source": [
    "ike this:\n",
    "\n",
    "``` Python\n",
    "while <condition>:\n",
    "  <code to execute every time the condition is True>\n",
    "```\n",
    "\n",
    "Important to note:\n",
    "- colon (:) at the end of the condition in the *while* line\n",
    "- indentation used to identify the code blocks\n",
    "\n",
    "The loop will stop when the condition is not met anymore. It is very important to update the variables involved in your condition to avoid infinite loops. \n",
    "\n",
    "Let's see how it looks like:"
   ]
  },
  {
   "cell_type": "code",
   "execution_count": null,
   "metadata": {},
   "outputs": [],
   "source": [
    "apples = 5\n",
    "# let's eat all but one apple!\n",
    "while apples > 1:\n",
    "    print('hmmm... there are apples, I will eat one!')\n",
    "    apples = apples - 1  # try commenting this line to see how an infinity loop looks like\n",
    "print('Uh!! I better leave one apple for later!')\n",
    "\n",
    "# let's print the number of apples\n",
    "print(apples)\n",
    "# Let's print the condition:\n",
    "print(apples > 1)\n",
    "\n"
   ]
  },
  {
   "cell_type": "markdown",
   "metadata": {},
   "source": [
    "Loops can be broken with the *break* statement.  This will tell Python to stop executing that code block, stop evaluating the condition and move with the next part of the code.  This means that the condition may still be true!"
   ]
  },
  {
   "cell_type": "code",
   "execution_count": null,
   "metadata": {},
   "outputs": [],
   "source": [
    "apples = 5\n",
    "# let's eat all but one apple!\n",
    "while apples > 1:\n",
    "    print('hmmm... there are apples, I will eat one!')\n",
    "    apples = apples - 1\n",
    "    # breaking here! how many apples are too many apples?\n",
    "    if apples == 3:\n",
    "        break\n",
    "print('Uh!! I better leave one apple for later!')  # is this message true now?\n",
    "\n",
    "\n",
    "# let's print the number of apples\n",
    "print(apples)\n",
    "# Let's print the condition:\n",
    "print(apples > 1)\n"
   ]
  },
  {
   "cell_type": "markdown",
   "metadata": {},
   "source": [
    "<div class=\"alert alert-success\">  Could you write down the code for taking eggs, one by one, out of the fridge? </div>"
   ]
  },
  {
   "cell_type": "code",
   "execution_count": null,
   "metadata": {},
   "outputs": [],
   "source": [
    "fridge_content_as_a_dict = {'milk':1.5, 'butter':100, 'eggs':3, 'lemon':0.5,'onion':0.5}\n",
    "\n",
    "# write here your while statement\n",
    "\n",
    "\n"
   ]
  },
  {
   "cell_type": "markdown",
   "metadata": {},
   "source": [
    "<div class=\"alert alert-success\">  There are other statements that can control the behaviour of a while loop: continue and else.  Search for their behaviour and add some code below showing how to use them!\n",
    "\n",
    "Check for example https://www.w3schools.com/python/python_while_loops.asp </div>"
   ]
  },
  {
   "cell_type": "code",
   "execution_count": null,
   "metadata": {},
   "outputs": [],
   "source": [
    "# this is the code showing how continue works\n",
    "\n"
   ]
  },
  {
   "cell_type": "code",
   "execution_count": null,
   "metadata": {},
   "outputs": [],
   "source": [
    "# this is the code showing how else works\n",
    "\n"
   ]
  },
  {
   "cell_type": "markdown",
   "metadata": {},
   "source": [
    "#### Part 4 - *for* loops\n",
    "\n",
    "Another way to tell Python to repeat a block of code is to do it for a given number of times, or for every element in a sequence (e.g., lists, dictionaries, etc). For this, we can use *for* loops. "
   ]
  },
  {
   "cell_type": "markdown",
   "metadata": {},
   "source": [
    "Let's try iterating over the content of our fridge and print out the content. Let's first use the fridge as a list:"
   ]
  },
  {
   "cell_type": "code",
   "execution_count": null,
   "metadata": {},
   "outputs": [],
   "source": [
    "fridge_content_as_a_list = ['milk', 'butter', 'egg', 'lemon', 'onion'] \n",
    "for item in fridge_content_as_a_list:\n",
    "    print(item)"
   ]
  },
  {
   "cell_type": "markdown",
   "metadata": {},
   "source": [
    "We can also iterate through the dictionary.  In this case, the key is given in the variable item:"
   ]
  },
  {
   "cell_type": "code",
   "execution_count": null,
   "metadata": {},
   "outputs": [],
   "source": [
    "fridge_content_as_a_dict = {'milk':1.5, 'butter':100, 'eggs':3, 'lemon':0.5,'onion':0.5}\n",
    "for item in fridge_content_as_a_dict:\n",
    "    print(item, fridge_content_as_a_dict[item])"
   ]
  },
  {
   "cell_type": "markdown",
   "metadata": {},
   "source": [
    "<div class=\"alert alert-success\">  If you notice, the for line is the same for both list and dictionary.  Try now for a set!</div>"
   ]
  },
  {
   "cell_type": "code",
   "execution_count": null,
   "metadata": {},
   "outputs": [],
   "source": [
    "\n",
    "# Define the fridge as a set (you could copy some code from book 3) and write the for loop\n"
   ]
  },
  {
   "cell_type": "markdown",
   "metadata": {},
   "source": [
    "If we want to repeat the same code for n number of times, we can use the built-in function *range*. This creates something similar to a list, which then allows Python to repeat the same code a fixed number of times.\n",
    "See this for extra information for *range*: https://docs.python.org/dev/tutorial/controlflow.html#the-range-function\n",
    "\n",
    "The code would look like this:"
   ]
  },
  {
   "cell_type": "code",
   "execution_count": null,
   "metadata": {},
   "outputs": [],
   "source": [
    "fridge_content_as_a_dict = {'milk':1.5, 'butter':100, 'eggs':3, 'lemon':0.5,'onion':0.5}\n",
    "\n",
    "# I bought 10 eggs, which I will add to my fridge, one by one\n",
    "new_eggs = 10\n",
    "for x in range(new_eggs):\n",
    "    fridge_content_as_a_dict['eggs'] = fridge_content_as_a_dict['eggs'] + 1\n",
    "print(fridge_content_as_a_dict)\n",
    "\n",
    "# clearly I could add all eggs at once:\n",
    "# fridge_content_as_a_dict['eggs'] = fridge_content_as_a_dict['eggs'] + new_eggs"
   ]
  },
  {
   "cell_type": "markdown",
   "metadata": {},
   "source": [
    "You could also add the content of the shopping bag into the fridge:"
   ]
  },
  {
   "cell_type": "code",
   "execution_count": null,
   "metadata": {},
   "outputs": [],
   "source": [
    "fridge_content_as_a_dict = {'milk':1.5, 'butter':100, 'eggs':3, 'lemon':0.5,'onion':0.5}\n",
    "in_shopping_bag = {'lemon':1, 'onion':2, 'sour cream':100, 'cheese':200} \n",
    "\n",
    "print('Fridge before adding items')\n",
    "print(fridge_content_as_a_dict)\n",
    "\n",
    "# let's add what we have in the shopping list to the fridge:\n",
    "for item in in_shopping_bag:\n",
    "    fridge_content_as_a_dict[item] = in_shopping_bag[item]\n",
    "\n",
    "print('Fridge after adding items')\n",
    "print(fridge_content_as_a_dict)"
   ]
  },
  {
   "cell_type": "markdown",
   "metadata": {},
   "source": [
    "<div class=\"alert alert-success\"> Notice that we had 0.5 lemons before, but now we have 1 rather than 1.5. Same is happening with  the onions (we had 0.5, now we have 2 rather than 2.5)... How can we fix this? Think about if statements and give it a try below. </div>"
   ]
  },
  {
   "cell_type": "code",
   "execution_count": null,
   "metadata": {},
   "outputs": [],
   "source": [
    "fridge_content_as_a_dict = {'milk':1.5, 'butter':100, 'eggs':3, 'lemon':0.5,'onion':0.5}\n",
    "in_shopping_bag = {'lemon':1, 'onion':2, 'sour cream':100, 'cheese':200} \n",
    "\n",
    "print('Fridge before adding items')\n",
    "print(fridge_content_as_a_dict)\n",
    "\n",
    "# let's add what we have in the shopping list to the fridge:\n",
    "for item in in_shopping_bag:\n",
    "    ... do something different here? ...\n",
    "\n",
    "print('Fridge after adding items')\n",
    "print(fridge_content_as_a_dict)"
   ]
  },
  {
   "cell_type": "markdown",
   "metadata": {},
   "source": [
    "You can also nest loops (a loop inside another loop). For example, we could show all possible combinations of breakfast food:"
   ]
  },
  {
   "cell_type": "code",
   "execution_count": null,
   "metadata": {},
   "outputs": [],
   "source": [
    "dry_breakfast_food = ['bread','cereal','bagel']\n",
    "wet_breakfast_food = ['milk','tea','coffee','orange juice']\n",
    "\n",
    "print('Choose your favourite breakfast combo:')\n",
    "for dry_item in dry_breakfast_food: # let's take a dry item\n",
    "    for wet_item in wet_breakfast_food: # let's take a wet item\n",
    "        print(dry_item, 'and', wet_item) # and combine them!"
   ]
  },
  {
   "cell_type": "markdown",
   "metadata": {},
   "source": [
    "Similar to the *while* loops, you can use *break*, *continue* or *else*.  Check this page for extra information: https://docs.python.org/dev/tutorial/controlflow.html#break-and-continue-statements-and-else-clauses-on-loops"
   ]
  },
  {
   "cell_type": "markdown",
   "metadata": {},
   "source": [
    "#### Part 5 - Combining conditions\n",
    "We have used mostly comparisons up to now for setting up the conditions for the *if* and *while* loops.  Something, we may need to be more specific about the conditions, combining several comparisons.  In these cases, we can combine conditions using logical operators and, or and not."
   ]
  },
  {
   "cell_type": "markdown",
   "metadata": {},
   "source": [
    " Let's go back to our 'breakfast combo' example above.  Would you have cereal and coffee for breakfast? (seriously?).  We can add a comparison within the loop to avoid this option being presented:"
   ]
  },
  {
   "cell_type": "code",
   "execution_count": null,
   "metadata": {},
   "outputs": [],
   "source": [
    "dry_breakfast_food = ['bread','cereal','bagel']\n",
    "wet_breakfast_food = ['milk','tea','coffee','orange juice']\n",
    "\n",
    "print('Choose your favourite breakfast combo:')\n",
    "for dry_item in dry_breakfast_food: # let's take a dry item\n",
    "    for wet_item in wet_breakfast_food: # let's take a wet item\n",
    "        if (dry_item == 'cereal') and (wet_item == 'coffee'):  # we don't like this combo\n",
    "            continue\n",
    "        print(dry_item, 'and', wet_item) # and combine them!"
   ]
  },
  {
   "cell_type": "markdown",
   "metadata": {},
   "source": [
    "Other examples exploring *not* and *or*:"
   ]
  },
  {
   "cell_type": "code",
   "execution_count": null,
   "metadata": {},
   "outputs": [],
   "source": [
    "# For people who can not have milk:\n",
    "print('Choose your favourite breakfast combo:')\n",
    "for dry_item in dry_breakfast_food: # let's take a dry item\n",
    "    for wet_item in wet_breakfast_food: # let's take a wet item\n",
    "        if not(wet_item == 'milk'):  # how else could you write this?\n",
    "            print(dry_item, 'and', wet_item) # and combine them!"
   ]
  },
  {
   "cell_type": "code",
   "execution_count": null,
   "metadata": {},
   "outputs": [],
   "source": [
    "# For people who do not like coffee nor bread\n",
    "print('Choose your favourite breakfast combo:')\n",
    "for dry_item in dry_breakfast_food: # let's take a dry item\n",
    "    for wet_item in wet_breakfast_food: # let's take a wet item\n",
    "        if (wet_item == 'coffee') or (dry_item == 'bread'):  # how else could you write this?\n",
    "            continue\n",
    "        print(dry_item, 'and', wet_item) # and combine them!"
   ]
  }
 ],
 "metadata": {
  "kernelspec": {
   "display_name": "Python 3",
   "language": "python",
   "name": "python3"
  },
  "language_info": {
   "codemirror_mode": {
    "name": "ipython",
    "version": 3
   },
   "file_extension": ".py",
   "mimetype": "text/x-python",
   "name": "python",
   "nbconvert_exporter": "python",
   "pygments_lexer": "ipython3",
   "version": "3.9.0"
  }
 },
 "nbformat": 4,
 "nbformat_minor": 2
}
