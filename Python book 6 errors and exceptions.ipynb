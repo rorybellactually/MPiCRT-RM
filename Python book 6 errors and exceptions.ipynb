{
 "cells": [
  {
   "cell_type": "markdown",
   "metadata": {},
   "source": [
    "# <b>Book 6 - Errors and Exception Management\n",
    "**** "
   ]
  },
  {
   "cell_type": "markdown",
   "metadata": {},
   "source": [
    "In every coding project, we will encounter errors!  In Python there are two main categories of errors: syntax errors and exceptions."
   ]
  },
  {
   "cell_type": "markdown",
   "metadata": {},
   "source": [
    "#### Part 1 - Syntax errors\n",
    "These errors are also known as parsing errors.  They happen when Python does not understand your code.  For example, if there are missing colons or if there are too many parenthesis.  \n",
    "These are very common, so it is good to have a look of how they look like and see how we can fix them!"
   ]
  },
  {
   "cell_type": "code",
   "execution_count": null,
   "metadata": {},
   "outputs": [],
   "source": [
    "# run the following cell and see what the error looks like!\n",
    "apples = 5\n",
    "if apples == 2\n",
    "    print('I have two apples')"
   ]
  },
  {
   "cell_type": "markdown",
   "metadata": {},
   "source": [
    "In most error messages, small arrows (^) would try and point out where the error is.  In this case, we are using a *if* statement without letting Python know where the condition ends (we forgot the colon!)."
   ]
  },
  {
   "cell_type": "code",
   "execution_count": null,
   "metadata": {},
   "outputs": [],
   "source": [
    "# run the following cell and see what the error looks like!\n",
    "apples = 5\n",
    "if apples == 2: # this should run now!\n",
    "    print('I have two apples')  "
   ]
  },
  {
   "cell_type": "markdown",
   "metadata": {},
   "source": [
    "<div class=\"alert alert-success\"> There are other examples below. How can you fix them?  Can you think of other syntax errors?  </div>"
   ]
  },
  {
   "cell_type": "code",
   "execution_count": null,
   "metadata": {},
   "outputs": [],
   "source": [
    "a = 8 + 2 £ 9"
   ]
  },
  {
   "cell_type": "code",
   "execution_count": null,
   "metadata": {},
   "outputs": [],
   "source": [
    "hi - 10 = 19"
   ]
  },
  {
   "cell_type": "code",
   "execution_count": null,
   "metadata": {},
   "outputs": [],
   "source": [
    "# my errors:\n"
   ]
  },
  {
   "cell_type": "markdown",
   "metadata": {},
   "source": [
    "#### Part 2 - Exceptions\n",
    " These are errors that happen during the code execution, so exceptions are a bit more tricky to catch.  In this case, the code is correct, but Python may not be able to do what is instructed to do. "
   ]
  },
  {
   "cell_type": "markdown",
   "metadata": {},
   "source": [
    "For example, we know that dividing a number by zero is not defined (mathematically speaking).  Python would raise an exception if you try doing that:"
   ]
  },
  {
   "cell_type": "code",
   "execution_count": null,
   "metadata": {},
   "outputs": [],
   "source": [
    "people = 0\n",
    "nr_apples = 1\n",
    "pieces_for_each_person = nr_apples/people"
   ]
  },
  {
   "cell_type": "markdown",
   "metadata": {},
   "source": [
    "Another example is when you try to work with a variable that is not yet defined:"
   ]
  },
  {
   "cell_type": "code",
   "execution_count": null,
   "metadata": {},
   "outputs": [],
   "source": [
    "best_breakfast_combo_ever = dry_item + ' and ' + wet_item"
   ]
  },
  {
   "cell_type": "markdown",
   "metadata": {},
   "source": [
    "Or when we mix data types and Python does not know how to do what you are asking:"
   ]
  },
  {
   "cell_type": "code",
   "execution_count": null,
   "metadata": {},
   "outputs": [],
   "source": [
    "total_num_apples = 5 + '2'"
   ]
  },
  {
   "cell_type": "markdown",
   "metadata": {},
   "source": [
    "<div class=\"alert alert-success\"> Could you try and fix the code above to eliminate the exceptions and to reach the instruction printing 'we finished the script now'? </div>"
   ]
  },
  {
   "cell_type": "code",
   "execution_count": null,
   "metadata": {},
   "outputs": [],
   "source": [
    "# division by zero example\n",
    "people = 0\n",
    "nr_apples = 1\n",
    "pieces_for_each_person = nr_apples/people\n",
    "\n",
    "# variables not defined example\n",
    "best_breakfast_combo_ever = dry_item + ' and ' + wet_item\n",
    "\n",
    "# mixing types example\n",
    "total_num_apples = 5 + '2'\n",
    "\n",
    "print('we finished the script now.')"
   ]
  },
  {
   "cell_type": "markdown",
   "metadata": {},
   "source": [
    "There are many more exceptions you can get.  Here is a list of all built-in exceptions showing their hierarchy: https://docs.python.org/dev/library/exceptions.html#exception-hierarchy"
   ]
  },
  {
   "cell_type": "markdown",
   "metadata": {},
   "source": [
    "#### Part 3 - Catching Exceptions\n",
    "We can try and fix many of these errors, but sometimes they will happen. For example, if you are reading a file with a list of numbers, and the file is empty.  Python has ways to handle these errors.  "
   ]
  },
  {
   "cell_type": "markdown",
   "metadata": {},
   "source": [
    "Python uses the *try/except* control structure. Here is the general format:\n",
    "\n",
    "``` Python\n",
    "try:\n",
    "    <block of code1>\n",
    "except:\n",
    "    <block of code2, only executed when an error occurs above>\n",
    "```\n",
    "\n",
    "The way the *try/except* code works is like this:\n",
    "- Imagine that the code between the *try* and *except* (*block of code1*) **does not** fail:\n",
    "    - Python executes all instructions in *block of code1*\n",
    "    - Python will skip *block of code2* and continue with the rest of the script\n",
    "- Imagine that the code between the *try* and *except* (*block of code1*) **does** fail:\n",
    "    - The execution will stop in the instruction that generated the error and skip the rest\n",
    "    - Python will then execute *block of code2* and continue with the rest of the script\n",
    "\n",
    "Let's look at it in our previous examples:"
   ]
  },
  {
   "cell_type": "code",
   "execution_count": null,
   "metadata": {},
   "outputs": [],
   "source": [
    "# division by zero example\n",
    "try:\n",
    "    people = 0\n",
    "    nr_apples = 1\n",
    "    pieces_for_each_person = nr_apples/people\n",
    "except:\n",
    "    print('something went wrong here!')\n",
    "\n",
    "# variables not defined example\n",
    "try:\n",
    "    best_breakfast_combo_ever = dry_item + ' and ' + wet_item\n",
    "except:\n",
    "    print('something went wrong here... again!')\n",
    "\n",
    "# mixing types example\n",
    "try:\n",
    "    total_num_apples = 5 + '2'\n",
    "except:\n",
    "    print('unsurprisingly, something went wrong here... again!')\n",
    "\n",
    "print('we finished the script now.')"
   ]
  },
  {
   "cell_type": "markdown",
   "metadata": {},
   "source": [
    "Now, we have reached the last message ('we finished the script now'), but the error messages are not that useful... Python would allow us to get the error message in a variable, which we then can show.  The format is:\n",
    "\n",
    "``` Python\n",
    "try:\n",
    "    <block of code1>\n",
    "except Exception as err:\n",
    "    <block of code2, only executed when an error occurs above where we can print err>\n",
    "```\n",
    "Here is with our examples:"
   ]
  },
  {
   "cell_type": "code",
   "execution_count": null,
   "metadata": {},
   "outputs": [],
   "source": [
    "# division by zero example\n",
    "try:\n",
    "    people = 0\n",
    "    nr_apples = 1\n",
    "    pieces_for_each_person = nr_apples/people\n",
    "except Exception as err:\n",
    "    print('something went wrong here!')\n",
    "    print(err)\n",
    "\n",
    "# variables not defined example\n",
    "try:\n",
    "    best_breakfast_combo_ever = dry_item + ' and ' + wet_item\n",
    "except Exception as err:\n",
    "    print('something went wrong here... again!')\n",
    "    print(err)\n",
    "\n",
    "# mixing types example\n",
    "try:\n",
    "    total_num_apples = 5 + '2'\n",
    "except Exception as err:\n",
    "    print('unsurprisingly, something went wrong here... again!')\n",
    "    print(err)\n",
    "\n",
    "print('we finished the script now.')"
   ]
  },
  {
   "cell_type": "markdown",
   "metadata": {},
   "source": [
    "If you remember, there are many different types of Exceptions (https://docs.python.org/dev/library/exceptions.html#exception-hierarchy) and you can even create your own (see following optional part).  You may expect some errors happening in some part of the code. For example, you may expect a *FileNotFoundError* when dealing with files, or a *ZeroDivisionError* when you are running divisions with input variables.  In those cases, you can specify what code should be run for an exception type. \n",
    "\n",
    "Also, a *try/except* structure can have more than one *except* section, allowing you to respond differently to the errors you are expecting. An important point is that at most one handler will be executed!\n",
    "\n",
    "Let's see how that looks with our examples (merging two into one):"
   ]
  },
  {
   "cell_type": "code",
   "execution_count": null,
   "metadata": {},
   "outputs": [],
   "source": [
    "# division by zero and variables not defined examples into one\n",
    "try:\n",
    "    people = 0 ## change the value here to reach the second exception block!\n",
    "    nr_apples = 1\n",
    "    pieces_for_each_person = nr_apples/people\n",
    "\n",
    "    best_breakfast_combo_ever = dry_item + ' and ' + wet_item\n",
    "except ZeroDivisionError as err:  # here we are catching the division by zero error.\n",
    "    print('we cannot divide apples among 0 people!')\n",
    "    print(err)\n",
    "except Exception as err:  #here we are catching any other error.\n",
    "    print('something else happened here?')\n",
    "    print(err)\n",
    "\n",
    "print('we finished the script now.')"
   ]
  },
  {
   "cell_type": "markdown",
   "metadata": {},
   "source": [
    "For more information, head to https://docs.python.org/dev/tutorial/errors.html "
   ]
  }
 ],
 "metadata": {
  "kernelspec": {
   "display_name": "Python 3",
   "language": "python",
   "name": "python3"
  },
  "language_info": {
   "codemirror_mode": {
    "name": "ipython",
    "version": 3
   },
   "file_extension": ".py",
   "mimetype": "text/x-python",
   "name": "python",
   "nbconvert_exporter": "python",
   "pygments_lexer": "ipython3",
   "version": "3.9.0"
  }
 },
 "nbformat": 4,
 "nbformat_minor": 2
}
