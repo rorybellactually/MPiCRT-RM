{
 "cells": [
  {
   "cell_type": "markdown",
   "metadata": {},
   "source": [
    "# <b>Book 6 - Errors and Exception Management\n",
    "**** "
   ]
  },
  {
   "cell_type": "markdown",
   "metadata": {},
   "source": [
    "In every coding project, we will encounter errors!  In Python there are two main categories of errors: syntax errors and exceptions."
   ]
  },
  {
   "cell_type": "markdown",
   "metadata": {},
   "source": [
    "#### Part 1 - Syntax errors\n",
    "These errors are also known as parsing errors.  They happen when Python does not understand your code.  For example, if there are missing colons or if there are too many parenthesis.  \n",
    "These are very common, so it is good to have a look of how they look like and see how we can fix them!"
   ]
  },
  {
   "cell_type": "code",
   "execution_count": null,
   "metadata": {},
   "outputs": [],
   "source": [
    "# run the following cell and see what the error looks like!\n",
    "apples = 5\n",
    "if apples == 2\n",
    "    print('I have two apples')"
   ]
  },
  {
   "cell_type": "markdown",
   "metadata": {},
   "source": [
    "In most error messages, small arrows (^) would try and point out where the error is.  In this case, we are using a *if* statement without letting Python know where the condition ends (we forgot the colon!)."
   ]
  },
  {
   "cell_type": "code",
   "execution_count": null,
   "metadata": {},
   "outputs": [],
   "source": [
    "# run the following cell and see what the error looks like!\n",
    "apples = 5\n",
    "if apples == 2: # this should run now!\n",
    "    print('I have two apples')  "
   ]
  },
  {
   "cell_type": "markdown",
   "metadata": {},
   "source": [
    "<div class=\"alert alert-success\"> There are other examples below. How can you fix them?  Can you think of other syntax errors?  </div>"
   ]
  },
  {
   "cell_type": "code",
   "execution_count": null,
   "metadata": {},
   "outputs": [],
   "source": [
    "a = 8 + 2 £ 9"
   ]
  },
  {
   "cell_type": "code",
   "execution_count": null,
   "metadata": {},
   "outputs": [],
   "source": [
    "hi - 10 = 19"
   ]
  },
  {
   "cell_type": "code",
   "execution_count": null,
   "metadata": {},
   "outputs": [],
   "source": [
    "# my errors:\n"
   ]
  },
  {
   "cell_type": "markdown",
   "metadata": {},
   "source": [
    "#### Part 2 - Exceptions\n",
    "Exceptions are a bit more tricky to catch.  In this case, the code is correct, but Python may not be able to do what is instructed to do.  "
   ]
  },
  {
   "cell_type": "markdown",
   "metadata": {},
   "source": [
    "For example, we know that dividing a number by zero is not defined (mathematically speaking).  Python would raise an exception if you try doing that:"
   ]
  },
  {
   "cell_type": "code",
   "execution_count": null,
   "metadata": {},
   "outputs": [],
   "source": [
    "people = 0\n",
    "nr_apples = 1\n",
    "pieces_for_each_person = nr_apples/people"
   ]
  },
  {
   "cell_type": "markdown",
   "metadata": {},
   "source": [
    "Another example is when you try to work with a variable that is not yet defined:"
   ]
  },
  {
   "cell_type": "code",
   "execution_count": null,
   "metadata": {},
   "outputs": [],
   "source": [
    "best_ever_breakfast_combo = dry_item + 'and' + wet_item"
   ]
  },
  {
   "cell_type": "markdown",
   "metadata": {},
   "source": [
    "Or when we mix data types and Python does not know how to do what you are asking:"
   ]
  },
  {
   "cell_type": "code",
   "execution_count": null,
   "metadata": {},
   "outputs": [],
   "source": [
    "total_num_apples = 5 + '2'"
   ]
  },
  {
   "cell_type": "markdown",
   "metadata": {},
   "source": [
    "<div class=\"alert alert-success\"> Could you try and fix the code above to eliminate the exceptions? </div>"
   ]
  },
  {
   "cell_type": "code",
   "execution_count": null,
   "metadata": {},
   "outputs": [],
   "source": [
    "# division by zero example\n",
    "people = 0\n",
    "nr_apples = 1\n",
    "pieces_for_each_person = nr_apples/people\n",
    "\n",
    "# variables not defined example\n",
    "best_ever_breakfast_combo = dry_item + 'and' + wet_item\n",
    "\n",
    "# mixing types example\n",
    "total_num_apples = 5 + '2'"
   ]
  },
  {
   "cell_type": "markdown",
   "metadata": {},
   "source": [
    "There are many more exceptions.  Here is a list of all built-in exceptions: https://docs.python.org/dev/library/exceptions.html#exception-hierarchy"
   ]
  },
  {
   "cell_type": "markdown",
   "metadata": {},
   "source": [
    "#### Part 3 - Catching Exceptions\n",
    "We can try and fix many of these errors, but sometimes they will happen. For example, if you are reading a file with a list of numbers, and the file open is empty, it will be an error that needs to be catched.  "
   ]
  },
  {
   "cell_type": "markdown",
   "metadata": {},
   "source": [
    "For more information, head to https://docs.python.org/dev/tutorial/errors.html "
   ]
  }
 ],
 "metadata": {
  "kernelspec": {
   "display_name": "Python 3",
   "language": "python",
   "name": "python3"
  },
  "language_info": {
   "codemirror_mode": {
    "name": "ipython",
    "version": 3
   },
   "file_extension": ".py",
   "mimetype": "text/x-python",
   "name": "python",
   "nbconvert_exporter": "python",
   "pygments_lexer": "ipython3",
   "version": "3.9.0"
  }
 },
 "nbformat": 4,
 "nbformat_minor": 2
}
