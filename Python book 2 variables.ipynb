{
 "cells": [
  {
   "cell_type": "markdown",
   "metadata": {},
   "source": [
    "# <b>Book 2 - Introduction to variables\n",
    "****\n"
   ]
  },
  {
   "cell_type": "markdown",
   "metadata": {},
   "source": [
    "Most scripts will need some form of data input and storage which the script will then use and manipulate in some way to produce an output. Data needs to be stored somewhere for the script to access. This storage is called a variable. As the name may suggest, variable implies that the data being stored can be variable. Let's consider some common variable types. "
   ]
  },
  {
   "cell_type": "code",
   "execution_count": 2,
   "metadata": {},
   "outputs": [],
   "source": [
    "age = 42\n",
    "height_m = 1.8\n",
    "name = 'alan'\n",
    "scottish = True"
   ]
  },
  {
   "cell_type": "markdown",
   "metadata": {},
   "source": [
    "In the above box we define four dfferent variables called: age, height_m, name, scottish. These represent teh four main types of data:\n",
    "\n",
    "<li><b>Integers</b> - whole number values</li>\n",
    "<li><b>Floats</b> - numbers with a dot in them i.e. 10.56</li>\n",
    "<li><b>Strings</b> - contain text</li>\n",
    "<li><b>Boolean</b> - True and False values</li>\n",
    "\n",
    "Python will assign the 'type' of variable based on the value stored."
   ]
  },
  {
   "cell_type": "markdown",
   "metadata": {},
   "source": [
    "The equals '=' assigns the variable, essentially saying to store the value on the right hand side in the label on the left hand side. \n",
    "<br/><br/>\n",
    "It is important to name your variables well, a little like having some drawers or boxes to store stuff inside, if these are labelled well then it will help you organise and store you data, making it easier to find what you need and understand what is inside. You can then use that label when you want to retrieve the information. \n"
   ]
  },
  {
   "cell_type": "markdown",
   "metadata": {},
   "source": [
    "For example, if we want to inspect the variable - see what's inside - we could using the print function **print()**, passing the label. Similarly, we can  inspect the 'type' of variable by using **type()** and passing the variable name."
   ]
  },
  {
   "cell_type": "markdown",
   "metadata": {},
   "source": [
    "<div class=\"alert alert-success\">\n",
    "Run the following cell and inspect the 'type'. Try changing the variable name to inspect the other variables we have created above.  \n",
    "<br/><br/> \n",
    "<b>Note -</b> you need to have run the first cell so the variables are avaialble in the script (notebook).\n",
    "\n",
    "</div>"
   ]
  },
  {
   "cell_type": "code",
   "execution_count": null,
   "metadata": {},
   "outputs": [],
   "source": [
    "print(age)\n",
    "type(age)\n",
    "\n"
   ]
  },
  {
   "cell_type": "markdown",
   "metadata": {},
   "source": [
    "You may also come across various 'conventions' for writing variables.  For example: <b>`snake case`</b> where words are written in lower case and separated by an underscore (i.e. `data_file_loader`) or <b>`camel case`</b> where new words are capitalised like the humps on a camel's back (i.e. `dataFileLoader`). There is a general convention to use <b>`snake case`</b> in python. Either convention works and the recommendation is to be consitent. \n",
    "\n",
    "Try making some variables in the next cell and play with different conventions:"
   ]
  },
  {
   "cell_type": "code",
   "execution_count": null,
   "metadata": {},
   "outputs": [],
   "source": []
  },
  {
   "cell_type": "markdown",
   "metadata": {},
   "source": [
    "There are some restrictions for variable naming in Python:\n",
    "<ul>\n",
    "<li>The first character cannot be a number</li>\n",
    "<li>The name can't be the same as an existing Python keyword (below)</li>\n",
    "</ul>\n",
    "Variables can start with an underscore, contain letters and numbers and be any length. "
   ]
  },
  {
   "cell_type": "markdown",
   "metadata": {},
   "source": [
    "<div class=\"alert alert-success\">\n",
    "Before you run the code below, which variable do you think is not allowed (and will give an error message)?\n",
    "<br/><br/>\n",
    "<I>If you read the cell you might spot a clue...</I>\n",
    "\n",
    "</div>"
   ]
  },
  {
   "cell_type": "code",
   "execution_count": null,
   "metadata": {},
   "outputs": [],
   "source": [
    "a=4\n",
    "oneA = 4\n",
    "1a = 4\n",
    "_1a = 4\n"
   ]
  },
  {
   "cell_type": "markdown",
   "metadata": {},
   "source": [
    "Python is <b>case sensitive</b>, <b>`height_m`</b> and <b>`Height_M`</b> are two different variables."
   ]
  },
  {
   "cell_type": "code",
   "execution_count": null,
   "metadata": {},
   "outputs": [],
   "source": [
    "height_m = 1.80\n",
    "Height_m = 1.90\n",
    "print(height_m)\n",
    "print(Height_m)\n",
    "\n",
    "Height_m = height_m\n",
    "print(height_m)\n",
    "print(Height_m)"
   ]
  },
  {
   "cell_type": "markdown",
   "metadata": {},
   "source": [
    "***"
   ]
  },
  {
   "cell_type": "markdown",
   "metadata": {},
   "source": [
    "### Part 2 - changing variable types"
   ]
  },
  {
   "cell_type": "markdown",
   "metadata": {},
   "source": [
    "**Typecasting** is when you change the type of a variable, i.e., changing an integer to a string for example. This can be useful for storage or processing variables. For example, we may store someone's age as an integer, but want to place it within a string for displaying as part of a string. There are several functions in python for doing this, **int(), float(), str()**."
   ]
  },
  {
   "cell_type": "code",
   "execution_count": null,
   "metadata": {},
   "outputs": [],
   "source": [
    "pi = 3.141592\n",
    "print(pi)\n",
    "type(pi)"
   ]
  },
  {
   "cell_type": "code",
   "execution_count": null,
   "metadata": {},
   "outputs": [],
   "source": [
    "pi = str(pi)\n",
    "print(pi)\n",
    "type(pi)"
   ]
  },
  {
   "cell_type": "markdown",
   "metadata": {},
   "source": [
    "Above, we define a variable for pi, this is a float as we have numbers after the decimal point. We then typecast this into a string and check using the **type()** function. "
   ]
  },
  {
   "cell_type": "markdown",
   "metadata": {},
   "source": [
    "<div class=\"alert alert-success\">\n",
    "Using the code block below, redeifne pi as above. Typecast this into an integer. Check the type() and typecast it back into a float. What number would be expect to see when we print out pi?\n",
    "<br/><br/>\n",
    "Could you combine the two typecasting steps in one line? Why might this be useful? \n",
    "\n",
    "</div>"
   ]
  },
  {
   "cell_type": "code",
   "execution_count": 1,
   "metadata": {},
   "outputs": [],
   "source": [
    "pi = 3.141592"
   ]
  },
  {
   "cell_type": "code",
   "execution_count": null,
   "metadata": {},
   "outputs": [],
   "source": [
    "pi = 3.141592"
   ]
  },
  {
   "cell_type": "markdown",
   "metadata": {},
   "source": [
    "### Part 3 - keywords + help"
   ]
  },
  {
   "cell_type": "markdown",
   "metadata": {},
   "source": [
    "There are several special words in python called **`keywords`** that Python reserves for its own use. Variable names cannot be the same as any of these keywords. To see the list of keywords in python, type **`help('keywords')`** and run the cell below."
   ]
  },
  {
   "cell_type": "code",
   "execution_count": null,
   "metadata": {},
   "outputs": [],
   "source": [
    "help('keywords')"
   ]
  },
  {
   "cell_type": "markdown",
   "metadata": {},
   "source": [
    "<div class=\"alert alert-success\"> Would the next cell give an error? If so, how could you fix it? </div>"
   ]
  },
  {
   "cell_type": "code",
   "execution_count": null,
   "metadata": {},
   "outputs": [],
   "source": [
    "if = 123"
   ]
  },
  {
   "cell_type": "markdown",
   "metadata": {},
   "source": [
    "The **help()** function can be used for any function (including your own, more later...), not just to list keywords. For example, we can print the help for the **print** function as in the cell below. \n",
    "<br/><br/>\n",
    "Try and print the help of other functions or the keywords in python and see what is returned. (Remember to keep the **' '** around the term you want help from)."
   ]
  },
  {
   "cell_type": "code",
   "execution_count": null,
   "metadata": {},
   "outputs": [],
   "source": [
    "help('print')"
   ]
  },
  {
   "cell_type": "markdown",
   "metadata": {},
   "source": [
    "***"
   ]
  }
 ],
 "metadata": {
  "kernelspec": {
   "display_name": "Python 3",
   "language": "python",
   "name": "python3"
  },
  "language_info": {
   "codemirror_mode": {
    "name": "ipython",
    "version": 3
   },
   "file_extension": ".py",
   "mimetype": "text/x-python",
   "name": "python",
   "nbconvert_exporter": "python",
   "pygments_lexer": "ipython3",
   "version": "3.11.6"
  }
 },
 "nbformat": 4,
 "nbformat_minor": 2
}
