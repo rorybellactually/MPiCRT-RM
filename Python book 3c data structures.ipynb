{
 "cells": [
  {
   "cell_type": "markdown",
   "metadata": {},
   "source": [
    "# <b>Book 3, part C - Data structures\n",
    "****"
   ]
  },
  {
   "cell_type": "markdown",
   "metadata": {},
   "source": [
    "We have learnt how to store single values in a variable. However, sometimes we need to store more than one value, or link values together in a structured way.  \n",
    "\n",
    "Let's consider a basic example: we want to keep track of what we have in our fridge. With a variable approach, we could create several variables with the number of item in the fridge stored as the value of that variable. \n",
    "\n",
    "For example, imagine we have 1.5 liters of milk, 100g of butter, 3 eggs (is the fridge the right place?), half a lemon and half an onion from yesterday's meal. How would you represent that in variables?\n"
   ]
  },
  {
   "cell_type": "code",
   "execution_count": 2,
   "metadata": {},
   "outputs": [],
   "source": [
    "# some example here:\n",
    "milk = 1.5 # liters\n",
    "lemon = 0.5 # the little piece after yesterday's salad\n",
    "\n",
    "# add the rest of the items plus some of your favourite thing with a made-up value in this theoretical refrigerator\n"
   ]
  },
  {
   "cell_type": "markdown",
   "metadata": {},
   "source": [
    "The problem here is that we have the data stored all around the place... How do we know which variables to call, and what format they might be stored in? What if the variables have been misspelled, or a different formatting case is used (e.g., chocolateMilk vs chocolate_milk)?\n",
    "\n",
    "Let's instead try and keep all this data together. \n",
    "\n",
    "To store data in a more structured format, Python has built in **lists**, **dictionaries**, **sets**, and **tuples**."
   ]
  },
  {
   "cell_type": "markdown",
   "metadata": {},
   "source": [
    "### Part 1 - Lists\n",
    "\n",
    "Lists store a collection of elements. The content of a list can be changed during execution, and that is why you will find text mentioning that lists are 'mutable'. Lists are ordered and allow duplicates.\n",
    "\n",
    "Let's create a list with all items we have above. Lists are defined using square brackets:"
   ]
  },
  {
   "cell_type": "code",
   "execution_count": null,
   "metadata": {},
   "outputs": [],
   "source": [
    "# We can create a list of items using strings\n",
    "fridge_content_as_a_list = ['milk', 'butter', 'egg', 'lemon', 'onion'] \n",
    "print(fridge_content_as_a_list)"
   ]
  },
  {
   "cell_type": "markdown",
   "metadata": {},
   "source": [
    "All elements are kept in order, and are **indexable**. That is, different elements of a list can be accessed using integer indices. As with strings, lists begin with index 0."
   ]
  },
  {
   "cell_type": "code",
   "execution_count": null,
   "metadata": {},
   "outputs": [],
   "source": [
    "print(fridge_content_as_a_list[0])"
   ]
  },
  {
   "cell_type": "markdown",
   "metadata": {},
   "source": [
    "<font color = \"skyblue\">  Try accessing other items... for example, what index would you use to access 'egg'? </font>"
   ]
  },
  {
   "cell_type": "code",
   "execution_count": null,
   "metadata": {},
   "outputs": [],
   "source": [
    "# change the index, originally in zero, until you see 'egg'\n",
    "print(fridge_content_as_a_list[0])\n",
    "\n",
    "# ... and what about 'onion'?\n",
    "print(fridge_content_as_a_list[0])"
   ]
  },
  {
   "cell_type": "code",
   "execution_count": null,
   "metadata": {},
   "outputs": [],
   "source": [
    "# we can change the content of the element in position 1 (butter) for margarine for example:\n",
    "print(fridge_content_as_a_list[1])\n",
    "fridge_content_as_a_list[1] = 'margarine'\n",
    "print(fridge_content_as_a_list[1])"
   ]
  },
  {
   "cell_type": "markdown",
   "metadata": {},
   "source": [
    "We can perform lots of operations with lists. We can add (append) and remove elements. We can join (concatenate) two lists together, etc.  See the code below for some examples:"
   ]
  },
  {
   "cell_type": "code",
   "execution_count": null,
   "metadata": {},
   "outputs": [],
   "source": [
    "fridge_content_as_a_list.append('pizza left-over') # tomorrow's lunch!\n",
    "print(fridge_content_as_a_list)"
   ]
  },
  {
   "cell_type": "code",
   "execution_count": null,
   "metadata": {},
   "outputs": [],
   "source": [
    "fridge_content_as_a_list.remove('milk') # past its date... let's take the milk out\n",
    "print(fridge_content_as_a_list)"
   ]
  },
  {
   "cell_type": "markdown",
   "metadata": {},
   "source": [
    "We can even add repeated values and count them:"
   ]
  },
  {
   "cell_type": "code",
   "execution_count": null,
   "metadata": {},
   "outputs": [],
   "source": [
    "fridge_content_as_a_list.append('lemon') # we got a lemon for free! we can repeat the value in the list\n",
    "print(fridge_content_as_a_list)\n",
    "\n",
    "how_many_lemons = fridge_content_as_a_list.count('lemon')\n",
    "print(how_many_lemons)"
   ]
  },
  {
   "cell_type": "markdown",
   "metadata": {},
   "source": [
    "<font color = \"skyblue\">  Create a new list with other items that you would keep in our theorical fridge and store it in a variable called in_shopping_bag. \n",
    "\n",
    "TODO: add a lemon you got for free!</font> "
   ]
  },
  {
   "cell_type": "code",
   "execution_count": 10,
   "metadata": {},
   "outputs": [],
   "source": [
    "in_shopping_bag = []"
   ]
  },
  {
   "cell_type": "markdown",
   "metadata": {},
   "source": [
    "Now, we can join both lists:"
   ]
  },
  {
   "cell_type": "code",
   "execution_count": null,
   "metadata": {},
   "outputs": [],
   "source": [
    "fridge_content_as_a_list.extend(in_shopping_bag)\n",
    "print(fridge_content_as_a_list)\n",
    "\n",
    "# what do you think the difference is between extend and append? have a look at the documentation: https://docs.python.org/3/tutorial/datastructures.html\n"
   ]
  },
  {
   "cell_type": "markdown",
   "metadata": {},
   "source": [
    "You can use for many different purposes: for examples as stacks or queues.  You can also have lists of lists (to create matrices).  This and more, you can learn in https://docs.python.org/dev/tutorial/datastructures.html#more-on-lists and https://docs.python.org/3/library/stdtypes.html#lists"
   ]
  },
  {
   "cell_type": "markdown",
   "metadata": {},
   "source": [
    "#### Part 2 - Sets\n",
    "\n",
    "Sets are another data structure that keeps a collection of elements and are also mutable (Do you remember what that is? If not, have a look up...). However, sets differ from lists in two main ways. Sets do not allow repeated elements, and are unordered.\n",
    "\n",
    "Let's look back at our refrigerator example and create a set with the content. Check out what happens when we repeat values:"
   ]
  },
  {
   "cell_type": "code",
   "execution_count": null,
   "metadata": {},
   "outputs": [],
   "source": [
    "new_fridge_content_as_a_list = ['milk', 'lemon', 'pizza left-over', 'lemon']  \n",
    "new_fridge_content_as_a_set = {'milk', 'lemon', 'pizza left-over', 'lemon'} \n",
    "\n",
    "print(new_fridge_content_as_a_list)\n",
    "print(new_fridge_content_as_a_set)"
   ]
  },
  {
   "cell_type": "markdown",
   "metadata": {},
   "source": [
    "<font color = \"skyblue\">   What was the difference between the list and the set above?? </font>"
   ]
  },
  {
   "cell_type": "markdown",
   "metadata": {},
   "source": [
    "As sets are not ordered, we cannot access the items like the list by indexing. Try the following cell to see the error message you would get if you did this in a set:"
   ]
  },
  {
   "cell_type": "code",
   "execution_count": null,
   "metadata": {},
   "outputs": [],
   "source": [
    "print(new_fridge_content_as_a_list[0]) # this one works, right?\n",
    "print(new_fridge_content_as_a_set[0])  # Does this? "
   ]
  },
  {
   "cell_type": "markdown",
   "metadata": {},
   "source": [
    "Sets are very memory efficient in checking whether a specific element is contained in a set (faster than lists).\n",
    "\n"
   ]
  },
  {
   "cell_type": "code",
   "execution_count": null,
   "metadata": {},
   "outputs": [],
   "source": [
    "import time\n",
    "\n",
    "# Measure time for set lookup\n",
    "start_time = time.time()\n",
    "print('lemon' in new_fridge_content_as_a_set)\n",
    "set_lookup_time = time.time() - start_time\n",
    "\n",
    "# Measure time for list lookup\n",
    "start_time = time.time()\n",
    "print('lemon' in new_fridge_content_as_a_list)\n",
    "list_lookup_time = time.time() - start_time\n",
    "\n",
    "print(f\"Set lookup time: {set_lookup_time}\")\n",
    "print(f\"List lookup time: {list_lookup_time}\")"
   ]
  },
  {
   "cell_type": "markdown",
   "metadata": {},
   "source": [
    "Like sets in mathematics, Python sets support union, intersection, differences. \n",
    "Let's make a second set, similar to the one above, in_shopping_bag and play with set operations"
   ]
  },
  {
   "cell_type": "code",
   "execution_count": 16,
   "metadata": {},
   "outputs": [],
   "source": [
    "in_shopping_bag = {'lemon', 'sour cream', 'cheese'}  # notice we are overwriting this variable! "
   ]
  },
  {
   "cell_type": "code",
   "execution_count": null,
   "metadata": {},
   "outputs": [],
   "source": [
    "# all items together? -- Union. \n",
    "# There are two ways to do it:\n",
    "a = in_shopping_bag.union(new_fridge_content_as_a_set) # this \n",
    "b = in_shopping_bag | new_fridge_content_as_a_set      \n",
    "print(a)\n",
    "print(b)"
   ]
  },
  {
   "cell_type": "code",
   "execution_count": null,
   "metadata": {},
   "outputs": [],
   "source": [
    "# what items are both in the shopping bag and in the fridge? -- Intersection\n",
    "# There are two ways to do it:\n",
    "a = in_shopping_bag.intersection(new_fridge_content_as_a_set)\n",
    "b = in_shopping_bag & new_fridge_content_as_a_set\n",
    "print(a)\n",
    "print(b)"
   ]
  },
  {
   "cell_type": "code",
   "execution_count": null,
   "metadata": {},
   "outputs": [],
   "source": [
    "# what is in the shopping bag but not in the fridge? -- Difference\n",
    "# ... surely you guessed... there are 2 ways to do it:\n",
    "a = in_shopping_bag.difference(new_fridge_content_as_a_set)\n",
    "b = in_shopping_bag - new_fridge_content_as_a_set\n",
    "print(a)\n",
    "print(b)"
   ]
  },
  {
   "cell_type": "markdown",
   "metadata": {},
   "source": [
    "(If you're interested, look up symmetric difference. How does it differ from regular difference?)"
   ]
  },
  {
   "cell_type": "markdown",
   "metadata": {},
   "source": [
    "<font color = \"skyblue\">   Would it give you the same answer if you change the order in the difference, union and intersection?  Give it a try: </font>"
   ]
  },
  {
   "cell_type": "code",
   "execution_count": null,
   "metadata": {},
   "outputs": [],
   "source": [
    "# copy the line for union, intersection and difference and change the order of the variables... \n",
    "# Which one give you the same result? which one not? \n",
    "\n",
    "\n"
   ]
  },
  {
   "cell_type": "markdown",
   "metadata": {},
   "source": [
    "You can also create sets from other collections, such as lists: "
   ]
  },
  {
   "cell_type": "code",
   "execution_count": null,
   "metadata": {},
   "outputs": [],
   "source": [
    "old_fridge_content_as_a_set = set(fridge_content_as_a_list) # do you remember the fridge of the first exercise?\n",
    "print(fridge_content_as_a_list)\n",
    "print(old_fridge_content_as_a_set)"
   ]
  },
  {
   "cell_type": "code",
   "execution_count": null,
   "metadata": {},
   "outputs": [],
   "source": [
    "\n",
    "items_not_for_the_fridge = set(['garlic','biscuits','salt','salt','salt'])\n",
    "print(items_not_for_the_fridge)"
   ]
  },
  {
   "cell_type": "markdown",
   "metadata": {},
   "source": [
    "You can do other operations in sets.  Check https://docs.python.org/dev/tutorial/datastructures.html#sets  or https://docs.python.org/3/library/stdtypes.html#set "
   ]
  },
  {
   "cell_type": "markdown",
   "metadata": {},
   "source": [
    "#### Part 3 - Dictionaries\n",
    "Up to know we have been keeping track of what we have in the fridge, but not their quantities (as we suggested in the introduction of this book).  With dictionaries, we can solve that!\n",
    "\n",
    "Dictionaries in Python are very similar to real-life (word-definition) dictionaries. They collect elements, where each element is identified with a *key* and has an associated *value*. They are also referred to as 'associative arrays', as it associates a *value* to a given *key*."
   ]
  },
  {
   "cell_type": "markdown",
   "metadata": {},
   "source": [
    "Let's use the name of the item in the fridge as a key, and their quantity as the value.  \n",
    "\n",
    "Let's remember what we originally had:\n",
    "- 1.5 liters of milk, \n",
    "- 100g of butter,\n",
    "- 3 eggs,\n",
    "- half a lemon,\n",
    "- half an onion."
   ]
  },
  {
   "cell_type": "markdown",
   "metadata": {},
   "source": [
    "\n",
    "Let's build a dictionary with this:"
   ]
  },
  {
   "cell_type": "code",
   "execution_count": null,
   "metadata": {},
   "outputs": [],
   "source": [
    "fridge_content_as_a_dict = {'milk':1.5, 'butter':100, 'eggs':3, 'lemon':0.5,'onion':0.5}\n",
    "print(fridge_content_as_a_dict)"
   ]
  },
  {
   "cell_type": "markdown",
   "metadata": {},
   "source": [
    "The main operations on a dictionary are storing a value with some key and extracting the value given the key."
   ]
  },
  {
   "cell_type": "code",
   "execution_count": null,
   "metadata": {},
   "outputs": [],
   "source": [
    "print(fridge_content_as_a_dict['milk']) # getting the value of a key, here milk"
   ]
  },
  {
   "cell_type": "code",
   "execution_count": null,
   "metadata": {},
   "outputs": [],
   "source": [
    "fridge_content_as_a_dict['left overs'] = 'pizza'\n",
    "print(fridge_content_as_a_dict)\n",
    "print(fridge_content_as_a_dict['left overs'])"
   ]
  },
  {
   "cell_type": "markdown",
   "metadata": {},
   "source": [
    "A very important property for the keys is that they need to be unique!  If we use a key again, the value will simply be overwritten:"
   ]
  },
  {
   "cell_type": "code",
   "execution_count": null,
   "metadata": {},
   "outputs": [],
   "source": [
    "fridge_content_as_a_dict['left overs'] = 'pasta'\n",
    "print(fridge_content_as_a_dict['left overs'])"
   ]
  },
  {
   "cell_type": "markdown",
   "metadata": {},
   "source": [
    "And if we use a key not previously defined, we will get a 'KeyError' error.  Check below to see what error message you would get if you try to access a non existing key:"
   ]
  },
  {
   "cell_type": "code",
   "execution_count": null,
   "metadata": {},
   "outputs": [],
   "source": [
    "print(fridge_content_as_a_dict['healthy food'])"
   ]
  },
  {
   "cell_type": "markdown",
   "metadata": {},
   "source": [
    "To avoid that error, we better ask whether a given dictionary has a given key!"
   ]
  },
  {
   "cell_type": "code",
   "execution_count": null,
   "metadata": {},
   "outputs": [],
   "source": [
    "'healthy food' in fridge_content_as_a_dict # note that in notebooks formats (.ipynb), the output of the last line is automatically printed if it returns a value"
   ]
  },
  {
   "cell_type": "markdown",
   "metadata": {},
   "source": [
    "Keys can be of multiple types, but they should always be 'non-mutable'. For example:"
   ]
  },
  {
   "cell_type": "code",
   "execution_count": null,
   "metadata": {},
   "outputs": [],
   "source": [
    "fridge_content_as_a_dict[0] = 'is a zero food?'\n",
    "fridge_content_as_a_dict[True] = 3.12\n",
    "print(fridge_content_as_a_dict)"
   ]
  },
  {
   "cell_type": "markdown",
   "metadata": {},
   "source": [
    "And as with lists and sets, there are many things you can do with dictionaries.  Check https://docs.python.org/dev/tutorial/datastructures.html#dictionaries and https://docs.python.org/3/library/stdtypes.html#mapping-types-dict "
   ]
  },
  {
   "cell_type": "markdown",
   "metadata": {},
   "source": [
    "#### Part 4 - Tuples\n",
    "And last, but not least, are the tuples. Tuples contain ordered collections of elements, just like the lists... "
   ]
  },
  {
   "cell_type": "code",
   "execution_count": null,
   "metadata": {},
   "outputs": [],
   "source": [
    "shopping_bag_as_a_list = ['lemon','garlic',0]\n",
    "shopping_bag_as_a_tuple = ('lemon','garlic',0)  # Notice, what's the difference ?\n",
    "\n",
    "print(shopping_bag_as_a_list[1])\n",
    "print(shopping_bag_as_a_tuple[1])"
   ]
  },
  {
   "cell_type": "markdown",
   "metadata": {},
   "source": [
    "... but unlike list, tuples are immutable.  This means that the content of a tuple cannot be changed after they have been defined! \n",
    "\n",
    "Run the following cell to see the error message."
   ]
  },
  {
   "cell_type": "code",
   "execution_count": null,
   "metadata": {},
   "outputs": [],
   "source": [
    "shopping_bag_as_a_list[0] = 'bread'\n",
    "shopping_bag_as_a_tuple[0] = 'bread'"
   ]
  },
  {
   "cell_type": "markdown",
   "metadata": {},
   "source": [
    "<font color = \"skyblue\">    Why would Python bother to define tuples?? That is an excellent question. \n",
    "\n",
    "Think about it (for example, think about the dictionary keys) and tell us what you think... or alternatively, google it ;-). </font>"
   ]
  },
  {
   "cell_type": "markdown",
   "metadata": {},
   "source": [
    "More information? \n",
    "- https://docs.python.org/dev/tutorial/datastructures.html \n",
    "- https://docs.python.org/3/library/stdtypes.html \n",
    "- https://www.dataquest.io/blog/data-structures-in-python/ "
   ]
  }
 ],
 "metadata": {
  "kernelspec": {
   "display_name": "base",
   "language": "python",
   "name": "python3"
  },
  "language_info": {
   "codemirror_mode": {
    "name": "ipython",
    "version": 3
   },
   "file_extension": ".py",
   "mimetype": "text/x-python",
   "name": "python",
   "nbconvert_exporter": "python",
   "pygments_lexer": "ipython3",
   "version": "3.12.9"
  }
 },
 "nbformat": 4,
 "nbformat_minor": 2
}
